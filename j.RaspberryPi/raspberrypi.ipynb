{
 "cells": [
  {
   "cell_type": "markdown",
   "metadata": {},
   "source": [
    "# Raspberry Pi\n",
    "\n",
    "A continuación, se presenta una introducción al diseño e implementación de aplicaciones Python en sistemas Raspberry Pi, mediante el uso de bibliotecas externas, acceso a los pines GPIO (General-Purpose Input/Output) y acceso a la cámara [1, 2, 3].\n",
    "\n",
    "\n",
    "### Primeros pasos: Python y Raspberry Pi\n",
    "Requerimientos:\n",
    "* Raspberry Pi, USB power source (1A), teclado USB, ratón USB, monitor HDMI, tarjeta SD/microSD, hub USB, adaptador WiFi, etc.\n",
    "\n",
    "Instalación sistema operativo:\n",
    "* Raspbian, Ubuntu MATE, Snappy Ubuntu Core, Windows 10 IoT Core, OSMC, LibreELEC, PiNet, RISC OSm, Oracle Weather Station, IchigoJam RPi, etc.\n",
    "* https://www.raspberrypi.org/downloads/\n",
    "\n",
    "\n",
    "### Threading & multitasking\n",
    "La multitarea permite a una aplicación tener múltiples flujos de control que se ejecutan de manera simultánea. En el desarrollo de aplicaciones para Raspberry Pi, esta característica puede ser muy útil ya que permite monitorizar y gestionar los diferentes pines GPIO y actuar en consecuencia, todo ello de manera simultánea.\n",
    "\n",
    "Sólo se presentarán unas pinceladas de esta materia ya que es un tema tan complejo que podría ser materia de estudio para un curso anual completo. Para profundizar más, recomendamos al lector hacer uso de la documentación oficial, la cual se encuentra en el siguiente enlace:\n",
    "\n",
    "* https://docs.python.org/3/library/threading.html\n",
    "\n",
    "Ejemplo de funcionamiento:"
   ]
  },
  {
   "cell_type": "code",
   "execution_count": null,
   "metadata": {},
   "outputs": [],
   "source": [
    "# -*- coding: utf-8 -*-\n",
    "import _thread\n",
    "import time\n",
    "\n",
    "MAX_COUNTER = 10\n",
    "\n",
    "# Define a function for the thread\n",
    "def print_time(thread_name, delay):\n",
    "   count = 0\n",
    "   while count < MAX_COUNTER:\n",
    "      time.sleep(delay)\n",
    "      count += 1\n",
    "      print(\"%s: %s\" % (thread_name, time.ctime(time.time())))\n",
    "\n",
    "# Create two threads as follows\n",
    "try:\n",
    "   _thread.start_new_thread(print_time, (\"Thread-1\", 2,))\n",
    "   _thread.start_new_thread(print_time, (\"Thread-2\", 4,))\n",
    "except:\n",
    "   print(\"Error: unable to start thread\")\n",
    "\n",
    "while 1:\n",
    "   pass"
   ]
  },
  {
   "cell_type": "markdown",
   "metadata": {},
   "source": [
    "### Raspberry Pi GPIO pins\n",
    "Todo dispositivo Raspberry Pi dispone de un conjunto de pines GPIO a lo largo de uno de los ejes de la placa (hasta 40-pin GPIO):\n",
    "\n",
    "<img src=\"./raspberrypi1.png\" width=\"500\">\n",
    "\n",
    "Todo pin GPIO puede designarse a través de software tanto como un pin de entrada como de salida, para un amplio rango de propósitos.\n",
    "\n",
    "<img src=\"./raspberrypi2.png\" width=\"500\">\n",
    "\n",
    "Todo pin GPIO de entrada y salida salida puede ser establecido a high (3V) o low (0V).\n",
    "\n",
    "\n",
    "#### Librería gpiozero\n",
    "\n"
   ]
  },
  {
   "cell_type": "code",
   "execution_count": null,
   "metadata": {},
   "outputs": [],
   "source": [
    "pip install gpiozero"
   ]
  },
  {
   "cell_type": "markdown",
   "metadata": {},
   "source": [
    "Ejemplo LED:"
   ]
  },
  {
   "cell_type": "code",
   "execution_count": null,
   "metadata": {},
   "outputs": [],
   "source": [
    "from gpiozero import LED\n",
    "from time import sleep\n",
    "\n",
    "led = LED(17)\n",
    "\n",
    "while True:\n",
    "    led.on()\n",
    "    sleep(1)\n",
    "    led.off()\n",
    "    sleep(1)"
   ]
  },
  {
   "cell_type": "markdown",
   "metadata": {},
   "source": [
    "Ejemplo LED y button:"
   ]
  },
  {
   "cell_type": "code",
   "execution_count": null,
   "metadata": {},
   "outputs": [],
   "source": [
    "from gpiozero import LED, Button\n",
    "from signal import pause\n",
    "\n",
    "led = LED(17)\n",
    "button = Button(3)\n",
    "\n",
    "button.when_pressed = led.on\n",
    "button.when_released = led.off\n",
    "\n",
    "pause()"
   ]
  },
  {
   "cell_type": "markdown",
   "metadata": {},
   "source": [
    "Referencias:\n",
    "- [1] Nixon, D. (2015). Getting Started with Python and Raspberry Pi. \"Packt Publishing Ltd.\".\n",
    "- [2] GPIO – Raspberry Pi Documentation (2019). https://www.raspberrypi.org/documentation/usage/gpio/ \n",
    "- [3] A simple interface to GPIO devices with Raspberry Pi. https://gpiozero.readthedocs.io "
   ]
  }
 ],
 "metadata": {
  "kernelspec": {
   "display_name": "Python 3",
   "language": "python",
   "name": "python3"
  },
  "language_info": {
   "codemirror_mode": {
    "name": "ipython",
    "version": 3
   },
   "file_extension": ".py",
   "mimetype": "text/x-python",
   "name": "python",
   "nbconvert_exporter": "python",
   "pygments_lexer": "ipython3",
   "version": "3.6.8"
  }
 },
 "nbformat": 4,
 "nbformat_minor": 2
}
