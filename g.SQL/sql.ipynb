{
 "cells": [
  {
   "cell_type": "markdown",
   "metadata": {},
   "source": [
    "# Bases de datos y SQL\n",
    "\n",
    "En los próximos minutos vamos a conocer los aspectos básicos para poder empezar a trabajar con bases de datos en Python. No vamos a introducir el lenguaje SQL, ya que se asume que el lector posee un conocimiento básico sobre qué es SQL y cómo se utiliza.\n",
    "\n",
    "En el siguiente PEP ([PEP 249 - The Python Database API Specification](https://www.python.org/dev/peps/pep-0249/)) encontramos las instrucciones básicas para conocer cómo se debe interactuar con las bases de datos a través de Python. Aunque existen diferencias notables entre cada uno de los sistemas de gestión de bases de datos, debería ser similar el uso de distintas bases de datos como SQLite, PostgreeSQL o MySQL, etc.\n",
    "\n",
    "El primer concepto que debe quedarle claro al lector es que el primer paso a realizar es importar un driver; esto es, el API para la base de datos específica que se desa utilizar. Las más utilizadas son: \n",
    "* [psycopg2](http://initd.org/psycopg/)\n",
    "* [MySQL Connector/Python](https://dev.mysql.com/doc/connector-python/en/)\n",
    "* [sqlite3](https://docs.python.org/2/library/sqlite3.html)\n",
    "\n",
    "En este tutorial abordaremos el uso de Python con SQLite y SQLAlchemy.\n",
    "\n",
    "\n",
    "\n",
    "> **_NOTA:_**  **Python Enhancement Proposal (PEP)**.\n",
    "El desarrollo del lenguaje de programación Python se lleva a cabo a través del proceso *Python Enhancement Proposal (PEP)*, mediante el cual se proponen las nuevas características a la comunidad Python para poder llegar a un consenso. Los PEP destacados son revisados y comentados por la comunidad de Python y el consejo directivo. Como ejemplos, tenemos el *Python coding style* ([PEP 8](https://www.python.org/dev/peps/pep-0008/)) o el *Zen of Python* ([PEP 20](https://www.python.org/dev/peps/pep-0020/)).\n",
    "\n",
    "\n",
    "\n",
    "### SQLite\n",
    "\n",
    "SQLite es una librería desarrollada en C que proporciona una base de datos ligera basada en disque que no requiere un procesor servidor separado y permite acceder a una base de datos utilizando una variante del lenguaje SQL. Muchas aplicaciones pueden utilizar SQLite para almacenamiento interno. Las bases de datos SQLite son la columna vertebral de muchas aplicaciones, aunque siempre deben mantenerse pequeñas. Ademas, es posible hacer uso de SQLite para un prototipo y posteriormente portar el código a un sistema de gestión de base de datos más potente como PostgreSQL o Oracle. \n"
   ]
  },
  {
   "cell_type": "code",
   "execution_count": 2,
   "metadata": {},
   "outputs": [],
   "source": [
    "import sqlite3"
   ]
  },
  {
   "cell_type": "markdown",
   "metadata": {},
   "source": [
    "#### Conexión a una base de datos\n",
    "\n",
    "El primer paso que hay que hacer es realizar una conexión a la base de datos. Usualmente, será necesario conocer la siguiente información para realizar la conexión:\n",
    "* hostname\n",
    "* port\n",
    "* username\n",
    "* password\n",
    "* database name\n",
    "\n",
    "SQLite es una base de datos embebida que se encuentra almacenada en un fichero en disco, y debe ser operada por un único programa. Por tanto, para crear una conexión a una base de datos SQLite, únicamente es necesario apuntar a un fichero en disco."
   ]
  },
  {
   "cell_type": "code",
   "execution_count": 3,
   "metadata": {},
   "outputs": [],
   "source": [
    "DBPATH = 'people.db'\n",
    "conn = sqlite3.connect(DBPATH)"
   ]
  },
  {
   "cell_type": "markdown",
   "metadata": {},
   "source": [
    "En este punto, el lector observará que un fichero con nombre *people.db* ha sido creado en el directorio de trabajo actual.\n",
    "\n",
    "El método connect devuelte un objeto de tipo conexión que ha sido nombrado conn. A través del objeto conn se podrá manipular la conexión con la base de datos incluyendo los siguientes métodos:\n",
    "* conn.commit() - commit any changes back to the database\n",
    "* conn.close() - close our connection to the database and tidy up\n",
    "\n",
    "Sin embargo, para ejecutar una sentencia SQL contra la base de datos para insertar --INSERT-- o seleccionar registros --SELECT--, es necesario crear un cursor:"
   ]
  },
  {
   "cell_type": "code",
   "execution_count": 4,
   "metadata": {},
   "outputs": [],
   "source": [
    "cursor = conn.cursor()"
   ]
  },
  {
   "cell_type": "markdown",
   "metadata": {},
   "source": [
    "Un cursor es esencialmente un puntero a la base de datos; un cursor posee los siguientes métodos:\n",
    "* cursor.execute() - executes a SQL string against the database\n",
    "* cursor.fetchone() - fetch a single row back from the executed query\n",
    "* cursor.fetchall() - fetch all results back from the executed query\n",
    "\n",
    "Juntos, cursores y conexiones conforman la manera básica de interactuar con una base de datos SQLite.\n",
    "\n",
    "\n",
    "#### Descripción de la base de datos\n",
    "\n",
    "El primer paso que hay que llevar a cabo es describir el tipo de datos que vamos a manejar en la base de datos mediante la creación de un *schema*. Para este taller, crearemos una aplicación simple de contactos; el esquema será el siguiente:\n",
    "\n",
    "\n",
    "<img src=\"./database-contacts.png\" width=\"400\">\n",
    "\n",
    "\n",
    "En la imagen se observan dos tablas, contactos --nombre, email y compañia-- y compañías/organizaciones/empresas --nombre--. Para crear la tabla de empresas ejecutaríamos la sentencia SQL de la siguiente manera:"
   ]
  },
  {
   "cell_type": "code",
   "execution_count": 5,
   "metadata": {},
   "outputs": [
    {
     "data": {
      "text/plain": [
       "<sqlite3.Cursor at 0x7fe0a14e6c70>"
      ]
     },
     "execution_count": 5,
     "metadata": {},
     "output_type": "execute_result"
    }
   ],
   "source": [
    "sql = (\n",
    "    \"CREATE TABLE IF NOT EXISTS companies (\"\n",
    "    \"    id INTEGER PRIMARY KEY AUTOINCREMENT,\"\n",
    "    \"    name TEXT NOT NULL\"\n",
    "    \")\"\n",
    ")\n",
    "\n",
    "cursor.execute(sql)"
   ]
  },
  {
   "cell_type": "markdown",
   "metadata": {},
   "source": [
    "A continuación, se deberá escribir y ejecutar la sentencia SQL para crear la tabla de contactos."
   ]
  },
  {
   "cell_type": "code",
   "execution_count": 6,
   "metadata": {},
   "outputs": [],
   "source": [
    "# Create the contacts table"
   ]
  },
  {
   "cell_type": "markdown",
   "metadata": {},
   "source": [
    "#### Inserción de registros\n",
    "\n",
    "Una vez creada la base de datos con el esquema deseado, el siguiente paso es insertar registros en ella; Vamos a añadir la Georgetown University a la tabla de compañías."
   ]
  },
  {
   "cell_type": "code",
   "execution_count": 7,
   "metadata": {},
   "outputs": [],
   "source": [
    "sql = \"INSERT INTO companies (name) VALUES (?)\"\n",
    "cursor.execute(sql, (\"Georgetown University\",))\n",
    "conn.commit()"
   ]
  },
  {
   "cell_type": "markdown",
   "metadata": {},
   "source": [
    "En las líneas de código anteriores, se ha creado esencialmente una plantilla SQL para insertar los nombres de las compañías en la tabla correspondiente. Como habrá podido observar el lector, no se ha asignado un id, ya que se generará de manera automática mediante la propiedad AUTOINCREMENT de ese campo de la base de datos.\n",
    "\n",
    "El carácter ? es un parámetro de la sentencia SQL, y puede ser utilizado como un parámetro de sustitución para cualquier entrada que realice el usuario. Los valores para el parámetro son pasados como el segundo argumento como una tupla. En general, no deberían utilizarse métodos de formateo de cadenas string tales como:\n",
    "\n",
    "> sql = \"INSERT INTO companies (name) VALUES ({})\".format(\"Georgetown University\")\n",
    "\n",
    "Esta forma de proceder es potencialmente no segura. Por otro lado, los parámetros ? realizan una gran cantidad de trabajo por detrás para asegurar que el comportamiento es correcto y seguro.\n",
    "\n",
    "Vamos a continuar insertando otro registro usando la misma instrucción SQL."
   ]
  },
  {
   "cell_type": "code",
   "execution_count": 8,
   "metadata": {},
   "outputs": [],
   "source": [
    "cursor.execute(sql, (\"US Department of Commerce\",))\n",
    "conn.commit()"
   ]
  },
  {
   "cell_type": "markdown",
   "metadata": {},
   "source": [
    "El último punto que vamos a tratar es la llamada al método commit. Nada es escrito en la base de datos hasta que es llamado el método commit. Esta forma de proceder proporciona una habilidad interesante a la hora de realizar transacciones; una serie de consultas SQL se completarán de forma correcta y conjunta una vez realizamos el commit. Sin embargo, si algo no funciona de la manera esperada durante la ejecución, no se realizará la llamada a commit y se realizará, de facto, un *rollback*.\n",
    "\n",
    "\n",
    "#### Selección de registros\n",
    "\n",
    "Antes de continuar con la insercción de contactos, debemos conocer el identificador de la compañía del contacto que se desea insertar en la base de datos. Sin embargo, como se ha insertado mediante el uso de la característica de autoincremento, no es conocido el valor de los identificadores de la tabla que contiene los datos de las compañías. Para leer los datos, tendrán que ser buscados de la siguiente manera:"
   ]
  },
  {
   "cell_type": "code",
   "execution_count": 10,
   "metadata": {},
   "outputs": [
    {
     "name": "stdout",
     "output_type": "stream",
     "text": [
      "(1,)\n"
     ]
    }
   ],
   "source": [
    "cursor.execute(\"SELECT id FROM companies WHERE name=?\", (\"Georgetown University\",))\n",
    "print(cursor.fetchone())"
   ]
  },
  {
   "cell_type": "markdown",
   "metadata": {},
   "source": [
    "Para obtener el registro deseado, se hace uso de la selección de registros mediante la cláusula SELECT con el parámetro \"Georgetown University\" --tupla--.\n",
    "\n",
    "El método fetchone obtiene el primer registro que encuentra. Hay que destacar que el nombre de las compañías no han sido definidos como únicos, por tanto, podrían haber varios registros con nombre \"Georgetown University\". Si se desea obtener todos los registros se puede realizar mediante el método fetchall.\n",
    "\n",
    "Para insertar un contacto que trabaja en la Georgetown University se deberá ejecutar una sentencia similar a la siguiente:"
   ]
  },
  {
   "cell_type": "code",
   "execution_count": 12,
   "metadata": {},
   "outputs": [
    {
     "ename": "OperationalError",
     "evalue": "no such table: contacts",
     "output_type": "error",
     "traceback": [
      "\u001b[0;31m---------------------------------------------------------------------------\u001b[0m",
      "\u001b[0;31mOperationalError\u001b[0m                          Traceback (most recent call last)",
      "\u001b[0;32m<ipython-input-12-5f4542517998>\u001b[0m in \u001b[0;36m<module>\u001b[0;34m\u001b[0m\n\u001b[1;32m      1\u001b[0m \u001b[0msql\u001b[0m \u001b[0;34m=\u001b[0m \u001b[0;34m\"INSERT INTO contacts (name, email, company_id) VALUES (?,?,?)\"\u001b[0m\u001b[0;34m\u001b[0m\u001b[0;34m\u001b[0m\u001b[0m\n\u001b[0;32m----> 2\u001b[0;31m \u001b[0mcursor\u001b[0m\u001b[0;34m.\u001b[0m\u001b[0mexecute\u001b[0m\u001b[0;34m(\u001b[0m\u001b[0msql\u001b[0m\u001b[0;34m,\u001b[0m \u001b[0;34m(\u001b[0m\u001b[0;34m\"Benjamin Bengfort\"\u001b[0m\u001b[0;34m,\u001b[0m \u001b[0;34m\"bb830@georgetown.edu\"\u001b[0m\u001b[0;34m,\u001b[0m \u001b[0;36m1\u001b[0m\u001b[0;34m)\u001b[0m\u001b[0;34m)\u001b[0m\u001b[0;34m\u001b[0m\u001b[0;34m\u001b[0m\u001b[0m\n\u001b[0m\u001b[1;32m      3\u001b[0m \u001b[0mconn\u001b[0m\u001b[0;34m.\u001b[0m\u001b[0mcommit\u001b[0m\u001b[0;34m(\u001b[0m\u001b[0;34m)\u001b[0m\u001b[0;34m\u001b[0m\u001b[0;34m\u001b[0m\u001b[0m\n",
      "\u001b[0;31mOperationalError\u001b[0m: no such table: contacts"
     ]
    }
   ],
   "source": [
    "sql = \"INSERT INTO contacts (name, email, company_id) VALUES (?,?,?)\" \n",
    "cursor.execute(sql, (\"Benjamin Bengfort\", \"bb830@georgetown.edu\", 1))\n",
    "conn.commit()"
   ]
  },
  {
   "cell_type": "markdown",
   "metadata": {},
   "source": [
    "A partir de este momento, el lector debe ser capaz de insertar algunos contactos y compañías."
   ]
  },
  {
   "cell_type": "code",
   "execution_count": 11,
   "metadata": {},
   "outputs": [],
   "source": [
    "# Insert some contacts and companies using the methods described above."
   ]
  },
  {
   "cell_type": "markdown",
   "metadata": {},
   "source": [
    "##### Workshop\n",
    "\n",
    "A partir de este momento, el lector deberá ser capaz de realizar una pequeña aplicación en Python que realice los siguientes requerimientos:\n",
    "* Insertar contactos en la base de datos añadiendo el nombre, email y el nómbre de la compañía\n",
    "* Mostrar la lista de compañías y el número de contactos asociados a ella\n",
    "\n",
    "Utilizar el siguiente fragmento de código incompleto como plantilla para la realización del *workshop*:"
   ]
  },
  {
   "cell_type": "code",
   "execution_count": 14,
   "metadata": {},
   "outputs": [
    {
     "ename": "SyntaxError",
     "evalue": "invalid syntax (<ipython-input-14-757cb19de80d>, line 50)",
     "output_type": "error",
     "traceback": [
      "\u001b[0;36m  File \u001b[0;32m\"<ipython-input-14-757cb19de80d>\"\u001b[0;36m, line \u001b[0;32m50\u001b[0m\n\u001b[0;31m    print \"There are now {} contacts\".format(*contacts)\u001b[0m\n\u001b[0m                                    ^\u001b[0m\n\u001b[0;31mSyntaxError\u001b[0m\u001b[0;31m:\u001b[0m invalid syntax\n"
     ]
    }
   ],
   "source": [
    "import os\n",
    "import sqlite3\n",
    "\n",
    "def create_tables(conn):\n",
    "    \"\"\"\n",
    "    Write your CREATE TABLE statements in this function and execute\n",
    "    them with the passed in connection. \n",
    "    \"\"\"\n",
    "    # TODO: fill in. \n",
    "    pass\n",
    "\n",
    "\n",
    "def connect(path=\"people.db\", syncdb=False):\n",
    "    \"\"\"\n",
    "    Connects to the database and ensures there are tables.\n",
    "    \"\"\"\n",
    "    \n",
    "    # Check if the SQLite file exists, if not create it.\n",
    "    if not os.path.exists(path):\n",
    "        syncdb=True\n",
    "\n",
    "    # Connect to the sqlite database\n",
    "    conn = sqlite3.connect(path)\n",
    "    if syncdb:\n",
    "        create_tables(conn)\n",
    "    \n",
    "    return conn\n",
    "\n",
    "\n",
    "def insert(name, email, company, conn=None):\n",
    "    if not conn: conn = connect()\n",
    "\n",
    "    # Attempt to select company by name first. \n",
    "    \n",
    "    # If not exists, insert and select new id.\n",
    "    \n",
    "    # Insert contact\n",
    "\n",
    "    \n",
    "if __name__ == \"__main__\":\n",
    "    name    = raw_input(\"Enter name: \")\n",
    "    email   = raw_input(\"Enter email: \")\n",
    "    company = raw_input(\"Enter company: \")\n",
    "    \n",
    "    conn = connect()\n",
    "    insert(name, email, company, conn)\n",
    "\n",
    "    # Change below to count contacts per company! \n",
    "    contacts = conn.execute(\"SELECT count(id) FROM contacts\").fetchone()\n",
    "    print \"There are now {} contacts\".format(*contacts)\n",
    "\n",
    "    conn.close()"
   ]
  },
  {
   "cell_type": "markdown",
   "metadata": {},
   "source": [
    "\n",
    "**Ejemplo:**\n",
    "\n",
    "A continuación vamos a ver un ejemplo guiado en el que veremos el funcionamiento básico y el flujo de SQLite, todo ello mediante un código fuente _\"pythonic\"_. Trabajaremos con una base de datos con una única tabla que contendrá la información básica de jugadores de baloncesto de la NBA, de la siguiente manera:\n",
    "\n",
    "<img src=\"./database-players.png\" width=\"150\">\n",
    "\n"
   ]
  },
  {
   "cell_type": "code",
   "execution_count": 6,
   "metadata": {},
   "outputs": [
    {
     "name": "stdout",
     "output_type": "stream",
     "text": [
      "[(1, 'Giannis', 'Antetokounmpo', 2.11, 109.8, 24), (2, 'Luka', 'Doncic', 1.96, 98.9, 20), (3, 'James', 'Harden', 1.96, 99.8, 29)]\n",
      "[(1, 'Giannis', 'Antetokounmpo', 2.11, 109.8, 24), (2, 'Luka', 'Doncic', 1.96, 98.9, 20)]\n"
     ]
    }
   ],
   "source": [
    "# -*- coding: utf-8 -*-\n",
    "import sqlite3\n",
    "from player import Player\n",
    "\n",
    "# Connect\n",
    "conn = sqlite3.connect(':memory:')\n",
    "\n",
    "# Create a cursor\n",
    "c = conn.cursor()\n",
    "\n",
    "# Create table\n",
    "c.execute(\"\"\"CREATE TABLE players (\n",
    "             id integer PRIMARY KEY AUTOINCREMENT,\n",
    "             first text,\n",
    "             last text,\n",
    "             height real,\n",
    "             weight real,\n",
    "             age integer\n",
    "             )\"\"\")\n",
    "\n",
    "\n",
    "def insert_player(player):\n",
    "    with conn:\n",
    "        c.execute(\"INSERT INTO players (first, last, height, weight, age) VALUES (:first, :last, :height, :weight, :age)\",\n",
    "                  {'first': player.first,\n",
    "                  'last': player.last,\n",
    "                  'height': player.height,\n",
    "                  'weight': player.weight,\n",
    "                  'age': player.age})\n",
    "\n",
    "\n",
    "def get_players():\n",
    "    c.execute(\"SELECT * FROM players\")\n",
    "    return c.fetchall()\n",
    "\n",
    "\n",
    "def update_weight(player, weight):\n",
    "    with conn:\n",
    "        c.execute(\"\"\"UPDATE players SET weight = :weight\n",
    "                    WHERE first = :first AND last = :last\"\"\",\n",
    "                  {'first': player.first, 'last': player.last, 'weight': player.weight})\n",
    "\n",
    "\n",
    "def remove_player(player):\n",
    "    with conn:\n",
    "        c.execute(\"DELETE from players WHERE first = :first AND last = :last\",\n",
    "                  {'first': player.first, 'last': player.last})\n",
    "        \n",
    "\n",
    "# Players\n",
    "player_1 = Player('Giannis', 'Antetokounmpo', 2.11, 109.8, 24)\n",
    "player_2 = Player('Luka', 'Doncic', 1.96, 98.9, 20)\n",
    "player_3 = Player('James', 'Harden', 1.96, 99.8, 29)\n",
    "\n",
    "# Insert players into DB\n",
    "insert_player(player_1)\n",
    "insert_player(player_2)\n",
    "insert_player(player_3)\n",
    "\n",
    "# Get players\n",
    "players = get_players()\n",
    "print(players)\n",
    "\n",
    "# Update info of some players\n",
    "update_weight(player_2, 100.5)\n",
    "\n",
    "# Remove player\n",
    "remove_player(player_3)\n",
    "\n",
    "# Get players\n",
    "players = get_players()\n",
    "print(players)\n",
    "\n",
    "conn.close()"
   ]
  },
  {
   "cell_type": "markdown",
   "metadata": {},
   "source": [
    "### SQLAlchemy"
   ]
  },
  {
   "cell_type": "code",
   "execution_count": null,
   "metadata": {},
   "outputs": [],
   "source": []
  },
  {
   "cell_type": "code",
   "execution_count": null,
   "metadata": {},
   "outputs": [],
   "source": []
  },
  {
   "cell_type": "code",
   "execution_count": null,
   "metadata": {},
   "outputs": [],
   "source": []
  },
  {
   "cell_type": "code",
   "execution_count": null,
   "metadata": {},
   "outputs": [],
   "source": []
  },
  {
   "cell_type": "markdown",
   "metadata": {},
   "source": [
    "Referencias:\n",
    "- [1] A brief tutorial on SQL with Python (using SQLite). https://github.com/georgetown-analytics/sql-tutorial\n",
    "- [2] Python SQLite Tutorial: Complete Overview. https://www.youtube.com/watch?v=pd-0G0MigUA\n",
    "- [3] Python SQLite (sqlite3). https://docs.python.org/2/library/sqlite3.html\n"
   ]
  }
 ],
 "metadata": {
  "kernelspec": {
   "display_name": "Python 3",
   "language": "python",
   "name": "python3"
  },
  "language_info": {
   "codemirror_mode": {
    "name": "ipython",
    "version": 3
   },
   "file_extension": ".py",
   "mimetype": "text/x-python",
   "name": "python",
   "nbconvert_exporter": "python",
   "pygments_lexer": "ipython3",
   "version": "3.6.8"
  }
 },
 "nbformat": 4,
 "nbformat_minor": 2
}
