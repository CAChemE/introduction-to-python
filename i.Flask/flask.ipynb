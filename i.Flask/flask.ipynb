{
 "cells": [
  {
   "cell_type": "markdown",
   "metadata": {},
   "source": [
    "# Flask\n",
    "A continuación, se va a presentar una serie de características básicas del microframework Flask para el desarrollo de proyectos web. Para ello, se hará uso del material publicado en el siguiente [blog](https://blog.miguelgrinberg.com/post/the-flask-mega-tutorial-part-i-hello-world), donde el autor a través de ejemplos, guía al lector para la creación de un sitio web de *microblogging*.\n",
    "\n",
    "\n",
    "## Flask microframework\n",
    "Flask es un microframework web para Python, basado en [Werkzeug](https://palletsprojects.com/p/werkzeug/) y [Jinja 2](http://jinja.pocoo.org/), escrito en Python y con licencia BSD. Se clasifica como microframework ya que no requiere una serie de herramientas o librerías particulares. Flask es uno de los frameworks web más populares para Python aunque no es el único ([Web Frameworks for Python](https://wiki.python.org/moin/WebFrameworks)).\n",
    "\n",
    "Flask soporta extensiones que pueden añadir nuevas características como si hubieran sido implementadas en Flask. Entre las extensiones encontramos ORMs, validación, autenticación, etc.\n",
    "\n",
    "\n",
    "### Instalación\n",
    "Para instalar Flask, se hará uso del siguiente comando, tal y como se ha visto hasta ahora en el curso de introducción a Python."
   ]
  },
  {
   "cell_type": "code",
   "execution_count": null,
   "metadata": {},
   "outputs": [],
   "source": [
    "pip install flask"
   ]
  },
  {
   "cell_type": "markdown",
   "metadata": {},
   "source": [
    "Para confirmar que la instalación de Flask ha sido correcta, basta con importar Flask en el intérprete de Python:"
   ]
  },
  {
   "cell_type": "code",
   "execution_count": null,
   "metadata": {},
   "outputs": [],
   "source": [
    "import flask"
   ]
  },
  {
   "cell_type": "markdown",
   "metadata": {},
   "source": [
    "### Aplicación Flask \"Hello, World\"\n",
    "En la página principal de [Flask](http://flask.pocoo.org/), existe una aplicación simple de sólo cinco líneas que muestra el potencial de Flask. \n",
    "\n",
    "**Ejercicio**: Realizar el ejemplo de la página de Flask.\n",
    "\n",
    "A continuación, se mostrará un ejemplo un poco más elaborado que proporcionará una estructura base común para el desarrollo de aplicaciones más extensas.\n",
    "\n",
    "La aplicación existira en un *package*. En Python, un subdirectorio que incluye un fichero `__init__.py` es considerado como un paquete, y por tanto, puede ser importado. Cuando se importa un paquete, el fichero `__init__.py` ejecuta y define qué símbolos expone hacia el exterior del *package*.\n",
    "\n",
    "El primer paso será la creación de un directorio, el cual contendrá la aplicación web. Para ello, ejecutaremos los siguientes comandos:\n",
    "> mkdir microblog  \n",
    "> cd microblog  \n",
    "> mkdir app  \n"
   ]
  },
  {
   "cell_type": "markdown",
   "metadata": {},
   "source": [
    "El fichero `__init__.py` del paquete **app** contendrá el siguiente código fuente:"
   ]
  },
  {
   "cell_type": "code",
   "execution_count": null,
   "metadata": {},
   "outputs": [],
   "source": [
    "from flask import Flask\n",
    "\n",
    "app = Flask(__name__)\n",
    "\n",
    "from app import routes"
   ]
  },
  {
   "cell_type": "markdown",
   "metadata": {},
   "source": [
    "En resumen, el script `__init__.py` crea una instancia de la clase `Flask` importada del *package* `flask`. La variable `__name__`, que se utiliza como argumento en la clase `Flask`, es una variable predefinida de Python, la cual es establecida con el nombre del módulo en la cual es usada. Flask hace uso de la localización del módulo utilizado aquí como punto de partida cuando necesita cargar recursos asociados, tales como plantillas. Por tanto, de manera práctica, hacer uso de la variable `__name__` será en la mayoría de casos una buena práctica a seguir. Por último, la aplicación importa el módulo `routes`, el cual todavía no existe ya que no ha sido creado.\n",
    "\n",
    "Un aspecto que puede parecer confuso es el uso de dos entidades diferentes llamadas **app**. El paquete `app` se define por el directorio app y el script `__init__.py`, y es referenciado en la sentencia `import`. Por otro lado, la viable `app` se define como una instancia de la clase `Flask` en el script `__init__.py`, haciendo que sea parte del paquete app.\n",
    "\n",
    "Otra particularidad del código fuente es que la importación del módulo `routes` no se realiza al inicio del script, donde normalmente se importan todos los scripts. La razón es que las aplicaciones Flask suelen tener un problema común con importaciones circulares; de esta manera, se evitan las importaciones recíprocras.\n",
    "\n",
    "Por último, el lector estará interesado en conocer cuál será la función del módulo `routes`. Las rutas son las diferentes URLs que la aplicación implementa. En Flask, los manejadores para las rutas de la aplicación son escritos en funciones Python. Las vistas son mapeadas con una o varias rutas URLs, permitiendo a Flask conocer qué lógica ejecutar cuando un cliente solicita una URL.\n",
    "\n",
    "A continuación se detallará la primera vista, la cual será escrita en un nuevo módulo con nombre `app/routes.py`."
   ]
  },
  {
   "cell_type": "code",
   "execution_count": null,
   "metadata": {},
   "outputs": [],
   "source": [
    "from app import app\n",
    "\n",
    "@app.route('/')\n",
    "@app.route('/index')\n",
    "def index():\n",
    "    return \"Hello, World!\""
   ]
  },
  {
   "cell_type": "markdown",
   "metadata": {},
   "source": [
    "Esta vista es muy simple ya que únicamente devuelve un string con el texto *Hello, World!*. Las dos líneas que preceden a la definición del método `index()` son decoradores. Un decorador modifica la función a la que precede. En este caso, el decorador ` @app.route('/') ` crea una asociación entre la URL dada como argumento y la función. En este ejemplo hay dos decoradores, los cuales asocian las URLs `/` e `/index` a esta función. Esto significa que cuando el navegador web solicite cualquiera de esas dos URLs, Flask invocará a esta función y devolverá al navegador la cadena de respuesta devuelta.\n",
    "\n",
    "Para completar la aplicación, se necesita un script Python en el directorio raíz que defina la instancia de la aplicación Flask. Ese escript tendrá por nombre `microblog.py` y definirá una única línea que importará la instancia de la aplicación."
   ]
  },
  {
   "cell_type": "code",
   "execution_count": null,
   "metadata": {},
   "outputs": [],
   "source": [
    "from app import app"
   ]
  },
  {
   "cell_type": "markdown",
   "metadata": {},
   "source": [
    "En el ejemplo de código anterior --script `microblog.py`-- se observa la diferencia entre el *package* app y la variable con la instancia de la aplicación Flask.\n",
    "\n",
    "Con el fin de asegurar que se está siguiendo el ejemplo guiado de forma correcta, es necesario revisar que la estructura del proyecto es la siguiente:\n",
    "\n",
    "<img src=\"./microblog-tree.png\" width=\"200\">"
   ]
  },
  {
   "cell_type": "markdown",
   "metadata": {},
   "source": [
    "Si se ha seguido cada uno de los pasos descritos, la aplicación estará completa. Pero, antes de poder ejecutarla, es necesario indicarle a Flask cómo importarla, mediante la variable de entorno FLASK_APP:"
   ]
  },
  {
   "cell_type": "code",
   "execution_count": null,
   "metadata": {},
   "outputs": [],
   "source": [
    "export FLASK_APP=microblog.py"
   ]
  },
  {
   "cell_type": "markdown",
   "metadata": {},
   "source": [
    "Si se está haciendo uso de Microsoft Windows, se deberá hacer uso del comando `set` en lugar del comando `export`,\n",
    "\n",
    "Por último, para lanzar la primera aplicación web Flask, bastará con ejecutar el siguiente comando:\n"
   ]
  },
  {
   "cell_type": "code",
   "execution_count": null,
   "metadata": {},
   "outputs": [],
   "source": [
    "flask run"
   ]
  },
  {
   "cell_type": "markdown",
   "metadata": {},
   "source": [
    "Una vez el servidor se haya inicializado, éste estará a la espera de conexiones entrantes de clientes. La salida del comando `flask run` indica que el server se está ejecutando en la dirección IP 127.0.0.1, la cual es la dirección del equipo local (*localhost*). Los servidores web en entorno de producción suelen escuchar en el puerto 80 o 443, pero ya que esta aplicación está ejecutándose en un entorno de desarrollo, Flask hace uso del puerto 5000.\n",
    "\n",
    "Para poder comprobar si la aplicación web funciona será necesario abrir la siguiente URL en el navegador web:"
   ]
  },
  {
   "cell_type": "code",
   "execution_count": null,
   "metadata": {},
   "outputs": [],
   "source": [
    "http://localhost:5000/"
   ]
  },
  {
   "cell_type": "markdown",
   "metadata": {},
   "source": [
    "Aunque también se puede hacer uso de la siguiente URL:"
   ]
  },
  {
   "cell_type": "code",
   "execution_count": null,
   "metadata": {},
   "outputs": [],
   "source": [
    "http://localhost:5000/index"
   ]
  },
  {
   "cell_type": "markdown",
   "metadata": {},
   "source": [
    "¿Por qué es posible hacer uso de estas dos URLs?"
   ]
  },
  {
   "cell_type": "code",
   "execution_count": null,
   "metadata": {},
   "outputs": [],
   "source": [
    "# Ejercicio: Sustituir la url /index por otra URL."
   ]
  },
  {
   "cell_type": "markdown",
   "metadata": {},
   "source": [
    "\n",
    "## Templates\n",
    "En el proceso de construcción de la aplicación de microblogging, surge la necesidad de tener un encabezado para dar la bienvenida al usuario. Como hasta el momento no se dispone del concepto de usuario, se hará uso de un diccionario de Python a modo de *mock*:\n",
    "\n",
    "> `user = {'username': 'Alberto'}`\n",
    "\n",
    "Mediante el uso de objetos *mock* es posible concentrarse únicamente en la parte de la aplicación que se está desarrollando sin tener que preocuparse en otras partes que todavía no existen.\n",
    "\n",
    "La función vista en la aplicación devuelve un simple `string`. Si se desea expandir la funcionalidad devolviendo una página HTML completa, se debería codificar algo similar al siguiente fragmento de código fuente en el módulo `routes.py`:"
   ]
  },
  {
   "cell_type": "code",
   "execution_count": null,
   "metadata": {},
   "outputs": [],
   "source": [
    "from app import app\n",
    "\n",
    "@app.route('/')\n",
    "@app.route('/index')\n",
    "def index():\n",
    "    user = {'username': 'Miguel'}\n",
    "    return '''\n",
    "<html>\n",
    "    <head>\n",
    "        <title>Home Page - Microblog</title>\n",
    "    </head>\n",
    "    <body>\n",
    "        <h1>Hello, ''' + user['username'] + '''!</h1>\n",
    "    </body>\n",
    "</html>'''"
   ]
  },
  {
   "cell_type": "code",
   "execution_count": null,
   "metadata": {},
   "outputs": [],
   "source": [
    "# Ejercicio: Se deberán aplicar los cambios mostrados hasta ahora para mostrar la página de bienvenida de usuario."
   ]
  },
  {
   "cell_type": "markdown",
   "metadata": {},
   "source": [
    "Estará el lector de acuerdo con la afirmación siguiente: el ejemplo anterior no es correcto. Se anima al lector a considerar cuán complejo sería el código si se procediera de la misma forma con toda la aplicación de microblogging. La aplicación no dejará de crecer y por tanto, cuando haya que aplicar algún cambio, se deberá actualizar todo el código HTML en cada una de las funciones.\n",
    "\n",
    "La opción correcta es mantener separada la lógica de la aplicación de la capa de presentación. Para ello, las *templates* ayudan a alcanzar esta separación entre la capa de presentación y la lógica de negocio. En Flask, las plantillas se codifican en ficheros separados, almacenados en un directorio `templates` el cual está dentro del paquete de la aplicación. Por lo tanto, dentro del directorio *microblog*, debería ejecutarse el siguiente comando para crear un directorio donde serán almacenadas las plantillas: "
   ]
  },
  {
   "cell_type": "code",
   "execution_count": null,
   "metadata": {},
   "outputs": [],
   "source": [
    "mkdir app/templates"
   ]
  },
  {
   "cell_type": "markdown",
   "metadata": {},
   "source": [
    "A continuación se presenta la plantilla devuelta por la vista `index()`, la cual deberá ser almacenada en la ruta `app/templates/index.html`:"
   ]
  },
  {
   "cell_type": "code",
   "execution_count": null,
   "metadata": {},
   "outputs": [],
   "source": [
    "<html>\n",
    "    <head>\n",
    "        <title>{{ title }} - Microblog</title>\n",
    "    </head>\n",
    "    <body>\n",
    "        <h1>Hello, {{ user.username }}!</h1>\n",
    "    </body>\n",
    "</html>"
   ]
  },
  {
   "cell_type": "markdown",
   "metadata": {},
   "source": [
    "El ejemplo anterior es una simple página HTML estándar, junto con una serie de marcadores para el contenido dinámico, encerrados entre secciones `{{ ... }}`. Estos marcadores representan las partes de la página que serán variables y cambiarán en tiempo de ejecución.\n",
    "\n",
    "Ahora, para continuar con la separación de conceptos y responsabilidades, la función vista puede ser simplificada:"
   ]
  },
  {
   "cell_type": "code",
   "execution_count": null,
   "metadata": {},
   "outputs": [],
   "source": [
    "from flask import render_template\n",
    "from app import app\n",
    "\n",
    "@app.route('/')\n",
    "@app.route('/index')\n",
    "def index():\n",
    "    user = {'username': 'Miguel'}\n",
    "    return render_template('index.html', title='Home', user=user)"
   ]
  },
  {
   "cell_type": "code",
   "execution_count": null,
   "metadata": {},
   "outputs": [],
   "source": [
    "# Ejercicio: Comprobar cómo funciona esta nueva versión, cambiar el nombre de usuario y revisar el código HTML realizando una comparación con la plantilla original."
   ]
  },
  {
   "cell_type": "markdown",
   "metadata": {},
   "source": [
    "La operación que convierte una plantilla en una página HTML es *rendering*. Para renderizar la plantilla debe importarse la función que viene incluída dentro del framework Fask con nombre `render_template()`. Esta función obtiene el nombre de una plantilla y una lista de variables y devuelve la misma plantilla pero con los marcadores reemplazados con los valores actuales.\n",
    "\n",
    "La función `render_template()` invoca al motor de plantillas web [Jinja2](http://jinja.pocoo.org/) el cual viene incluído junto con Flask. Jinja2 realiza la sustitución de los bloques `{{ ... }}` con los valores correspondientes utilizados como argumentos en la llamada a la función `render_template()`."
   ]
  },
  {
   "cell_type": "markdown",
   "metadata": {},
   "source": [
    "### Sentencias condicionales\n",
    "Jinja2 también soporta sentencias condicionales, enmarcadas dentro de bloques `{% ... %}`. La siguiente versión de la plantilla `index.html` añade una sentencia condicional:"
   ]
  },
  {
   "cell_type": "code",
   "execution_count": null,
   "metadata": {},
   "outputs": [],
   "source": [
    "<html>\n",
    "    <head>\n",
    "        {% if title %}\n",
    "        <title>{{ title }} - Microblog</title>\n",
    "        {% else %}\n",
    "        <title>Welcome to Microblog!</title>\n",
    "        {% endif %}\n",
    "    </head>\n",
    "    <body>\n",
    "        <h1>Hello, {{ user.username }}!</h1>\n",
    "    </body>\n",
    "</html>"
   ]
  },
  {
   "cell_type": "code",
   "execution_count": null,
   "metadata": {},
   "outputs": [],
   "source": [
    "# Ejercicio: ¿Qué realiza la plantilla anterior?"
   ]
  },
  {
   "cell_type": "code",
   "execution_count": null,
   "metadata": {},
   "outputs": [],
   "source": [
    "# Ejercicio: Aplicar los cambios en la plantilla index.html"
   ]
  },
  {
   "cell_type": "code",
   "execution_count": null,
   "metadata": {},
   "outputs": [],
   "source": [
    "# Ejercicio: Añadir una sentencia condicional para mostrar un nombre genérico si no hubiera *username*"
   ]
  },
  {
   "cell_type": "markdown",
   "metadata": {},
   "source": [
    "### Bucles\n",
    "En la aplicación de microblogging, cada usuario deseará ver los post recientes de los usuarios conectados en la página de inicio. Para ello, se hará uso de nuevo de objetos *mock* para crear varios usuarios y posts que presentar."
   ]
  },
  {
   "cell_type": "code",
   "execution_count": null,
   "metadata": {},
   "outputs": [],
   "source": [
    "from flask import render_template\n",
    "from app import app\n",
    "\n",
    "@app.route('/')\n",
    "@app.route('/index')\n",
    "def index():\n",
    "    user = {'username': 'Miguel'}\n",
    "    posts = [\n",
    "        {\n",
    "            'author': {'username': 'John'},\n",
    "            'body': 'Beautiful day in Portland!'\n",
    "        },\n",
    "        {\n",
    "            'author': {'username': 'Susan'},\n",
    "            'body': 'The Avengers movie was so cool!'\n",
    "        }\n",
    "    ]\n",
    "    return render_template('index.html', title='Home', user=user, posts=posts)"
   ]
  },
  {
   "cell_type": "markdown",
   "metadata": {},
   "source": [
    "Para representar los posts se hace uso de una lista, donde cada elemento es un diccionario que contine los campos `author` y `body`. Si la aplicación continuara desarrollándose sin hacer uso de objetos *mock*, sería necesario intentar preservar esos nombres (para los distintos campos) para que no fuera necesario reestructurar el código fuente.\n",
    "\n",
    "Por otro lado, en el lado de la plantilla, es necesario resolver un nuevo problema. La lista de posts puede contener un número arbitrario de elementos. La función vista debe ser la encargada de decidir cuántos posts va a presentar en la página. Además, la plantilla no debe realizar ninguna asunción sobre cuántos posts habrá; por tanto, deberá estar preparada para renderizar tantos posts como la vista le indique.\n",
    "\n",
    "Para resolver este tipo de problemas, Jinja2 proporcina una estructura de control de tipo bucle:"
   ]
  },
  {
   "cell_type": "code",
   "execution_count": null,
   "metadata": {},
   "outputs": [],
   "source": [
    "<html>\n",
    "    <head>\n",
    "        {% if title %}\n",
    "        <title>{{ title }} - Microblog</title>\n",
    "        {% else %}\n",
    "        <title>Welcome to Microblog</title>\n",
    "        {% endif %}\n",
    "    </head>\n",
    "    <body>\n",
    "        <h1>Hi, {{ user.username }}!</h1>\n",
    "        {% for post in posts %}\n",
    "        <div><p>{{ post.author.username }} says: <b>{{ post.body }}</b></p></div>\n",
    "        {% endfor %}\n",
    "    </body>\n",
    "</html>"
   ]
  },
  {
   "cell_type": "code",
   "execution_count": null,
   "metadata": {},
   "outputs": [],
   "source": [
    "# Ejercicio: Aplicar cambios para mostrar los posts recientes de los usuarios conectados. Añadir 5 posts más."
   ]
  },
  {
   "cell_type": "markdown",
   "metadata": {},
   "source": [
    "### Herencia\n",
    "\n",
    "Gran parte de las aplicaciones web de hoy en día poseen una barra de navegación en la parte superior de la página con algunos enlaces de uso frecuente --editar perfil, iniciar sesión o cerrar sesión--. Sería fácil añadir una barra de navegación a la plantilla `index.html` con algo más de código HTML, pero a medida que la aplicación crazca, se necesitará esa misma barra de navegación en el resto de páginas. Para evitar mantener varias copias de la barra de navegación en muchas plantillas HTML, una buena práctica es evitar repetir código fuente de manera innecesaria.\n",
    "\n",
    "Jinja2 posee una característica de herencia de plantillas que aborda específicamente este problema. En esencia, lo que debería realizarse es mover las partes del diseño de las páginas que son comunes a una plantilla base, de la que puedan derivar el resto de plantillas.\n",
    "\n",
    "Por tanto, lo que se realizará es definir una plantilla base llamada `base.html` para que incluya una barra de navegación junto con la lógica del titulo anteriormente implementada. Dicha plantilla deberá estar ubicada en la siguiente ruta:\n",
    "> `app/templates/base.html`"
   ]
  },
  {
   "cell_type": "code",
   "execution_count": null,
   "metadata": {},
   "outputs": [],
   "source": [
    "<html>\n",
    "    <head>\n",
    "      {% if title %}\n",
    "      <title>{{ title }} - Microblog</title>\n",
    "      {% else %}\n",
    "      <title>Welcome to Microblog</title>\n",
    "      {% endif %}\n",
    "    </head>\n",
    "    <body>\n",
    "        <div>Microblog: <a href=\"/index\">Home</a></div>\n",
    "        <hr>\n",
    "        {% block content %}{% endblock %}\n",
    "    </body>\n",
    "</html>"
   ]
  },
  {
   "cell_type": "markdown",
   "metadata": {},
   "source": [
    "En esta plantilla se ha definido un bloque de sentencia de control para definir el lugar donde las plantillas derivadas se insertarán. Los bloques reciben un nombre único, al que las plantillas derivadas pueden hacer referencia cuando proporcionan su contenido.\n",
    "\n",
    "Con la plantilla base en su lugar, ahora se puede simplificar la plantilla `index.html` heredando de la plantilla base `base.html`:"
   ]
  },
  {
   "cell_type": "code",
   "execution_count": null,
   "metadata": {},
   "outputs": [],
   "source": [
    "{% extends \"base.html\" %}\n",
    "\n",
    "{% block content %}\n",
    "    <h1>Hi, {{ user.username }}!</h1>\n",
    "    {% for post in posts %}\n",
    "    <div><p>{{ post.author.username }} says: <b>{{ post.body }}</b></p></div>\n",
    "    {% endfor %}\n",
    "{% endblock %}"
   ]
  },
  {
   "cell_type": "markdown",
   "metadata": {},
   "source": [
    "Como la plantilla `base.html` será la encargada de la estructura general de la página, se han eliminado esos elementos en la plantilla `index.html`, dejando únicamente la parte de contenido. La sentencia `extends` establece el enlace de herencia entre ambas plantillas, permitiendo a Jinja2 conocer cuándo deberá incrustar el contenido pertinente. Ambas plantillas poseen sentencias `block content`, y así es como Jinja2 sabrá cómo combinar las dos plantillas en una. De ahora en adelante cualquier plantilla podrá heredar de la plantilla `base.html` manteniendo el mismo *look and feel* de todo el restro de la aplicación web."
   ]
  },
  {
   "cell_type": "markdown",
   "metadata": {},
   "source": [
    "**Ejercicio**: Crear una página \"*About*\" con información genérica de la página web, que también contenga la barra de navegación y se pueda navegar a la página de inicio."
   ]
  },
  {
   "cell_type": "markdown",
   "metadata": {},
   "source": [
    "## Web Forms\n",
    "\n",
    "### Introducción a Flask-WTF\n",
    "Para poder gestionar formularios web vamos a hacer uso de la extensión [Flask-WTF](https://flask-wtf.readthedocs.io/en/stable/) la cual es una simple envoltura sobre el paquete [WTForms](https://wtforms.readthedocs.io/en/stable/), el cual se integra de manera sencilla y elegante con Flask. Las extensiones son una parte importante del ecosistema de Flask, ya que proporcionan soluciones a problemas comunes.\n",
    "\n",
    "Las extensiones de Flask son paquetes de Python que pueden ser instalados mediante `pip`. Para instalar Flask-WTF, bastará con ejecutar el siguiente comando:"
   ]
  },
  {
   "cell_type": "code",
   "execution_count": null,
   "metadata": {},
   "outputs": [],
   "source": [
    "pip install flask-wtf"
   ]
  },
  {
   "cell_type": "markdown",
   "metadata": {},
   "source": [
    "### Formulario de inicio de sesión de usuario\n",
    "La extensión Flask-WTF hace uso de clases Python para representar formularios web. Una clase formulario simplemente define los campos del formulario como variables de clase.\n",
    "\n",
    "A continuación, se definirá un nuevo módulo para almacenar los formularios en forma de clase, en la ruta `app/forms.py`. Tras crear el módulo, se definirá un formulario (`LoginForm`) para el inicio de sesión de usuario, el cual solicitará un *username* y un *password*; además, también incluirá una casilla para recordar el acceso y un botón de *submit*."
   ]
  },
  {
   "cell_type": "code",
   "execution_count": null,
   "metadata": {},
   "outputs": [],
   "source": [
    "from flask_wtf import FlaskForm\n",
    "from wtforms import StringField, PasswordField, BooleanField, SubmitField\n",
    "from wtforms.validators import DataRequired\n",
    "\n",
    "class LoginForm(FlaskForm):\n",
    "    username = StringField('Username', validators=[DataRequired()])\n",
    "    password = PasswordField('Password', validators=[DataRequired()])\n",
    "    remember_me = BooleanField('Remember Me')\n",
    "    submit = SubmitField('Sign In')"
   ]
  },
  {
   "cell_type": "markdown",
   "metadata": {},
   "source": [
    "Muchas extensiones de Flask utilizan como convención el nombre `flask_<name>` para las funciones de alto nivel que se pueden importar. En este caso, Flask-WTF posee todos sus símbolos en `flask_wtf`, y es por ello que la clase base `FlaskForm` es importada.\n",
    "\n",
    "Las cuatro clases que representan los tipos de datos de los distintos campos del formulario se importan directamente del paquete WTForms, ya que la extensión Flask-WTF no proporciona versiones personalizadas. Para cada campo, un objeto es creado como una variable de clase en la clase `LoginForm`. Cada campo deberá contener una descripción o etiqueta como primer argumento.\n",
    "\n",
    "El argumento opcional `validators` es utilizado para añadir comportamientos de validación a cada uno de los campos. El validador `DataRequired` se encarga de comprobar que el campo enviado no está vacío. Existen otros muchos validadores disponibles, algunos de los cuales pueden ser utilizados en otros formularios."
   ]
  },
  {
   "cell_type": "markdown",
   "metadata": {},
   "source": [
    "### Formularios y plantillas\n",
    "El siguiente paso es añadir el formulario a una plantilla HTML para que pueda ser renderizado en una página web. Los campos que estarán definidos en la clase `LoginForm` sabrán cómo renderizarse a si mismos en formato HTML, por tanto, esta tarea será muy simple.\n",
    "\n",
    "A continuación se presenta la plantilla del formulario de inicio de sesión de usuario, el cual se almacenará en la ruta `app/templates/login.html`."
   ]
  },
  {
   "cell_type": "code",
   "execution_count": null,
   "metadata": {},
   "outputs": [],
   "source": [
    "{% extends \"base.html\" %}\n",
    "\n",
    "{% block content %}\n",
    "    <h1>Sign In</h1>\n",
    "    <form action=\"\" method=\"post\" novalidate>\n",
    "        {{ form.hidden_tag() }}\n",
    "        <p>\n",
    "            {{ form.username.label }}<br>\n",
    "            {{ form.username(size=32) }}\n",
    "        </p>\n",
    "        <p>\n",
    "            {{ form.password.label }}<br>\n",
    "            {{ form.password(size=32) }}\n",
    "        </p>\n",
    "        <p>{{ form.remember_me() }} {{ form.remember_me.label }}</p>\n",
    "        <p>{{ form.submit() }}</p>\n",
    "    </form>\n",
    "{% endblock %}"
   ]
  },
  {
   "cell_type": "markdown",
   "metadata": {},
   "source": [
    "Como el lector podrá observar, se está reutilizando una vez más la plantilla `base.html` a través de la herencia de plantillas (`{% extends \"base.html\" %}`). Esto se deberá realizar con cada una de las plantillas para asegurar que todas ellas incluyen la barra de navegación.\n",
    "\n",
    "Esta plantilla espera un objeto formulario (instancia de la clase `LoginForm`) como argumento, referenciado como `form`. Este argumento será enviado por la función `login` de la vista, la cual todavía no ha sido desarrollada.\n",
    "\n",
    "El elemento HTML `<form>` es utilizado como un contenedor para el formulario web. El atributo `action` del formulario es utilizado para indicarle al navegador la URL que debe ser utilizada cuando se envíe la información que el usuario ingresó en el formulario. El atributo `method` especifica el método HTTP request que debe ser utilizado cuando se envíe el formulario al servidor. La opción por defecto es enviarlo como una petición `GET`, pero en la mayoría de casos, hacer uso del método `POST` proporcionará una mejor experiencia de usuario (enviando los datos del formulario en el `body`). El atributo `nonvalidate` se utiliza para indicar al navegador web que no realice ningún tipo de validación a los campos del formulario, delegando esta tarea a la aplicación Flask que correrá en el navegador.\n",
    "\n",
    "<!---\n",
    "El argumento `form.hidden_tag()` genera un campo oculto que incuirá un token que será utilizado para proteger al formulario contra ataques de tipo CSRF. Lo único necesario para proteger el formulario es utilizar este campo oculto y tener definida en la configuración la variable `SECRET_KEY`. Si se tienen en cuenta estas dos premisas, FlaskWTF realizará el resto del trabajo.\n",
    "-->\n",
    "\n",
    "Los campos del formulario tienen la capacidad de renderizarse por ellos mismos. Lo único necesario es incluir los campos `{{ form.<field_name>.label }}` y `{{ form.<field_name>() }}`. Además, los campos `username` y `password` de esta plantilla poseen el tamaño como argumento, el cual será añadido al elemento HTML `<input>` como un atributo. Esta es la forma en la que se pueden añadir clases CSS o IDs a los campos del formulario."
   ]
  },
  {
   "cell_type": "code",
   "execution_count": null,
   "metadata": {},
   "outputs": [],
   "source": [
    "# Crear fichero config.py en directorio app/\n",
    "from flask import Flask\n",
    "from config import Config\n",
    "\n",
    "app = Flask(__name__)\n",
    "app.config.from_object(Config)\n",
    "\n",
    "from app import routes\n",
    "\n",
    "\n",
    "# Modificar fichero __init__.py\n",
    "from flask import Flask\n",
    "from config import Config\n",
    "\n",
    "app = Flask(__name__)\n",
    "app.config.from_object(Config)\n",
    "\n",
    "from app import routes"
   ]
  },
  {
   "cell_type": "markdown",
   "metadata": {},
   "source": [
    "### Vistas\n",
    "El último paso antes de poder visualizar el formulario en el navegador web es la codificación de la función vista en la aplicación que renderizará la plantilla.\n",
    "\n",
    "Para ello, será necesario escribir una nueva función vista mapeada a la URL `/login` que será la encargada de crear un formulario, pasándoselo a la plantilla para que pueda renderizarse. Esta función también puede localizarse en el módulo `app/routes.py` con el anterior:"
   ]
  },
  {
   "cell_type": "code",
   "execution_count": null,
   "metadata": {},
   "outputs": [],
   "source": [
    "from flask import render_template\n",
    "from app import app\n",
    "from app.forms import LoginForm\n",
    "\n",
    "# ...\n",
    "\n",
    "@app.route('/login')\n",
    "def login():\n",
    "    form = LoginForm()\n",
    "    return render_template('login.html', title='Sign In', form=form)"
   ]
  },
  {
   "cell_type": "markdown",
   "metadata": {},
   "source": [
    "Lo que se ha hecho aquí es importar la clase `LoginForm` desde el módulo `forms.py`, instanciar un objeto de ella, y enviársela a la plantilla. Esto es lo único requerido para que todos los campos del formulario sean renderizados.\n",
    "\n",
    "Para que el acceso al formulario de inicio de sesión de usuario sea fácil, la plantilla base debería incluir un enlace a él en la barra de navegación:"
   ]
  },
  {
   "cell_type": "code",
   "execution_count": null,
   "metadata": {},
   "outputs": [],
   "source": [
    "<div>\n",
    "    Microblog:\n",
    "    <a href=\"/index\">Home</a>\n",
    "    <a href=\"/login\">Login</a>\n",
    "</div>"
   ]
  },
  {
   "cell_type": "markdown",
   "metadata": {},
   "source": [
    "A partir de este momento si se ejecuta la aplicación se podrá visualizar el formulario en el navegador web."
   ]
  },
  {
   "cell_type": "code",
   "execution_count": null,
   "metadata": {},
   "outputs": [],
   "source": [
    "# Ejercicio: Ejecutar y hacer distintas pruebas sobre el nuevo formulario."
   ]
  },
  {
   "cell_type": "markdown",
   "metadata": {},
   "source": [
    "### Recepción de datos\n",
    "Si se pulsa el botón de envío (`submit`) en el navegador se mostará un error del tipo \"`Method Not Allowed`\". Esto ocurre porque el código desarrollado hasta ahora realiza la mitad del trabajo; es capaz de mostrar el formulario en la página web, pero no existe lógica para procesar los datos enviados. Esta area es otra de las cuales donde Flask-WTF realiza el trabajo de manera muy fácil. A continuación se muestra una versión actualizada de la función vista que acepta y valida los datos proporcionados por el usuario:"
   ]
  },
  {
   "cell_type": "code",
   "execution_count": null,
   "metadata": {},
   "outputs": [],
   "source": [
    "from flask import render_template, flash, redirect\n",
    "\n",
    "@app.route('/login', methods=['GET', 'POST'])\n",
    "def login():\n",
    "    form = LoginForm()\n",
    "    if form.validate_on_submit():\n",
    "        flash('Login requested for user {}, remember_me={}'.format(\n",
    "            form.username.data, form.remember_me.data))\n",
    "        return redirect('/index')\n",
    "    return render_template('login.html', title='Sign In', form=form)"
   ]
  },
  {
   "cell_type": "markdown",
   "metadata": {},
   "source": [
    "La primera cosa nueva es el argumento `methods` del decorador. Éste le indica a Flask que esta función acepta solicitudes `GET` y `POST`, reescribiendo los valores por defecto. El error `Method Not Allowed` que el navegador mostró anteriormente aparecía porque el navegador había tratado de enviar una solicitud `POST` y la aplicación no estaba configurada para aceptar este tipo de peticiones. Mediante el argumento `methods` se le indica a Flask qué métodos de solicitud deberán ser aceptados.\n",
    "\n",
    "El método `form.validate_on_submit()` realiza todo el trabajo de procesamiento del formulario. Cuando el navegador envía la solicitud `GET` para recibir el formulario, este método devolverá `False`, por tanto, en ese caso la función irá directamente a renderizar la plantilla en la última línea de la función.\n",
    "\n",
    "Cuando el navegador envía la solicitud `POST` como resultado de haber pulsado el botón `submit`, el método `form.validate_on_submit()` se encargará de recoger todos los datos, ejecutar todos los validadores, y si todo el proceso es correcto devolverá `True`, indicando que los datos son válidos y que pueden ser procesados por la aplicación. Pero, si almenos uno de ellos fallara, la función devolverá `False`, y por tanto el formulario se renderizará de nuevo.\n",
    "\n",
    "Cuando el método `form.validate_on_submit()` devuelve `True`, la función llama a dos nuevas funciónes, ambas importadas desde Flask. La función `flash()` es una manera útil de mostrar un mensaje al usuario. Como para este ejemplo no dispondremos de la infraestructura necesaria para validar usuarios, es lo mejor que puede realizarse para confirmar que todo funciona de manera correcta.\n",
    "\n",
    "La segunda nueva función es `redirect()`. Esta función le indica al navegador web de manera automática cómo navegar a una nueva página, proporcionada como argumento. En este caso, se redirigirá al usuario a la página `index` de la aplicación.\n",
    "\n",
    "Cuando se llama a la función `flash()`, Flask almacena el mensaje, pero el mensaje no aparecerá de manera mágica en la página web, ya que las plantillas de la aplicación necesitan renderizar esos mensajes. Para ello, en el siguiente ejemplo se añaden esos mensajes a la plantilla base, para que todas las plantillas que hereden de ésta, también hereden esta funcionalidad."
   ]
  },
  {
   "cell_type": "code",
   "execution_count": null,
   "metadata": {},
   "outputs": [],
   "source": [
    "<html>\n",
    "    <head>\n",
    "        {% if title %}\n",
    "        <title>{{ title }} - microblog</title>\n",
    "        {% else %}\n",
    "        <title>microblog</title>\n",
    "        {% endif %}\n",
    "    </head>\n",
    "    <body>\n",
    "        <div>\n",
    "            Microblog:\n",
    "            <a href=\"/index\">Home</a>\n",
    "            <a href=\"/login\">Login</a>\n",
    "        </div>\n",
    "        <hr>\n",
    "        {% with messages = get_flashed_messages() %}\n",
    "        {% if messages %}\n",
    "        <ul>\n",
    "            {% for message in messages %}\n",
    "            <li>{{ message }}</li>\n",
    "            {% endfor %}\n",
    "        </ul>\n",
    "        {% endif %}\n",
    "        {% endwith %}\n",
    "        {% block content %}{% endblock %}\n",
    "    </body>\n",
    "</html>"
   ]
  },
  {
   "cell_type": "markdown",
   "metadata": {},
   "source": [
    "Aquí se está haciendo uso de `with` para asignar el resultado del método `get_flashed_messages()` a la variable `messages`, todo en el contexto de la plantilla. La función `get_flashed_messages()` viene con Flask, y devuelve una lista con todos los mensajes que han sido registrados mediante el método `flash()` anteriormente. La sentencia condicional que sigue comprueba si los mensajes contienen algún contenido, y en ese caso, se renderiza un elemento `<ul>` con cada mensaje como un elemento de una lista (`<li>`). Esta forma de renderizar no es la más óptima, pero para el ejemplo básico actual es suficiente.\n",
    "\n",
    "Una propiedad interesante de esos mensajes es que, una vez han sido solicitados a través de la función `get_flashed_messages()`, son eliminados de la lista."
   ]
  },
  {
   "cell_type": "code",
   "execution_count": null,
   "metadata": {},
   "outputs": [],
   "source": [
    "# Ejercicio: Aplicar cambios y testear la aplicación."
   ]
  },
  {
   "cell_type": "markdown",
   "metadata": {},
   "source": [
    "### Validación de campos\n",
    "\n",
    "Los validadores que se adjuntan a los campos del formulario se encargan de prevenir que datos inválidos sean aceptados en la aplicación. La forma en la que la aplicación trata con entradas de formulario no válidas es volviendo a mostrar el formulario, para permitir que el usuario realice las correcciones necesarias.\n",
    "\n",
    "Si se intenta enviar datos inválidos, a pesar de que el comportamiento es el correcto, no existe ningún tipo de indicación al usuario indicándole que algo no está funcionando de forma correcta. La siguiente tarea será mejorar la experiencia de usuario añadiendo mensajes de error descriptivos a cada campo cuya validación falló.\n",
    "\n",
    "De hecho, los validadores del formulario generan esos mensajes de error descriptivos; lo único necesario es la lógica adicional necesaria para renderizar dichos mensajes.\n",
    "\n",
    "A continuación se presenta la plantilla con los mensajes de error descriptivos, tanto para el campo `username` como para el campo `password`:"
   ]
  },
  {
   "cell_type": "code",
   "execution_count": null,
   "metadata": {},
   "outputs": [],
   "source": [
    "{% extends \"base.html\" %}\n",
    "\n",
    "{% block content %}\n",
    "    <h1>Sign In</h1>\n",
    "    <form action=\"\" method=\"post\" novalidate>\n",
    "        {{ form.hidden_tag() }}\n",
    "        <p>\n",
    "            {{ form.username.label }}<br>\n",
    "            {{ form.username(size=32) }}<br>\n",
    "            {% for error in form.username.errors %}\n",
    "            <span style=\"color: red;\">[{{ error }}]</span>\n",
    "            {% endfor %}\n",
    "        </p>\n",
    "        <p>\n",
    "            {{ form.password.label }}<br>\n",
    "            {{ form.password(size=32) }}<br>\n",
    "            {% for error in form.password.errors %}\n",
    "            <span style=\"color: red;\">[{{ error }}]</span>\n",
    "            {% endfor %}\n",
    "        </p>\n",
    "        <p>{{ form.remember_me() }} {{ form.remember_me.label }}</p>\n",
    "        <p>{{ form.submit() }}</p>\n",
    "    </form>\n",
    "{% endblock %}"
   ]
  },
  {
   "cell_type": "markdown",
   "metadata": {},
   "source": [
    "El úncio cambio que se ha realizado es la adición de los bucles justo después de los campos `username` y `password` para renderizar los mensajes de error en color rojo. Como regla general, cualquier campo que posea un validador tendrá mensajes de error bajo el atributo `form.<field_name>.errors`, que estará en formato `list`."
   ]
  },
  {
   "cell_type": "code",
   "execution_count": null,
   "metadata": {},
   "outputs": [],
   "source": [
    "# Ejercicio: Realizar pruebas con los validadores y los mensajes de error."
   ]
  },
  {
   "cell_type": "markdown",
   "metadata": {},
   "source": [
    "### Generación de links\n",
    "Por último, es necesario aclarar la manera correcta de incluir *links* en plantillas y *redirects*. Hasta ahora se han mostrado varias instancias en las cuales los *links* son definidos. Por ejemplo, esta es la barra de navegación actual de la plantilla base:"
   ]
  },
  {
   "cell_type": "code",
   "execution_count": null,
   "metadata": {},
   "outputs": [],
   "source": [
    "<div>\n",
    "    Microblog:\n",
    "    <a href=\"/index\">Home</a>\n",
    "    <a href=\"/login\">Login</a>\n",
    "</div>"
   ]
  },
  {
   "cell_type": "markdown",
   "metadata": {},
   "source": [
    "Además, la función vista de *login* también define un *link* que es pasado a la función `redirect()`:"
   ]
  },
  {
   "cell_type": "code",
   "execution_count": null,
   "metadata": {},
   "outputs": [],
   "source": [
    "@app.route('/login', methods=['GET', 'POST'])\n",
    "def login():\n",
    "    form = LoginForm()\n",
    "    if form.validate_on_submit():\n",
    "        # ...\n",
    "        return redirect('/index')\n",
    "    # ..."
   ]
  },
  {
   "cell_type": "markdown",
   "metadata": {},
   "source": [
    "Como el lector habrá podido advertir, el problema de escribir *links* de forma directa en las plantillas y ficheros de código fuente es impide una futura refactorización de manera simple. Si un día se decide reorganizar todos los *links*, se tendrá que realizar una búsqueda para reemplazar todos esos *links* en la aplicación completa.\n",
    "\n",
    "Para tener un mayor control sobre esos *links*, Flask proporciona la función `url_for()`, la cual genera URLs utilizando un mapeo interno entre URLs y funciones vista. Por ejemplo, la llamada al método `url_for('login')` devuelve `/login`, y la llamada al método `url_for('index')` devuelve `'/index`. El argumento de la función `url_for()` es el nombre del *endpoint*, el cual es el nombre de la función vista.\n",
    "\n",
    "Las ventajas son varias. Por un lado las URLs son más sensibles a cambios que los nombres de las funciones vista, los cuales son completamente internos. Por otro lado, muchas URLs poseen componentes dinámicos, por tanto, a la hora de generar esas URLs a mano requerirá concatenar muchos elementos, accion tediosa y propensa a fallo. El método `url_for()` es también capaz de generar esas URLs complejas. \n",
    "\n",
    "Por tanto, se recomienda hacer uso del método `url_for()` cada vez que se necesite generar cualquier tipo de URL."
   ]
  },
  {
   "cell_type": "code",
   "execution_count": null,
   "metadata": {},
   "outputs": [],
   "source": [
    "# Ejercicio: Realizar los cambios necesarios en los ficheros app/routes.py y app/templates/base.html para hacer uso del método url_for()."
   ]
  },
  {
   "cell_type": "code",
   "execution_count": null,
   "metadata": {},
   "outputs": [],
   "source": [
    "# Ejercicio: Crear dos nuevos formularios para solicitar otro tipo de datos y añadirlos a la barra de navegación."
   ]
  },
  {
   "cell_type": "markdown",
   "metadata": {},
   "source": [
    "Referencias:\n",
    "- [1] The Flask Mega-Tutorial. https://blog.miguelgrinberg.com/post/the-flask-mega-tutorial-part-i-hello-world\n",
    "- [2] Flask (web framework). https://en.wikipedia.org/wiki/Flask_%28web_framework%29\n",
    "- [3] Flask. http://flask.pocoo.org\n",
    "- [4] Flask-WTF. https://flask-wtf.readthedocs.io/en/stable/\n",
    "- [5] WTForms. https://wtforms.readthedocs.io/en/stable/"
   ]
  }
 ],
 "metadata": {
  "kernelspec": {
   "display_name": "Python 3",
   "language": "python",
   "name": "python3"
  },
  "language_info": {
   "codemirror_mode": {
    "name": "ipython",
    "version": 3
   },
   "file_extension": ".py",
   "mimetype": "text/x-python",
   "name": "python",
   "nbconvert_exporter": "python",
   "pygments_lexer": "ipython3",
   "version": "3.6.8"
  }
 },
 "nbformat": 4,
 "nbformat_minor": 2
}
