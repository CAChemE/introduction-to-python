{
 "cells": [
  {
   "cell_type": "markdown",
   "metadata": {},
   "source": [
    "# Flask\n",
    "A continuación, se va a presentar una serie de características básicas del microframework Flask para el desarrollo de proyectos web. Para ello, se hará uso del material publicado en el siguiente [blog](https://blog.miguelgrinberg.com/post/the-flask-mega-tutorial-part-i-hello-world), donde el autor a través de ejemplos, guía al lector para la creación de un sitio web de *microblogging*.\n",
    "\n",
    "\n",
    "## Flask framework/microframework\n",
    "Flask es un microframework web para Python, basado en Werkzeug y Jinja 2, escrito en Python y con licencia BSD. Se clasifica como microframework ya que no requiere una serie de herramientas o librerías particulares. \n",
    "\n",
    "Flask soporta extensiones que pueden añadir nuevas características como si hubieran sido implementadas en Flask. Entre las extensiones encontramos ORMs, validación, autenticación, etc.\n",
    "\n",
    "\n",
    "### Instalación\n",
    "Para instalar Flask, se hará uso del siguiente comando, tal y como se ha visto hasta ahora en el curso de introducción a Python."
   ]
  },
  {
   "cell_type": "code",
   "execution_count": null,
   "metadata": {},
   "outputs": [],
   "source": [
    "pip install flask"
   ]
  },
  {
   "cell_type": "markdown",
   "metadata": {},
   "source": [
    "Para conformar que la instalación de Flask ha sido correcta, basta con importar Flask en el intérprete de Python:"
   ]
  },
  {
   "cell_type": "code",
   "execution_count": null,
   "metadata": {},
   "outputs": [],
   "source": [
    "import flask"
   ]
  },
  {
   "cell_type": "markdown",
   "metadata": {},
   "source": [
    "### Aplicación Flask \"Hello, World\"\n",
    "En la página principal de [Flask](http://flask.pocoo.org/), existe una aplicación simple de sólo cinco líneas que muestra el potencial de Flask. En lugar de repeter el mismo ejemplo trivial, se mostrará un ejemplo un poco más elaborado que proporcionará una estructura base común para el desarrollo de aplicaciones más extensas.\n",
    "\n",
    "La aplicación existira en un *package*. En Python, un subdirectorio que incluye un fichero `__init__.py` es considerado como un paquete, y por tanto, puede ser importado. Cuando se importa un paquete, el fichero `__init__.py` ejecuta y define qué símbolos expone hacia el exterior el *package*.\n",
    "\n",
    "El primer paso será la creación de un directorio, el cual contendrá la aplicación web. Para ello, ejecutaremos los siguientes comandos:\n",
    "> mkdir microblog  \n",
    "> cd microblog  \n",
    "> mkdir app  \n"
   ]
  },
  {
   "cell_type": "markdown",
   "metadata": {},
   "source": [
    "El fichero `__init__.py` del paquete **app** contendrá el siguiente código fuente:\n",
    "The __init__.py for the app package is going to contain the following code:"
   ]
  },
  {
   "cell_type": "code",
   "execution_count": null,
   "metadata": {},
   "outputs": [],
   "source": [
    "from flask import Flask\n",
    "\n",
    "app = Flask(__name__)\n",
    "\n",
    "from app import routes"
   ]
  },
  {
   "cell_type": "markdown",
   "metadata": {},
   "source": [
    "En resumen, el script `__init__.py` crea una instancia de la clase `Flask` importada del *package* `flask`. La variable `__name__`, que se utiliza como argumento en la clase `Flask`, es una variable predefinida de Python, la cual es establecida con el nombre del módulo en la cual es usada. Flask hace uso de la localización del módulo utilizado aquí como punto de partida cuando necesita cargar recursos asociados, tales como plantillas. Por tanto, de manera práctica, hacer uso de la variable `__name__` será en la mayoría de casos una buena práctica a seguir. Por último, la aplicación importa el módulo `routes`, el cual todavía no existe ya que no ha sido creado.\n",
    "\n",
    "Un aspecto que puede parecer confuso es el uso de dos entidades diferentes llamadas **app**. El paquete `app` se define por el directorio app y el script `__init__.py`, y es referenciado en la sentencia `import`. Por otro lado, la viable `app` se define como una instancia de la clase `Flask` en el script `__init__.py`, haciendo que sea parte del paquete app.\n",
    "\n",
    "Otra particularidad del código fuente es que la importación del módulo `routes` no se realiza al inicio del script, donde normalmente se importan todos los scripts. La razón es que las aplicaciones Flask suelen tener un problema común con importaciones circulares; de esta manera, se evitan las importaciones recíprocras.\n",
    "\n",
    "Por último, el lector estará interesado en conocer cuál será la función del módulo `routes`. Las rutas son las diferentes URLs que la aplicación implementa. En Flask, los manejadores para las rutas de la aplicación son escritos en funciones Python. Las vistas son mapeadas con una o varias rutas URLs, permitiendo a Flask conocer qué lógica ejecutar cuando un cliente solicita una URL.\n",
    "\n",
    "A continuación se detallará la primera vista, la cual será escrita en un nuevo módulo con nombre `app/routes.py`."
   ]
  },
  {
   "cell_type": "code",
   "execution_count": null,
   "metadata": {},
   "outputs": [],
   "source": [
    "from app import app\n",
    "\n",
    "@app.route('/')\n",
    "@app.route('/index')\n",
    "def index():\n",
    "    return \"Hello, World!\""
   ]
  },
  {
   "cell_type": "markdown",
   "metadata": {},
   "source": [
    "Esta vista es muy simple ya que únicamente devuelve un string con el texto *Hello, World!*. Las dos líneas que preceden a la definición del método `index()` son decoradores. Un decorador modifica la función a la que precede. En este caso, el decorador `@app.route('/')` crea una asociación entre la URL dada como argumento y la función. En este ejemplo hay dos decoradores, los cuales asocian las URLs `/` y `/index` a esta función. Esto significa que cuando el navegador web solicite cualquiera de esas dos URLs, Flask invocará a esta función y devolverá al navegador la cadena de respuesta devuelta.\n",
    "\n",
    "Para completar la aplicación, se necesita un script Python en el directorio raíz que defina la instancia de la aplicación Flask. Ese escript tendrá por nombre `microblog.py` y definirá una única línea que importará la instancia de la aplicación."
   ]
  },
  {
   "cell_type": "code",
   "execution_count": null,
   "metadata": {},
   "outputs": [],
   "source": [
    "from app import app"
   ]
  },
  {
   "cell_type": "markdown",
   "metadata": {},
   "source": [
    "En el ejemplo de código anterior --script `microblog.py`-- se observa la diferencia entre el *package* app y la variable con la instancia de la aplicación Flask.\n",
    "\n",
    "Con el fin de asegurar que se está siguiendo el ejemplo guiado de forma correcta, es necesario revisar que la estructura del proyecto es la siguiente:\n",
    "\n",
    "<img src=\"./microblog-tree.png\" width=\"200\">"
   ]
  },
  {
   "cell_type": "markdown",
   "metadata": {},
   "source": [
    "Si se ha seguido cada uno de los pasos descritos, la aplicación estará completa. Pero, antes de poder ejecutarla, es necesario indicarle a Flask cómo importarla, mediante la variable de entorno FLASK_APP:\n",
    "Believe it or not, this first version of the application is now complete! Before running it, though, Flask needs to be told how to import it, by setting the FLASK_APP environment variable:"
   ]
  },
  {
   "cell_type": "code",
   "execution_count": null,
   "metadata": {},
   "outputs": [],
   "source": [
    "export FLASK_APP=microblog.py"
   ]
  },
  {
   "cell_type": "markdown",
   "metadata": {},
   "source": [
    "Si se está haciendo uso de Microsoft Windows, se deberá hacer uso del comando `set` en lugar del comando `export`,\n",
    "\n",
    "Por último, para lanzar la primera aplicación web Flask, bastará con ejecutar el siguiente comando:\n"
   ]
  },
  {
   "cell_type": "code",
   "execution_count": null,
   "metadata": {},
   "outputs": [],
   "source": [
    "flask run"
   ]
  },
  {
   "cell_type": "markdown",
   "metadata": {},
   "source": [
    "Una vez el servidor se haya inicializado, éste estará a la espera de conexiones entrantes de clientes. La salida del comando `flask run` indica que el server se está ejecutando en la dirección IP 127.0.0.1, la cual es la dirección del equipo local (*localhost*). Los servidores web en entorno de producción suelen escuchar en el puerto 80 o 443, pero ya que esta aplicación está ejecutándose en un entorno de desarrollo, Flask hace uso del puerto 5000.\n",
    "\n",
    "Para poder comprobar si la aplicación web funciona será necesario abrir la siguiente URL en el navegador web:"
   ]
  },
  {
   "cell_type": "code",
   "execution_count": null,
   "metadata": {},
   "outputs": [],
   "source": [
    "http://localhost:5000/"
   ]
  },
  {
   "cell_type": "markdown",
   "metadata": {},
   "source": [
    "Aunque también se puede hacer uso de la siguiente URL:"
   ]
  },
  {
   "cell_type": "code",
   "execution_count": null,
   "metadata": {},
   "outputs": [],
   "source": [
    "http://localhost:5000/index"
   ]
  },
  {
   "cell_type": "markdown",
   "metadata": {},
   "source": [
    "¿Por qué es posible hacer uso de estas dos URLs?"
   ]
  },
  {
   "cell_type": "markdown",
   "metadata": {},
   "source": [
    "\n",
    "## Templates\n",
    "\n",
    "### Sentencias condicionales\n",
    "\n",
    "### Bucles\n",
    "\n",
    "### Herencia"
   ]
  },
  {
   "cell_type": "markdown",
   "metadata": {},
   "source": [
    "## Web Forms\n",
    "\n",
    "### Introducción a Flask-WTF\n",
    "\n",
    "### Configuración\n",
    "\n",
    "### Formulario de inicio de sesión de usuario\n",
    "\n",
    "### Formularios y plantillas\n",
    "\n",
    "### Vistas\n",
    "\n",
    "### Recepción de datos\n",
    "\n",
    "### Validación de campos\n",
    "\n",
    "### Generación de links\n"
   ]
  },
  {
   "cell_type": "markdown",
   "metadata": {},
   "source": [
    "Referencias:\n",
    "- [1] The Flask Mega-Tutorial. https://blog.miguelgrinberg.com/post/the-flask-mega-tutorial-part-i-hello-world\n",
    "- [2] Flask (web framework). https://en.wikipedia.org/wiki/Flask_%28web_framework%29\n",
    "- [3] Flask. http://flask.pocoo.org"
   ]
  }
 ],
 "metadata": {
  "kernelspec": {
   "display_name": "Python 3",
   "language": "python",
   "name": "python3"
  },
  "language_info": {
   "codemirror_mode": {
    "name": "ipython",
    "version": 3
   },
   "file_extension": ".py",
   "mimetype": "text/x-python",
   "name": "python",
   "nbconvert_exporter": "python",
   "pygments_lexer": "ipython3",
   "version": "3.6.8"
  }
 },
 "nbformat": 4,
 "nbformat_minor": 2
}
