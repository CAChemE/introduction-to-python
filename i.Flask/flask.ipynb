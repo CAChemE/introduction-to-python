{
 "cells": [
  {
   "cell_type": "markdown",
   "metadata": {},
   "source": [
    "# Flask\n",
    "A continuación, se va a presentar una serie de características básicas del microframework Flask para el desarrollo de proyectos web. Para ello, se hará uso del material publicado en el siguiente [blog](https://blog.miguelgrinberg.com/post/the-flask-mega-tutorial-part-i-hello-world), donde el autor a través de ejemplos, guía al lector para la creación de un sitio web de *microblogging*.\n",
    "\n",
    "\n",
    "## Flask framework/microframework\n",
    "Flask es un microframework web para Python, basado en Werkzeug y Jinja 2, escrito en Python y con licencia BSD. Se clasifica como microframework ya que no requiere una serie de herramientas o librerías particulares. \n",
    "\n",
    "Flask soporta extensiones que pueden añadir nuevas características como si hubieran sido implementadas en Flask. Entre las extensiones encontramos ORMs, validación, autenticación, etc.\n",
    "\n",
    "\n",
    "### Instalación\n",
    "Para instalar Flask, se hará uso del siguiente comando, tal y como se ha visto hasta ahora en el curso de introducción a Python."
   ]
  },
  {
   "cell_type": "code",
   "execution_count": null,
   "metadata": {},
   "outputs": [],
   "source": [
    "pip install flask"
   ]
  },
  {
   "cell_type": "markdown",
   "metadata": {},
   "source": [
    "Para conformar que la instalación de Flask ha sido correcta, basta con importar Flask en el intérprete de Python:"
   ]
  },
  {
   "cell_type": "code",
   "execution_count": null,
   "metadata": {},
   "outputs": [],
   "source": [
    "import flask"
   ]
  },
  {
   "cell_type": "markdown",
   "metadata": {},
   "source": [
    "### Aplicación Flask \"Hello, World\"\n",
    "En la página principal de [Flask](http://flask.pocoo.org/), existe una aplicación simple de sólo cinco líneas que muestra el potencial de Flask. En lugar de repeter el mismo ejemplo trivial, se mostrará un ejemplo un poco más elaborado que proporcionará una estructura base común para el desarrollo de aplicaciones más extensas.\n",
    "\n",
    "La aplicación existira en un *package*. En Python, un subdirectorio que incluye un fichero `__init__.py` es considerado como un paquete, y por tanto, puede ser importado. Cuando se importa un paquete, el fichero `__init__.py` ejecuta y define qué símbolos expone hacia el exterior el *package*.\n",
    "\n",
    "El primer paso será la creación de un directorio, el cual contendrá la aplicación web. Para ello, ejecutaremos los siguientes comandos:\n",
    "> mkdir microblog  \n",
    "> cd microblog  \n",
    "> mkdir app  \n"
   ]
  },
  {
   "cell_type": "markdown",
   "metadata": {},
   "source": [
    "El fichero `__init__.py` del paquete **app** contendrá el siguiente código fuente:\n",
    "The __init__.py for the app package is going to contain the following code:"
   ]
  },
  {
   "cell_type": "code",
   "execution_count": null,
   "metadata": {},
   "outputs": [],
   "source": [
    "from flask import Flask\n",
    "\n",
    "app = Flask(__name__)\n",
    "\n",
    "from app import routes"
   ]
  },
  {
   "cell_type": "markdown",
   "metadata": {},
   "source": [
    "En resumen, el script `__init__.py` crea una instancia de la clase `Flask` importada del *package* `flask`. La variable `__name__`, que se utiliza como argumento en la clase `Flask`, es una variable predefinida de Python, la cual es establecida con el nombre del módulo en la cual es usada. Flask hace uso de la localización del módulo utilizado aquí como punto de partida cuando necesita cargar recursos asociados, tales como plantillas. Por tanto, de manera práctica, hacer uso de la variable `__name__` será en la mayoría de casos una buena práctica a seguir. Por último, la aplicación importa el módulo `routes`, el cual todavía no existe ya que no ha sido creado.\n",
    "\n",
    "Un aspecto que puede parecer confuso es el uso de dos entidades diferentes llamadas **app**. El paquete `app` se define por el directorio app y el script `__init__.py`, y es referenciado en la sentencia `import`. Por otro lado, la viable `app` se define como una instancia de la clase `Flask` en el script `__init__.py`, haciendo que sea parte del paquete app.\n",
    "\n",
    "Otra particularidad del código fuente es que la importación del módulo `routes` no se realiza al inicio del script, donde normalmente se importan todos los scripts. La razón es que las aplicaciones Flask suelen tener un problema común con importaciones circulares; de esta manera, se evitan las importaciones recíprocras.\n",
    "\n",
    "Por último, el lector estará interesado en conocer cuál será la función del módulo `routes`. Las rutas son las diferentes URLs que la aplicación implementa. En Flask, los manejadores para las rutas de la aplicación son escritos en funciones Python. Las vistas son mapeadas con una o varias rutas URLs, permitiendo a Flask conocer qué lógica ejecutar cuando un cliente solicita una URL.\n",
    "\n",
    "A continuación se detallará la primera vista, la cual será escrita en un nuevo módulo con nombre `app/routes.py`."
   ]
  },
  {
   "cell_type": "code",
   "execution_count": null,
   "metadata": {},
   "outputs": [],
   "source": [
    "from app import app\n",
    "\n",
    "@app.route('/')\n",
    "@app.route('/index')\n",
    "def index():\n",
    "    return \"Hello, World!\""
   ]
  },
  {
   "cell_type": "markdown",
   "metadata": {},
   "source": [
    "Esta vista es muy simple ya que únicamente devuelve un string con el texto *Hello, World!*. Las dos líneas que preceden a la definición del método `index()` son decoradores. Un decorador modifica la función a la que precede. En este caso, el decorador `@app.route('/')` crea una asociación entre la URL dada como argumento y la función. En este ejemplo hay dos decoradores, los cuales asocian las URLs `/` y `/index` a esta función. Esto significa que cuando el navegador web solicite cualquiera de esas dos URLs, Flask invocará a esta función y devolverá al navegador la cadena de respuesta devuelta.\n",
    "\n",
    "Para completar la aplicación, se necesita un script Python en el directorio raíz que defina la instancia de la aplicación Flask. Ese escript tendrá por nombre `microblog.py` y definirá una única línea que importará la instancia de la aplicación."
   ]
  },
  {
   "cell_type": "code",
   "execution_count": null,
   "metadata": {},
   "outputs": [],
   "source": [
    "from app import app"
   ]
  },
  {
   "cell_type": "markdown",
   "metadata": {},
   "source": [
    "En el ejemplo de código anterior --script `microblog.py`-- se observa la diferencia entre el *package* app y la variable con la instancia de la aplicación Flask.\n",
    "\n",
    "Con el fin de asegurar que se está siguiendo el ejemplo guiado de forma correcta, es necesario revisar que la estructura del proyecto es la siguiente:\n",
    "\n",
    "<img src=\"./microblog-tree.png\" width=\"200\">"
   ]
  },
  {
   "cell_type": "markdown",
   "metadata": {},
   "source": [
    "Si se ha seguido cada uno de los pasos descritos, la aplicación estará completa. Pero, antes de poder ejecutarla, es necesario indicarle a Flask cómo importarla, mediante la variable de entorno FLASK_APP:\n",
    "Believe it or not, this first version of the application is now complete! Before running it, though, Flask needs to be told how to import it, by setting the FLASK_APP environment variable:"
   ]
  },
  {
   "cell_type": "code",
   "execution_count": null,
   "metadata": {},
   "outputs": [],
   "source": [
    "export FLASK_APP=microblog.py"
   ]
  },
  {
   "cell_type": "markdown",
   "metadata": {},
   "source": [
    "Si se está haciendo uso de Microsoft Windows, se deberá hacer uso del comando `set` en lugar del comando `export`,\n",
    "\n",
    "Por último, para lanzar la primera aplicación web Flask, bastará con ejecutar el siguiente comando:\n"
   ]
  },
  {
   "cell_type": "code",
   "execution_count": null,
   "metadata": {},
   "outputs": [],
   "source": [
    "flask run"
   ]
  },
  {
   "cell_type": "markdown",
   "metadata": {},
   "source": [
    "Una vez el servidor se haya inicializado, éste estará a la espera de conexiones entrantes de clientes. La salida del comando `flask run` indica que el server se está ejecutando en la dirección IP 127.0.0.1, la cual es la dirección del equipo local (*localhost*). Los servidores web en entorno de producción suelen escuchar en el puerto 80 o 443, pero ya que esta aplicación está ejecutándose en un entorno de desarrollo, Flask hace uso del puerto 5000.\n",
    "\n",
    "Para poder comprobar si la aplicación web funciona será necesario abrir la siguiente URL en el navegador web:"
   ]
  },
  {
   "cell_type": "code",
   "execution_count": null,
   "metadata": {},
   "outputs": [],
   "source": [
    "http://localhost:5000/"
   ]
  },
  {
   "cell_type": "markdown",
   "metadata": {},
   "source": [
    "Aunque también se puede hacer uso de la siguiente URL:"
   ]
  },
  {
   "cell_type": "code",
   "execution_count": null,
   "metadata": {},
   "outputs": [],
   "source": [
    "http://localhost:5000/index"
   ]
  },
  {
   "cell_type": "markdown",
   "metadata": {},
   "source": [
    "¿Por qué es posible hacer uso de estas dos URLs?"
   ]
  },
  {
   "cell_type": "markdown",
   "metadata": {},
   "source": [
    "\n",
    "## Templates\n",
    "En el proceso de construcción de la aplicación de microblogging, surge la necesidad de tener un encabezado para dar la bienvenida al usuario. Como hasta el momento no se dispone del concepto de usuario, se hará uso de un diccionario de Python a modo de *mock*:\n",
    "\n",
    "> `user = {'username': 'Alberto'}`\n",
    "\n",
    "Mediante el uso de objetos *mock* es posible concentrarse únicamente en la parte de la aplicación que se está desarrollando sin tener que preocuparse en otras partes que todavía no existen.\n",
    "\n",
    "La función vista en la aplicación devuelve un simple `string`. Si se desea expandir la funcionalidad devolviendo una página HTML completa, se debería codificar algo similar al siguiente fragmento de código fuente en el módulo `routes.py`:"
   ]
  },
  {
   "cell_type": "code",
   "execution_count": null,
   "metadata": {},
   "outputs": [],
   "source": [
    "from app import app\n",
    "\n",
    "@app.route('/')\n",
    "@app.route('/index')\n",
    "def index():\n",
    "    user = {'username': 'Miguel'}\n",
    "    return '''\n",
    "<html>\n",
    "    <head>\n",
    "        <title>Home Page - Microblog</title>\n",
    "    </head>\n",
    "    <body>\n",
    "        <h1>Hello, ''' + user['username'] + '''!</h1>\n",
    "    </body>\n",
    "</html>'''"
   ]
  },
  {
   "cell_type": "code",
   "execution_count": null,
   "metadata": {},
   "outputs": [],
   "source": [
    "# Ejercicio: Se deberán aplicar los cambios mostrados hasta ahora para mostrar la página de bienvenida de usuario."
   ]
  },
  {
   "cell_type": "markdown",
   "metadata": {},
   "source": [
    "Estará el lector de acuerdo con la afirmación siguiente: el ejemplo anterior no es correcto. Se anima al lector a considerar cuán complejo sería el código si se procediera de la misma forma con toda la aplicación de microblogging- La aplicación no dejará de crecer y por tanto, cuando haya que aplicar algún cambio, se deberá actualizar todo el código HTML en cada una de las funciones.\n",
    "\n",
    "La opción correcta es mantener separada la lógica de la aplicación de la capa de presentación. Para ello, las templates ayudan a alcanzar esta separación entre la capa de presentación y la lógica de negocio. En Flask, las plantillas se codifican en ficheros separados, almacenados en un directorio `templates` el cual está dentro del paquete de la aplicación. Por lo tanto, dentro del directorio *microblog*, debería ejecutarse el siguiente comando para crear un directorio donde serán almacenadas las plantillas: "
   ]
  },
  {
   "cell_type": "code",
   "execution_count": null,
   "metadata": {},
   "outputs": [],
   "source": [
    "mkdir app/templates"
   ]
  },
  {
   "cell_type": "markdown",
   "metadata": {},
   "source": [
    "A continuación se presenta la plantilla devuelta por la vista `index()`, la cual deberá ser almacenada en la ruta `app/templates/index.html`:"
   ]
  },
  {
   "cell_type": "code",
   "execution_count": null,
   "metadata": {},
   "outputs": [],
   "source": [
    "<html>\n",
    "    <head>\n",
    "        <title>{{ title }} - Microblog</title>\n",
    "    </head>\n",
    "    <body>\n",
    "        <h1>Hello, {{ user.username }}!</h1>\n",
    "    </body>\n",
    "</html>"
   ]
  },
  {
   "cell_type": "markdown",
   "metadata": {},
   "source": [
    "El ejemplo anterior es una simple estándar página HTML, junto con una serie de marcadores para el contenido dinámico, encerrados entre secciones `{{ ... }}`. Estoss marcadores representan las partes de la página que serán variables y cambiarán en tiempo de ejecución.\n",
    "\n",
    "Ahora, para continuar con la separación de conceptos y responsabilidades, la función vista puede ser simplificada:"
   ]
  },
  {
   "cell_type": "code",
   "execution_count": null,
   "metadata": {},
   "outputs": [],
   "source": [
    "from flask import render_template\n",
    "from app import app\n",
    "\n",
    "@app.route('/')\n",
    "@app.route('/index')\n",
    "def index():\n",
    "    user = {'username': 'Miguel'}\n",
    "    return render_template('index.html', title='Home', user=user)"
   ]
  },
  {
   "cell_type": "code",
   "execution_count": null,
   "metadata": {},
   "outputs": [],
   "source": [
    "# Ejercicio: Comprobar cómo funciona esta nueva versión y revisar el código HTML realizando una comparación con la plantilla original."
   ]
  },
  {
   "cell_type": "markdown",
   "metadata": {},
   "source": [
    "La operación que convierte una plantilla en una página HTML es *rendering*. Para renderizar la plantilla debe importarse la función que viene incluída dentro del framework Fask con nombre `render_template()`. Esta función obtiene el nombre de una plantilla y una lista de variables y devuelve la misma plantilla pero con los marcadores reemplazados con los valores actuales.\n",
    "\n",
    "La función `render_template()` invoca al motor de plantillas web [Jinja2](http://jinja.pocoo.org/) el cual viene incluído junto con Flask. Jijja2 realiza la sustitución de los bloques `{{ ... }}` con los valores correspondientes utilizados como argumentos en la llamada a la función `render_template()`."
   ]
  },
  {
   "cell_type": "markdown",
   "metadata": {},
   "source": [
    "### Sentencias condicionales\n",
    "Jinja2 también soporta sentencias condicionales, enmarcadas dentro de bloques `{% ... %}`. La siguiente versión de la plantilla `index.html` añade una sentencia condicional:"
   ]
  },
  {
   "cell_type": "code",
   "execution_count": null,
   "metadata": {},
   "outputs": [],
   "source": [
    "<html>\n",
    "    <head>\n",
    "        {% if title %}\n",
    "        <title>{{ title }} - Microblog</title>\n",
    "        {% else %}\n",
    "        <title>Welcome to Microblog!</title>\n",
    "        {% endif %}\n",
    "    </head>\n",
    "    <body>\n",
    "        <h1>Hello, {{ user.username }}!</h1>\n",
    "    </body>\n",
    "</html>"
   ]
  },
  {
   "cell_type": "code",
   "execution_count": null,
   "metadata": {},
   "outputs": [],
   "source": [
    "# Ejercicio: ¿Qué realiza la plantilla anterior?"
   ]
  },
  {
   "cell_type": "code",
   "execution_count": null,
   "metadata": {},
   "outputs": [],
   "source": [
    "# Ejercicio: Aplicar los cambios en la plantilla index.html"
   ]
  },
  {
   "cell_type": "markdown",
   "metadata": {},
   "source": [
    "### Bucles\n",
    "En la aplicación de microblogging, cada usuario deseará ver los post recientes de los usuarios conectados en la página de inicio. Para ello, se hará uso de nuevo de objetos *mock* para crear varios usuarios y posts que presentar."
   ]
  },
  {
   "cell_type": "code",
   "execution_count": null,
   "metadata": {},
   "outputs": [],
   "source": [
    "from flask import render_template\n",
    "from app import app\n",
    "\n",
    "@app.route('/')\n",
    "@app.route('/index')\n",
    "def index():\n",
    "    user = {'username': 'Miguel'}\n",
    "    posts = [\n",
    "        {\n",
    "            'author': {'username': 'John'},\n",
    "            'body': 'Beautiful day in Portland!'\n",
    "        },\n",
    "        {\n",
    "            'author': {'username': 'Susan'},\n",
    "            'body': 'The Avengers movie was so cool!'\n",
    "        }\n",
    "    ]\n",
    "    return render_template('index.html', title='Home', user=user, posts=posts)"
   ]
  },
  {
   "cell_type": "markdown",
   "metadata": {},
   "source": [
    "Para representar los posts se hace uso de una lista, donde cada elemento es un diccionario que contine los campos `author` y `body`. Si la aplicación continuara desarrollándose sin hacer uso de objetos *mock*, sería necesario intentar preservar esos nombres (para los distintos campos) para que no fuera necesario reestructurar el código fuente.\n",
    "\n",
    "Por otro lado, en el lado de la plantilla, es necesario resolver un nuevo problema. La lista de posts puede contener un número arbitrario de elementos. La función vista debe ser la encargada de decidir cuántos posts va a presentar en la página. Además, la plantilla no debe realizar ninguna asunción sobre cuántos posts habrá; por tanto, deberá estar preparada para renderizar tantos posts como la vista le indique.\n",
    "\n",
    "Para resolver este tipo de problemas, Jinja2 proporcina una estructura de control de tipo bucle:"
   ]
  },
  {
   "cell_type": "code",
   "execution_count": null,
   "metadata": {},
   "outputs": [],
   "source": [
    "<html>\n",
    "    <head>\n",
    "        {% if title %}\n",
    "        <title>{{ title }} - Microblog</title>\n",
    "        {% else %}\n",
    "        <title>Welcome to Microblog</title>\n",
    "        {% endif %}\n",
    "    </head>\n",
    "    <body>\n",
    "        <h1>Hi, {{ user.username }}!</h1>\n",
    "        {% for post in posts %}\n",
    "        <div><p>{{ post.author.username }} says: <b>{{ post.body }}</b></p></div>\n",
    "        {% endfor %}\n",
    "    </body>\n",
    "</html>"
   ]
  },
  {
   "cell_type": "code",
   "execution_count": null,
   "metadata": {},
   "outputs": [],
   "source": [
    "# Ejercicio: Aplicar cambios para mostrar los posts recientes de los usuarios conectados. Añadir más posts y usuarios."
   ]
  },
  {
   "cell_type": "markdown",
   "metadata": {},
   "source": [
    "### Herencia\n",
    "\n",
    "Gran parte de las aplicaciones web de hoy en día poseen una barra de navegación en la parte superior de la página con algunos enlaces de uso frecuente --editar perfil, iniciar sesión o cerrar sesión--. Sería fácil añadir una barra de navegación a la plantilla `index.html` con algo más de código HTML, pero a medida que la aplicación crazca, se necesitará esa misma barra de navegación en el resto de páginas. Para evitar mantener varias copias de la barra de navegación en muchas plantillas HTML, una buena práctica es evitar repetir código fuente de manera innecesaria.\n",
    "\n",
    "Jinja2 posee una característica de herencia de plantillas que aborda específicamente este problema. En esencia, lo que debería realizarse es mover las partes del diseño de las páginas que son comunes a una plantilla base, de la que puedan derivar el resto de plantillas.\n",
    "\n",
    "Por tanto, lo que se realizará es definir una plantilla base llamada `base.html` para que incluya una barra de navegación junto con la lógica del titulo anteriormente implementada. Dicha plantilla deberá estar ubicada en la siguiente ruta:\n",
    "> `app/templates/base.html`"
   ]
  },
  {
   "cell_type": "code",
   "execution_count": null,
   "metadata": {},
   "outputs": [],
   "source": [
    "<html>\n",
    "    <head>\n",
    "      {% if title %}\n",
    "      <title>{{ title }} - Microblog</title>\n",
    "      {% else %}\n",
    "      <title>Welcome to Microblog</title>\n",
    "      {% endif %}\n",
    "    </head>\n",
    "    <body>\n",
    "        <div>Microblog: <a href=\"/index\">Home</a></div>\n",
    "        <hr>\n",
    "        {% block content %}{% endblock %}\n",
    "    </body>\n",
    "</html>"
   ]
  },
  {
   "cell_type": "markdown",
   "metadata": {},
   "source": [
    "En esta plantilla se ha definido un bloque de sentencia de control para definir el lugar donde las plantillas derivadas se insertarán. Los bloques reciben un nombre único, al que las plantillas derivadas pueden hacer referencia cuando proporcionan su contenido.\n",
    "\n",
    "Con la plantilla base en su lugar, ahora se puede simplificar la plantilla `index.html` heredando de la plantilla base `base.html`:"
   ]
  },
  {
   "cell_type": "code",
   "execution_count": null,
   "metadata": {},
   "outputs": [],
   "source": [
    "{% extends \"base.html\" %}\n",
    "\n",
    "{% block content %}\n",
    "    <h1>Hi, {{ user.username }}!</h1>\n",
    "    {% for post in posts %}\n",
    "    <div><p>{{ post.author.username }} says: <b>{{ post.body }}</b></p></div>\n",
    "    {% endfor %}\n",
    "{% endblock %}"
   ]
  },
  {
   "cell_type": "markdown",
   "metadata": {},
   "source": [
    "Como la plantilla `base.html` será la encargada de la estructura general de la página, se ha eliminado de esos elementos en la plantilla `index.html`, dejando únicamente la parte de contenido. La sentencia `extends` establece el enlace de herencia entre ambas plantillas, permitiendo a Jinja2 conocer cuándo deberá incrustar el contenido pertinente. Ambas plantillas poseen sentencias `block content`, y así es como Jinja2 sabrá cómo combinar las dos plantillas en una. De ahora en adelante cualquier plantilla podrá heredar de la plantilla `base.html` manteniendo el mismo *look and feel* de todo el restro de la aplicación web."
   ]
  },
  {
   "cell_type": "markdown",
   "metadata": {},
   "source": [
    "## Web Forms\n",
    "\n",
    "### Introducción a Flask-WTF\n",
    "Para poder gestionar formularios web vamos a hacer uso de la extensión [Flask-WTF](https://flask-wtf.readthedocs.io/en/stable/) la cual es una simple envoltura sobre el paquete [WTForms](https://wtforms.readthedocs.io/en/stable/), el cual se integra de manera sencilla y elegante con Flask. Las extensiones son una parte importante del ecosistema de Flask, ya que proporcionan soluciones a problemas comunes.\n",
    "\n",
    "Las extensiones de Flask son paquetes de Python que pueden ser instalados mediante `pip`. Para instalar Flask-WTF, bastará con ejecutar el siguiente comando:"
   ]
  },
  {
   "cell_type": "code",
   "execution_count": null,
   "metadata": {},
   "outputs": [],
   "source": [
    "pip install flask-wtf"
   ]
  },
  {
   "cell_type": "code",
   "execution_count": null,
   "metadata": {},
   "outputs": [],
   "source": []
  },
  {
   "cell_type": "code",
   "execution_count": null,
   "metadata": {},
   "outputs": [],
   "source": []
  },
  {
   "cell_type": "markdown",
   "metadata": {},
   "source": [
    "### Configuración\n",
    "\n",
    "\n",
    "\n"
   ]
  },
  {
   "cell_type": "markdown",
   "metadata": {},
   "source": [
    "### Formulario de inicio de sesión de usuario\n",
    "La extensión Flask-WTF hace uso de clases Python para representar formularios web. Una clase formulario simplemente define los campos del formulario como variables de clase.\n",
    "\n",
    "A continuación, se definirá un nuevo módulo para almacenar los formularios en forma de clase, en la ruta `app/forms.py`. Tras crear el módulo, se definirá un formulario (`LoginForm`) para el inicio de sesión de usuario, el cual solicitará un *username* y un *password*; además, también incluirá una casilla para recordar el acceso y un botón de *submit*."
   ]
  },
  {
   "cell_type": "code",
   "execution_count": null,
   "metadata": {},
   "outputs": [],
   "source": [
    "from flask_wtf import FlaskForm\n",
    "from wtforms import StringField, PasswordField, BooleanField, SubmitField\n",
    "from wtforms.validators import DataRequired\n",
    "\n",
    "class LoginForm(FlaskForm):\n",
    "    username = StringField('Username', validators=[DataRequired()])\n",
    "    password = PasswordField('Password', validators=[DataRequired()])\n",
    "    remember_me = BooleanField('Remember Me')\n",
    "    submit = SubmitField('Sign In')"
   ]
  },
  {
   "cell_type": "markdown",
   "metadata": {},
   "source": [
    "Muchas extensiones de Flask utilizan como convención el nombre `flask_<name>` para las funciones de alto nivel que se pueden importar. En este caso, Flask-WTF posee todos sus símbolos en `flask_wtf`, y es por ello que la clase base `FlaskForm` es importada.\n",
    "\n",
    "Las cuatro clases que representan los tipos de datos de los distintos campos del formulario se importan directamente del paquete WTForms, ya que la extensión Flask-WTF no proporciona versiones personalizadas. Para cada campo, un objeto es creado como una variable de clase en la clase `LoginForm`. Cada campo deberá contener una descripción o etiqueta como primer argumento.\n",
    "\n",
    "El argumento opcional `validators` es utilizado para añadir comportamientos de validación a cada uno de los campos. El validador `DataRequired` se encarga de comprobar de que el campo enviado no está vacío. Existen otros muchos validadores disponibles, algunos de los cuales pueden ser utilizados en otros formularios."
   ]
  },
  {
   "cell_type": "markdown",
   "metadata": {},
   "source": [
    "### Formularios y plantillas\n",
    "\n",
    "### Vistas\n",
    "\n",
    "### Recepción de datos\n",
    "\n",
    "### Validación de campos"
   ]
  },
  {
   "cell_type": "markdown",
   "metadata": {},
   "source": [
    "### Generación de links\n",
    "Por último, es necesario aclarar la manera correcta de incluir *links* en plantillas y *redirects*. Hasta ahora se han mostrado varias instancias en las cuales los *links* son definidos. Por ejemplo, esta es la barra de navegación actual de la plantilla base:"
   ]
  },
  {
   "cell_type": "code",
   "execution_count": null,
   "metadata": {},
   "outputs": [],
   "source": [
    "<div>\n",
    "    Microblog:\n",
    "    <a href=\"/index\">Home</a>\n",
    "    <a href=\"/login\">Login</a>\n",
    "</div>"
   ]
  },
  {
   "cell_type": "markdown",
   "metadata": {},
   "source": [
    "Además, la función vista de *login* también define un *link* que es pasado a la función `redirect()`:"
   ]
  },
  {
   "cell_type": "code",
   "execution_count": null,
   "metadata": {},
   "outputs": [],
   "source": [
    "@app.route('/login', methods=['GET', 'POST'])\n",
    "def login():\n",
    "    form = LoginForm()\n",
    "    if form.validate_on_submit():\n",
    "        # ...\n",
    "        return redirect('/index')\n",
    "    # ..."
   ]
  },
  {
   "cell_type": "markdown",
   "metadata": {},
   "source": [
    "Como el lector habrá podido advertir, el problema de escribir *links* de forma directa en las plantillas y ficheros de código fuente es impide una futura refactorización de manera simple. Si un día se decide reorganizar todos los *links*, se tendrá que realizar una búsqueda para reemplazar todos esos *links* en la aplicación completa.\n",
    "\n",
    "Para tener un mayor control sobre esos *links*, Flask proporciona la función `url_for()`, la cual genera URLs utilizando un mapeo interno entre URLs y funciones vista. Por ejemplo, la llamada al método `url_for('login')` devuelve `/login`, y la llamada al método `url_for('index')` devuelve `'/index`. El argumento de la función `url_for()` es el nombre del *endpoint*, el cual es el nombre de la función vista.\n",
    "\n",
    "Las ventajas son varias. Por un lado las URLs son más sensibles a cambios que los nombres de las funciones vista, los cuales son completamente internos. Por otro lado, muchas URLs poseen componentes dinámicos, por tanto, a la hora de generar esas URLs a mano requerirá concatenar muchos elementos, accion tediosa y propensa a fallo. El método `url_for()` es también capaz de generar esas URLs complejas. \n",
    "\n",
    "Por tanto, se recomienda hacer uso del método `url_for()` cada vez que se necesite generar cualquier tipo de URL."
   ]
  },
  {
   "cell_type": "code",
   "execution_count": null,
   "metadata": {},
   "outputs": [],
   "source": [
    "Ejercicio: Realizar los cambios necesarios en los ficheros app/routes.py y app/templates/base.html para hacer uso del método url_for()."
   ]
  },
  {
   "cell_type": "markdown",
   "metadata": {},
   "source": [
    "Referencias:\n",
    "- [1] The Flask Mega-Tutorial. https://blog.miguelgrinberg.com/post/the-flask-mega-tutorial-part-i-hello-world\n",
    "- [2] Flask (web framework). https://en.wikipedia.org/wiki/Flask_%28web_framework%29\n",
    "- [3] Flask. http://flask.pocoo.org\n",
    "- [4] Flask-WTF. https://flask-wtf.readthedocs.io/en/stable/\n",
    "- [5] WTForms. https://wtforms.readthedocs.io/en/stable/"
   ]
  }
 ],
 "metadata": {
  "kernelspec": {
   "display_name": "Python 3",
   "language": "python",
   "name": "python3"
  },
  "language_info": {
   "codemirror_mode": {
    "name": "ipython",
    "version": 3
   },
   "file_extension": ".py",
   "mimetype": "text/x-python",
   "name": "python",
   "nbconvert_exporter": "python",
   "pygments_lexer": "ipython3",
   "version": "3.6.8"
  }
 },
 "nbformat": 4,
 "nbformat_minor": 2
}
