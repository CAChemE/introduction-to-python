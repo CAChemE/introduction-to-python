{
 "cells": [
  {
   "cell_type": "markdown",
   "metadata": {},
   "source": [
    "# Requests\n",
    "Python Requests III: HTTP for Humans and Machines, alike.\n",
    "\n",
    "La librería Requets permite realizar peticiones HTTP para obtener información de sitios web de manera y sencilla. Su funcionamiento es fácil e intuitivo. No es casualidad que el subtexto de la librería sea “HTTP for Humans and Machines, alike.”.\n",
    "\n",
    "### Instalación"
   ]
  },
  {
   "cell_type": "code",
   "execution_count": null,
   "metadata": {},
   "outputs": [],
   "source": [
    "pip3 install requests"
   ]
  },
  {
   "cell_type": "markdown",
   "metadata": {},
   "source": [
    "### Request web pages\n",
    "\n",
    "Vamos a hacer uso de la siguiente URL para realizar los primeros ejemplos, en la que encontramos un comic de XKCD sobre Python. Para ello, sin acceder a la URL de forma manual, vamos a ver qué hace nuestro intérprete de Python cuando importamos el módulo antigravity."
   ]
  },
  {
   "cell_type": "code",
   "execution_count": null,
   "metadata": {},
   "outputs": [],
   "source": [
    "import antigravity"
   ]
  },
  {
   "cell_type": "markdown",
   "metadata": {},
   "source": [
    "Se recomienda al lector leer un poco sobre este easter egg a través del siguiente enlace:\n",
    "\n",
    "* http://python-history.blogspot.com/2010/06/import-antigravity.html"
   ]
  },
  {
   "cell_type": "markdown",
   "metadata": {},
   "source": [
    "Bien, una vez tengamos acceso a la URL, vamos a analizar su respuesta a través del método get()."
   ]
  },
  {
   "cell_type": "code",
   "execution_count": null,
   "metadata": {},
   "outputs": [],
   "source": [
    "import requests\n",
    "\n",
    "r = requests.get('https://xkcd.com/353/')\n",
    "\n",
    "print(r)"
   ]
  },
  {
   "cell_type": "markdown",
   "metadata": {},
   "source": [
    "Para obtener el contenido, debemos analizar a qué atributos y métodos tenemos acceso a traves del objeto de respuesta r. Para ello, haremos uso del método dir()."
   ]
  },
  {
   "cell_type": "code",
   "execution_count": null,
   "metadata": {},
   "outputs": [],
   "source": [
    "print(dir(r))"
   ]
  },
  {
   "cell_type": "markdown",
   "metadata": {},
   "source": [
    "Para obtener más información, podemos hacer uso de la función help()."
   ]
  },
  {
   "cell_type": "code",
   "execution_count": null,
   "metadata": {},
   "outputs": [],
   "source": [
    "print(help(r))"
   ]
  },
  {
   "cell_type": "markdown",
   "metadata": {},
   "source": [
    "Si buceamos entre la respuesta ofrecida por el método help(), vemos que existen atributos como content, el cual devuelve el contenido de la respuesta en bytes, o text, el cual devuelve el contenido ede la respuesta en formato unicode. Por ejemplo, El primero de ellos será útil para obtener imágenes, y el segundo para obtener el contenido de páginas web.\n",
    "\n",
    "Para obtener el contenido de la URL que hemos visto antes, hay que ejecutar el siguiente código fuente."
   ]
  },
  {
   "cell_type": "code",
   "execution_count": null,
   "metadata": {},
   "outputs": [],
   "source": [
    "import requests\n",
    "\n",
    "r = requests.get('https://xkcd.com/353/')\n",
    "\n",
    "print(r.text)"
   ]
  },
  {
   "cell_type": "markdown",
   "metadata": {},
   "source": [
    "Una vez ejecutado, puede comprobarse que se obtiene contenido en formato HTML, el cual es igualmente recibido cuando navegamos a través de nuestro navegador. Si se desea hacer uso de estos datos, recomendamos al lector hacer uso de algún parser de HTML.\n",
    "\n",
    "\n",
    "### Download images\n",
    "Por otro lado, si se desea obtener una imagen es conveniente hacer uso del atributo content, ya que devuelve el resultado en bytes. Si volvemos a la URL, vemos que existe una URL específica para la imagen:\n",
    "\n",
    "* https://imgs.xkcd.com/comics/python.png \n",
    "\n",
    "Para descargar la imagen, hay que ejecutar el siguiente código fuente."
   ]
  },
  {
   "cell_type": "code",
   "execution_count": null,
   "metadata": {},
   "outputs": [],
   "source": [
    "import requests\n",
    "\n",
    "r = requests.get('https://imgs.xkcd.com/comics/python.png')\n",
    "\n",
    "with open('comic.png', 'wb') as f:\n",
    "    f.write(r.content)"
   ]
  },
  {
   "cell_type": "markdown",
   "metadata": {},
   "source": [
    "Al no haber especificado una ruta absoluta, esta imagen se descargará en la misma ruta en la que se esté ejecutando el módulo de Python.\n",
    "\n",
    "\n",
    "### Check HTTP status codes and headers\n",
    "El protocolo HTTP posee una lista de estados de respuesta (https://en.wikipedia.org/wiki/List_of_HTTP_status_codes). Para conocer el estado, podemos hacer uso del atributo status_code."
   ]
  },
  {
   "cell_type": "code",
   "execution_count": null,
   "metadata": {},
   "outputs": [],
   "source": [
    "import requests\n",
    "\n",
    "r = requests.get('https://imgs.xkcd.com/comics/python.png')\n",
    "\n",
    "print(r.status_code)"
   ]
  },
  {
   "cell_type": "markdown",
   "metadata": {},
   "source": [
    "Si únicamente se desea conocer si el estado es correcto o no, el módulo Requests proporciona al objeto de respuesta el atributo ok, el cual puede ser muy útil a la hora de comprobar si una página web está activa o no."
   ]
  },
  {
   "cell_type": "code",
   "execution_count": null,
   "metadata": {},
   "outputs": [],
   "source": [
    "import requests\n",
    "\n",
    "r = requests.get('https://imgs.xkcd.com/comics/python.png')\n",
    "\n",
    "print(r.ok)"
   ]
  },
  {
   "cell_type": "markdown",
   "metadata": {},
   "source": [
    "Para ver las cabeceras que acompañan a la respuesta, podemos hacer uso del atributo headers. Gracias a esto, podremos conocer el servidor, el tipo de contenido, la última fecha de modificación, el tamaño en bytes, etc."
   ]
  },
  {
   "cell_type": "code",
   "execution_count": null,
   "metadata": {},
   "outputs": [],
   "source": [
    "import requests\n",
    "\n",
    "r = requests.get('https://imgs.xkcd.com/comics/python.png')\n",
    "\n",
    "print(r.headers)"
   ]
  },
  {
   "cell_type": "markdown",
   "metadata": {},
   "source": [
    "### httpbin.org \n",
    "De aquí en adelante, vamos a hacer uso del sitio web https://httpbin.org el cual es un servicio simple para hacer pruebas de peticiones y respuesta del protocolo HTTP. Se recomienda encarecidamente al lector navegar por este sitio web para ver todas las posibilidades que ofrece.\n",
    "\n",
    "Mediante el siguiente código fuente podemos enviar una serie de parámetros en la petición get() y analizar la respuesta devuelta por el servicio httpbin.org."
   ]
  },
  {
   "cell_type": "code",
   "execution_count": null,
   "metadata": {},
   "outputs": [],
   "source": [
    "import requests\n",
    "\n",
    "r = requests.get('https://httpbin.org/get?page=5&count=50')\n",
    "\n",
    "print(r.text)"
   ]
  },
  {
   "cell_type": "markdown",
   "metadata": {},
   "source": [
    "Para evitar errores y para conseguir un código fuente más pythonic, vamos a hacer uso de un diccionario para enviar los parámetros."
   ]
  },
  {
   "cell_type": "code",
   "execution_count": null,
   "metadata": {},
   "outputs": [],
   "source": [
    "import requests\n",
    "\n",
    "parameters= {'page': 5, 'count': 50}\n",
    "r = requests.get('https://httpbin.org/get', params=parameters)\n",
    "\n",
    "print('Text:')\n",
    "print(r.text)\n",
    "print('Url:')\n",
    "print(r.url)"
   ]
  },
  {
   "cell_type": "markdown",
   "metadata": {},
   "source": [
    "Para hacer uso del método HTTP POST –para enviar datos al servidor--, el módulo Requests proporciona el método post(). Para ello, basta con cambiar el parámetro params por data. En este ejemplo, vamos a hacer uso del método de autenticación basado en formulario."
   ]
  },
  {
   "cell_type": "code",
   "execution_count": null,
   "metadata": {},
   "outputs": [],
   "source": [
    "import requests\n",
    "\n",
    "parameters= {'username': 'juan', 'password': 'testing'}\n",
    "r = requests.post('https://httpbin.org/post', data=parameters)\n",
    "\n",
    "print(r.text)"
   ]
  },
  {
   "cell_type": "markdown",
   "metadata": {},
   "source": [
    "El servicio httpbin.org también puede proporcionar la respuesta en forma JSON, el cual puede ser muy útil a la hora de tratar respuestas de manera eficiente y de forma muy sencilla."
   ]
  },
  {
   "cell_type": "code",
   "execution_count": null,
   "metadata": {},
   "outputs": [],
   "source": [
    "import requests\n",
    "\n",
    "parameters= {'username': 'juan', 'password': 'testing'}\n",
    "r = requests.post('https://httpbin.org/post', data=parameters)\n",
    "\n",
    "print(r.json())"
   ]
  },
  {
   "cell_type": "markdown",
   "metadata": {},
   "source": [
    "La respuesta viene en un diccionario de Python, por tanto, podemos capturar la respuesta y guardarla en una variable y acceder a los distintos atributos como si de un diccionario se tratase."
   ]
  },
  {
   "cell_type": "code",
   "execution_count": null,
   "metadata": {},
   "outputs": [],
   "source": [
    "import requests\n",
    "\n",
    "parameters= {'username': 'juan', 'password': 'testing'}\n",
    "r = requests.post('https://httpbin.org/post', data=parameters)\n",
    "\n",
    "# Python dictionary\n",
    "r_dict = r.json()\n",
    "\n",
    "print(r_dict['form'])"
   ]
  },
  {
   "cell_type": "markdown",
   "metadata": {},
   "source": [
    "Por otro lado, si se desea hacer uso del método basic access authentication (https://en.wikipedia.org/wiki/Basic_access_authentication), el módulo Requests proporciona herramientas para ello.\n",
    "\n",
    "Recomendamos al lector acceder a la página web del servicio httpbin.org para ver el soporte que proporciona para diferentes métodos de autenticación.\n",
    "\n",
    "Primero, antes de revisar el código fuente, vamos a abrir en una pestaña de nuestro navegador la siguiente URL:\n",
    "\n",
    "* https://httpbin.org/basic-auth/user1/rockandroll"
   ]
  },
  {
   "cell_type": "code",
   "execution_count": null,
   "metadata": {},
   "outputs": [],
   "source": [
    "import requests\n",
    "\n",
    "r = requests.get('https://httpbin.org/basic-auth/user1/rockandroll', auth=('user1', 'rockandroll'))\n",
    "\n",
    "print(r.text)\n",
    "print(r)"
   ]
  },
  {
   "cell_type": "markdown",
   "metadata": {},
   "source": [
    "¿Qué pasa si enviamos credenciales erróneas?"
   ]
  },
  {
   "cell_type": "code",
   "execution_count": null,
   "metadata": {},
   "outputs": [],
   "source": [
    "import requests\n",
    "\n",
    "r = requests.get('https://httpbin.org/basic-auth/user1/rockandroll', auth=('user2', 'rockandroll'))\n",
    "\n",
    "print(r.text)\n",
    "print(r)"
   ]
  },
  {
   "cell_type": "markdown",
   "metadata": {},
   "source": [
    "Una buena práctica es hacer uso del parámetro timeout para establecer un tiempo máximo de espera."
   ]
  },
  {
   "cell_type": "code",
   "execution_count": null,
   "metadata": {},
   "outputs": [],
   "source": [
    "import requests\n",
    "\n",
    "r = requests.get('https://httpbin.org/delay/1', timeout=3)\n",
    "print(r)\n",
    "\n",
    "r = requests.get('https://httpbin.org/delay/8', timeout=3)\n",
    "print(r)"
   ]
  }
 ],
 "metadata": {
  "kernelspec": {
   "display_name": "Python 3",
   "language": "python",
   "name": "python3"
  },
  "language_info": {
   "codemirror_mode": {
    "name": "ipython",
    "version": 3
   },
   "file_extension": ".py",
   "mimetype": "text/x-python",
   "name": "python",
   "nbconvert_exporter": "python",
   "pygments_lexer": "ipython3",
   "version": "3.6.7"
  }
 },
 "nbformat": 4,
 "nbformat_minor": 2
}
