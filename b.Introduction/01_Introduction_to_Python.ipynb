{
 "cells": [
  {
   "cell_type": "markdown",
   "metadata": {},
   "source": [
    "# Introduction to the Python language"
   ]
  },
  {
   "cell_type": "code",
   "execution_count": 1,
   "metadata": {},
   "outputs": [
    {
     "data": {
      "text/html": [
       "/* This template is inspired in the one used by Lorena Barba\n",
       "in the numerical-mooc repository: https://github.com/numerical-mooc/numerical-mooc\n",
       "We thank her work and hope you also enjoy the look of the notobooks with this style */\n",
       "\n",
       "<link href='https://fonts.googleapis.com/css?family=Sofia' rel='stylesheet'>\n",
       "<style>\n",
       "\n",
       "\n",
       "\n",
       "#notebook_panel { /* main background */\n",
       "    background: #f7f7f7;\n",
       "}\n",
       "\n",
       "div.cell { /* set cell width */\n",
       "    width: 900px;\n",
       "}\n",
       "\n",
       "div #notebook { /* centre the content */\n",
       "    background: #fff; /* white background for content */\n",
       "    width: 950px;\n",
       "    margin: auto;\n",
       "    padding-left: 0em;\n",
       "}\n",
       "\n",
       "#notebook li { /* More space between bullet points */\n",
       "    margin-top:0.7em;\n",
       "}\n",
       "\n",
       "/* draw border around running cells */\n",
       "div.cell.border-box-sizing.code_cell.running { \n",
       "    border: 1px solid #111;\n",
       "}\n",
       "\n",
       "/* Put a solid color box around each cell and its output, visually linking them*/\n",
       "div.cell.code_cell {\n",
       "    font-family: 'Courier';\n",
       "    background-color: rgb(256,256,256);\n",
       "    font-size: 110%;\n",
       "    border-radius: 0px; \n",
       "    padding: 0.5em;\n",
       "    margin-left:1em;\n",
       "    margin-top: 1em;\n",
       "}\n",
       "\n",
       "div.text_cell_render{\n",
       "    font-family: 'Times New Roman';\n",
       "    line-height: 145%;\n",
       "    font-size: 125%;\n",
       "    text-align: justify;\n",
       "    font-weight: 500;\n",
       "    width:750px;\n",
       "    margin-left:auto;\n",
       "    margin-right:auto;\n",
       "}\n",
       "\n",
       "/* Formatting for header cells */\n",
       ".text_cell_render h1, .text_cell_render h2, .text_cell_render h3,\n",
       ".text_cell_render h4, .text_cell_render h5 {\n",
       "    font-family: 'Times New Roman', 'Ubuntu Condensed', sans-serif;\n",
       "}\n",
       "\n",
       ".text_cell_render h1 {\n",
       "    text-align: center;\n",
       "    font-weight: 600;\n",
       "    font-size: 35pt;\n",
       "    line-height: 100%;\n",
       "    color: blue;\n",
       "    margin-bottom: 0.1em;\n",
       "    margin-top: 0.3em;\n",
       "    display: block;\n",
       "}\n",
       "\n",
       ".text_cell_render h2 {\n",
       "    margin-top:16px;\n",
       "    font-size: 27pt;\n",
       "    font-weight: 550;\n",
       "    margin-bottom: 0.1em;\n",
       "    margin-top: 0.3em;\n",
       "    font-style: regular;\n",
       "    color: #477C9A;\n",
       "}\t\n",
       "\n",
       ".text_cell_render h3 {\n",
       "    font-size: 20pt;\n",
       "    font-weight: 550\n",
       "    text-align: left;\n",
       "    margin-bottom: 0.1em;\n",
       "    margin-top: 0.3em;\n",
       "    font-style: regular;\n",
       "    color:  #477C9A;\n",
       "}\n",
       "\n",
       ".text_cell_render h4 {    /*Use this for captions*/\n",
       "    font-size: 18pt;\n",
       "    font-weight: 450\n",
       "    text-align: left;\n",
       "    margin-bottom: 0.1em;\n",
       "    margin-top: 0.3em;\n",
       "    font-style: regular;\n",
       "    color:  #477C9A;\n",
       "}\n",
       "\n",
       ".text_cell_render h5 {  /*Use this for small titles*/\n",
       "    font-size: 18pt;\n",
       "    font-weight: 550;\n",
       "    color: rgb(163,0,0);\n",
       "    font-style: italic;\n",
       "    margin-bottom: .1em;\n",
       "    margin-top: 0.8em;\n",
       "    display: block;\n",
       "    color:  #7E7D7D;\n",
       "}\n",
       "\n",
       ".text_cell_render h6 { /*use this for copyright note*/\n",
       "    font-family: 'Ubuntu Condensed', sans-serif;\n",
       "    font-weight: 300;\n",
       "    font-size: 14pt;\n",
       "    line-height: 100%;\n",
       "    color: #252525;\n",
       "    text-align: right;\n",
       "    margin-bottom: 1px;\n",
       "    margin-top: 1px;\n",
       "}\n",
       "\n",
       ".CodeMirror{\n",
       "        font-family: 'Consolas', sans-serif;\n",
       "        font-size: 100%;\n",
       "}\n",
       "\n",
       "</style>\n",
       "<script>\n",
       "    MathJax.Hub.Config({\n",
       "                        TeX: {\n",
       "                           extensions: [\"AMSmath.js\"],\n",
       "                           equationNumbers: { autoNumber: \"AMS\", useLabelIds: true}\n",
       "                           },\n",
       "                tex2jax: {\n",
       "                    inlineMath: [ ['$','$'], [\"\\\\(\",\"\\\\)\"] ],\n",
       "                    displayMath: [ ['$$','$$'], [\"\\\\[\",\"\\\\]\"] ]\n",
       "                },\n",
       "                displayAlign: 'center', // Change this to 'center' to center equations.\n",
       "                \"HTML-CSS\": {\n",
       "                    styles: {'.MathJax_Display': {\"margin\": 4}}\n",
       "                }\n",
       "        });\n",
       "</script>\n"
      ],
      "text/plain": [
       "<IPython.core.display.HTML object>"
      ]
     },
     "execution_count": 1,
     "metadata": {},
     "output_type": "execute_result"
    }
   ],
   "source": [
    "# Esta celda da el estilo al notebook\n",
    "from IPython.core.display import HTML\n",
    "css_style = 'style_1.css'\n",
    "css_file = css_style\n",
    "HTML(open(css_file, \"r\").read())"
   ]
  },
  {
   "cell_type": "markdown",
   "metadata": {},
   "source": [
    "## 1. What is Python"
   ]
  },
  {
   "cell_type": "markdown",
   "metadata": {},
   "source": [
    "Python is an interpreted, flexible language. While this presents some advantages in comparison with compiled languages, it tends to be slower than these. The most basic way to execute Python code line by line is the **Python interpreter**.\n",
    "\n"
   ]
  },
  {
   "cell_type": "markdown",
   "metadata": {},
   "source": [
    "### 1.1 Python Interpreter"
   ]
  },
  {
   "cell_type": "markdown",
   "metadata": {},
   "source": [
    "In order to open the Python interpreter, after installing the corresponding package of Python, is as simple as going to the Terminal and typing `python`.\n",
    "\n",
    "Once open, you can use it as a calculator, type and execute code snippets, etc. It may be convenient to experiment a bit with the language."
   ]
  },
  {
   "cell_type": "markdown",
   "metadata": {},
   "source": [
    "<h4 style = 'color:blue'> Exercise 1</h4>\n",
    "\n",
    "<p style = 'color:blue'>   \n",
    "Use the Python interpreter to assign value to two variables, a and b, and obtain a value c such that c = a + b \n",
    "</p>"
   ]
  },
  {
   "cell_type": "markdown",
   "metadata": {},
   "source": [
    "### 1.2 IPython Interpreter"
   ]
  },
  {
   "cell_type": "markdown",
   "metadata": {},
   "source": [
    "There are some things that are blatantly missing in the Python interpreter in order to consider it as a semi-passable interactive development environment. The IPython is lacking less stuff, and thus it is an improvement. \n",
    "\n",
    "In order to open it, just type `ipython` in the terminal."
   ]
  },
  {
   "cell_type": "markdown",
   "metadata": {},
   "source": [
    "<h4 style = 'color:blue'> Exercise 2</h4>\n",
    "\n",
    "<p style = 'color:blue'>   \n",
    "Use the IPython interpreter to assign value to two variables, a and b, and obtain a value c such that c = a + b \n",
    "</p>"
   ]
  },
  {
   "cell_type": "markdown",
   "metadata": {},
   "source": [
    "### 1.3 Scripts"
   ]
  },
  {
   "cell_type": "markdown",
   "metadata": {},
   "source": [
    "The usual way is to store code in a Python script and run it all at once. These scripts are saved in files with a `.py` extension."
   ]
  },
  {
   "cell_type": "markdown",
   "metadata": {},
   "source": [
    "In order to run a script, we make sure it is in the directory we have opened the terminal and type:\n",
    "\n",
    "```CMD\n",
    ">>> python name.py\n",
    "```"
   ]
  },
  {
   "cell_type": "markdown",
   "metadata": {},
   "source": [
    "We can as well use the Ipython Interpreter and type:\n",
    "\n",
    "```ipython\n",
    "run name.py\n",
    "```"
   ]
  },
  {
   "cell_type": "markdown",
   "metadata": {},
   "source": [
    "<h4 style = 'color:blue'> Exercise 3</h4>\n",
    "\n",
    "<p style = 'color:blue'>   \n",
    "Write a Python script to assign value to two variables, a and b, and obtain a value c such that c = a + b\n",
    "</p>"
   ]
  },
  {
   "cell_type": "markdown",
   "metadata": {},
   "source": [
    "### 1.4 Jupyter notebook"
   ]
  },
  {
   "cell_type": "markdown",
   "metadata": {},
   "source": [
    "While not as fledged as Atom or Visual Studio Code, the Jupyter Notebook is useful as an hybrid between an interactive terminal and a script. "
   ]
  },
  {
   "cell_type": "markdown",
   "metadata": {},
   "source": [
    "<h4 style = 'color:blue'> Exercise 4</h4>\n",
    "\n",
    "<p style = 'color:blue'>   \n",
    "Use the Jupyter Notebook to assign value to two variables, a and b, and obtain a value c such that c = a + b\n",
    "</p>"
   ]
  },
  {
   "cell_type": "markdown",
   "metadata": {},
   "source": [
    "## 2. Python language syntax basics"
   ]
  },
  {
   "cell_type": "markdown",
   "metadata": {},
   "source": [
    "It was originally developed as a teaching language, thus, its syntaxis is easy and clean, reaching the point of being practically \"executable pseudocode\". Before entering into the realm of what is what, let's start with the basics."
   ]
  },
  {
   "cell_type": "markdown",
   "metadata": {},
   "source": [
    "### 2.1 Comments"
   ]
  },
  {
   "cell_type": "markdown",
   "metadata": {},
   "source": [
    "Comments are introduced by a `#`. They can be both in line and at the start of a line."
   ]
  },
  {
   "cell_type": "code",
   "execution_count": 2,
   "metadata": {},
   "outputs": [],
   "source": [
    "# This is a comment\n",
    "a = 2 # This is a comment as well"
   ]
  },
  {
   "cell_type": "markdown",
   "metadata": {},
   "source": [
    "It does not have any syntax for multiline comments. Howevever, multiline strings can be used as such since they don't interfere with the execution.                                  "
   ]
  },
  {
   "cell_type": "code",
   "execution_count": 3,
   "metadata": {},
   "outputs": [],
   "source": [
    "'''\n",
    "This is not a comment, but a multiline string. But if it quacks like a duck and \n",
    "walks like a duck...\n",
    "'''\n",
    "a = 3"
   ]
  },
  {
   "cell_type": "markdown",
   "metadata": {},
   "source": [
    "### 2.2 Terminating a statement"
   ]
  },
  {
   "cell_type": "markdown",
   "metadata": {},
   "source": [
    "The main thing that terminates a statement is the end of the line. However, sometimes we require it to continue to the next line. For that, we use a `\\`."
   ]
  },
  {
   "cell_type": "code",
   "execution_count": 4,
   "metadata": {},
   "outputs": [
    {
     "name": "stdout",
     "output_type": "stream",
     "text": [
      "10\n"
     ]
    }
   ],
   "source": [
    "a = 1 + 2 + 3 \\\n",
    "    + 4\n",
    "\n",
    "print(a)"
   ]
  },
  {
   "cell_type": "markdown",
   "metadata": {},
   "source": [
    "However, this is a bit tricky sometimes. It is not recommended. Try to find the error here:"
   ]
  },
  {
   "cell_type": "code",
   "execution_count": 5,
   "metadata": {},
   "outputs": [
    {
     "ename": "SyntaxError",
     "evalue": "unexpected character after line continuation character (<ipython-input-5-4643a5f5ef40>, line 1)",
     "output_type": "error",
     "traceback": [
      "\u001b[1;36m  File \u001b[1;32m\"<ipython-input-5-4643a5f5ef40>\"\u001b[1;36m, line \u001b[1;32m1\u001b[0m\n\u001b[1;33m    a = 1 + 2 + 3 \\\u001b[0m\n\u001b[1;37m                    ^\u001b[0m\n\u001b[1;31mSyntaxError\u001b[0m\u001b[1;31m:\u001b[0m unexpected character after line continuation character\n"
     ]
    }
   ],
   "source": [
    "a = 1 + 2 + 3 \\ \n",
    "    + 4\n",
    "print(a)"
   ]
  },
  {
   "cell_type": "markdown",
   "metadata": {},
   "source": [
    "It is recommended to use parenthesis for this. It's much more readable as well (Unless you're in the fifth bracket or something like that):"
   ]
  },
  {
   "cell_type": "code",
   "execution_count": 6,
   "metadata": {},
   "outputs": [
    {
     "name": "stdout",
     "output_type": "stream",
     "text": [
      "10\n"
     ]
    }
   ],
   "source": [
    "a = (1 + 2 + 3 \n",
    "     + 4)\n",
    "print(a)"
   ]
  },
  {
   "cell_type": "markdown",
   "metadata": {},
   "source": [
    "You can as well optionally terminate a statement before. For this you use a `;`."
   ]
  },
  {
   "cell_type": "code",
   "execution_count": 7,
   "metadata": {},
   "outputs": [
    {
     "name": "stdout",
     "output_type": "stream",
     "text": [
      "10 15\n"
     ]
    }
   ],
   "source": [
    "a = 10; b = 15\n",
    "print(a,b)"
   ]
  },
  {
   "cell_type": "markdown",
   "metadata": {},
   "source": [
    "The style guide discourages this. But the Enter button disagreees."
   ]
  },
  {
   "cell_type": "markdown",
   "metadata": {},
   "source": [
    "### 2.3 Indentation: The ugly duck"
   ]
  },
  {
   "cell_type": "markdown",
   "metadata": {},
   "source": [
    "Now this is what everyone does not seem to like, and sometimes for a good reason. In other languages, such as C, a loop is set with something like:"
   ]
  },
  {
   "cell_type": "markdown",
   "metadata": {},
   "source": [
    "```C\n",
    "for(int i=0; i<100; i++)\n",
    "    {\n",
    "    total += i;\n",
    "    }\n",
    "```"
   ]
  },
  {
   "cell_type": "markdown",
   "metadata": {},
   "source": [
    "Here, the curly braces act as the definition of the `for` loop. This is pretty common. Other languages, like `MATLAB`, use end statements:"
   ]
  },
  {
   "cell_type": "markdown",
   "metadata": {},
   "source": [
    "```Matlab\n",
    "for i = 0:100\n",
    "    total = total + i;\n",
    "end\n",
    "```"
   ]
  },
  {
   "cell_type": "markdown",
   "metadata": {},
   "source": [
    "However, Python uses pure indentation. "
   ]
  },
  {
   "cell_type": "code",
   "execution_count": 10,
   "metadata": {
    "scrolled": true
   },
   "outputs": [
    {
     "name": "stdout",
     "output_type": "stream",
     "text": [
      "4950\n"
     ]
    }
   ],
   "source": [
    "total = 0\n",
    "for i in range(100):\n",
    "    total += i\n",
    "print(total)"
   ]
  },
  {
   "cell_type": "markdown",
   "metadata": {},
   "source": [
    "This is analogous to `if` statements, function definitions, etc. The colon (`:`) preceding the indentation is neccesary as well.\n",
    "\n",
    "While this increases the readability, it may as well hinder it, specially when there are a loot of nested loops."
   ]
  },
  {
   "cell_type": "markdown",
   "metadata": {},
   "source": [
    "## 3. Variables and Objects"
   ]
  },
  {
   "cell_type": "markdown",
   "metadata": {},
   "source": [
    "Now this is more than what the standard Python user will need to know about the different objects that are part of the language."
   ]
  },
  {
   "cell_type": "markdown",
   "metadata": {},
   "source": [
    "### 3.1 Variables are pointers"
   ]
  },
  {
   "cell_type": "markdown",
   "metadata": {},
   "source": [
    "In Python, variables do not need to be declared. Thus, it is dynamically typed. What a variable is in each moment can change. For example."
   ]
  },
  {
   "cell_type": "code",
   "execution_count": 11,
   "metadata": {},
   "outputs": [
    {
     "name": "stdout",
     "output_type": "stream",
     "text": [
      "3 <class 'int'>\n",
      "Hello <class 'str'>\n"
     ]
    }
   ],
   "source": [
    "a = 3\n",
    "print(a, type(a))\n",
    "a = 'Hello'\n",
    "print(a, type(a))"
   ]
  },
  {
   "cell_type": "markdown",
   "metadata": {},
   "source": [
    "However, from this dynamic typing, the user must be aware of some behaviours. If you define a variable from another variable that is a mutable object, changing one will change the other, because they are refering to the same object."
   ]
  },
  {
   "cell_type": "code",
   "execution_count": 12,
   "metadata": {},
   "outputs": [
    {
     "name": "stdout",
     "output_type": "stream",
     "text": [
      "[1, 2, 3]\n",
      "[17, 2, 3]\n"
     ]
    }
   ],
   "source": [
    "a = [1,2,3]\n",
    "b = a\n",
    "print(b)\n",
    "a[0] = 17\n",
    "print(b)"
   ]
  },
  {
   "cell_type": "markdown",
   "metadata": {},
   "source": [
    "However, if we reassign one variable, it will not reassign the other. Assigning is just changing the pointer of that avariable."
   ]
  },
  {
   "cell_type": "code",
   "execution_count": 13,
   "metadata": {
    "scrolled": true
   },
   "outputs": [
    {
     "name": "stdout",
     "output_type": "stream",
     "text": [
      "[17, 2, 3]\n",
      "[17, 2, 3]\n",
      "Not a list\n",
      "[17, 2, 3]\n"
     ]
    }
   ],
   "source": [
    "print(a)\n",
    "print(b)\n",
    "a = 'Not a list'\n",
    "print(a)\n",
    "print(b)"
   ]
  },
  {
   "cell_type": "markdown",
   "metadata": {},
   "source": [
    "### 3.2 Everything is an object"
   ]
  },
  {
   "cell_type": "markdown",
   "metadata": {},
   "source": [
    "Everything in Python is an object:"
   ]
  },
  {
   "cell_type": "code",
   "execution_count": 14,
   "metadata": {},
   "outputs": [
    {
     "name": "stdout",
     "output_type": "stream",
     "text": [
      "<class 'int'>\n",
      "<class 'float'>\n",
      "<class 'str'>\n",
      "<class 'list'>\n"
     ]
    }
   ],
   "source": [
    "x = 4\n",
    "print(type(x))\n",
    "\n",
    "x = 4.0\n",
    "print(type(x))\n",
    "\n",
    "x = 'string'\n",
    "print(type(x))\n",
    "\n",
    "x = []\n",
    "print(type(x))"
   ]
  },
  {
   "cell_type": "markdown",
   "metadata": {},
   "source": [
    "Therefore, everything has methods and attributes. For example, for a list:"
   ]
  },
  {
   "cell_type": "code",
   "execution_count": 15,
   "metadata": {},
   "outputs": [
    {
     "data": {
      "text/plain": [
       "[2]"
      ]
     },
     "execution_count": 15,
     "metadata": {},
     "output_type": "execute_result"
    }
   ],
   "source": [
    "a = []\n",
    "a.append(2)\n",
    "a"
   ]
  },
  {
   "cell_type": "markdown",
   "metadata": {},
   "source": [
    "And even the numbers have attributes:"
   ]
  },
  {
   "cell_type": "code",
   "execution_count": 20,
   "metadata": {},
   "outputs": [
    {
     "name": "stdout",
     "output_type": "stream",
     "text": [
      "17.0 2.0\n"
     ]
    }
   ],
   "source": [
    "a = 17 + 2j\n",
    "print(a.real, a.imag)"
   ]
  },
  {
   "cell_type": "markdown",
   "metadata": {},
   "source": [
    "And methods:"
   ]
  },
  {
   "cell_type": "code",
   "execution_count": 22,
   "metadata": {},
   "outputs": [
    {
     "name": "stdout",
     "output_type": "stream",
     "text": [
      "False\n"
     ]
    }
   ],
   "source": [
    "a = 18.78\n",
    "print(a.is_integer())"
   ]
  },
  {
   "cell_type": "markdown",
   "metadata": {},
   "source": [
    "Even the methods and attributes are themselves objects"
   ]
  },
  {
   "cell_type": "code",
   "execution_count": 25,
   "metadata": {},
   "outputs": [
    {
     "data": {
      "text/plain": [
       "builtin_function_or_method"
      ]
     },
     "execution_count": 25,
     "metadata": {},
     "output_type": "execute_result"
    }
   ],
   "source": [
    "type(a.is_integer)"
   ]
  },
  {
   "cell_type": "markdown",
   "metadata": {},
   "source": [
    "## 4. Operators"
   ]
  },
  {
   "cell_type": "markdown",
   "metadata": {},
   "source": [
    "We all know the basic operators. We only specify here some of the \"weird\" ones:"
   ]
  },
  {
   "cell_type": "code",
   "execution_count": 35,
   "metadata": {},
   "outputs": [
    {
     "name": "stdout",
     "output_type": "stream",
     "text": [
      "Floor division: 2\n",
      "Modulus: 0\n",
      "Exponentiation: 16\n",
      "Matrix multiplication: 8\n"
     ]
    }
   ],
   "source": [
    "# Floor division\n",
    "print('Floor division:', 17 // 8)\n",
    "\n",
    "# Modulus\n",
    "print('Modulus:', 18 % 2)\n",
    "\n",
    "# Exponentiation\n",
    "print('Exponentiation:', 2**4)\n",
    "\n",
    "# Matrix multiplication\n",
    "import numpy as np\n",
    "print('Matrix multiplication:', np.array([1,2]) @ np.array([2,3]))"
   ]
  },
  {
   "cell_type": "markdown",
   "metadata": {},
   "source": [
    "### 4.1 Bitwise operators"
   ]
  },
  {
   "cell_type": "markdown",
   "metadata": {},
   "source": [
    "There are also bitwise operations, which at least when working with Python mathematically, are much more less used."
   ]
  },
  {
   "cell_type": "code",
   "execution_count": 49,
   "metadata": {},
   "outputs": [
    {
     "name": "stdout",
     "output_type": "stream",
     "text": [
      "Bitwise 12 AND 13: 0b1100 0b1101\n",
      "12\n",
      "\n",
      "Bitwise 12 OR 13: 0b1100 0b1101\n",
      "13\n",
      "\n",
      "Bitwise 12 XOR 13: 0b1100 0b1101\n",
      "1\n",
      "\n",
      "Bitshift left 12, 3 : 0b1100 0b11\n",
      "96\n",
      "\n",
      "Bitshift right 12,3: 0b1100 0b11\n",
      "1\n"
     ]
    }
   ],
   "source": [
    "# Bitwise AND\n",
    "print('Bitwise 12 AND 13:', bin(12), bin(13))\n",
    "print(12 & 13)\n",
    "\n",
    "# Bitwise OR\n",
    "print('\\nBitwise 12 OR 13:', bin(12), bin(13))\n",
    "print(12 | 13)\n",
    "\n",
    "# Bitwise XOR\n",
    "print('\\nBitwise 12 XOR 13:', bin(12), bin(13))\n",
    "print(12 ^ 13)\n",
    "\n",
    "# Bitshift left\n",
    "print('\\nBitshift left 12, 3 :', bin(12), bin(3))\n",
    "print(12 << 3)\n",
    "\n",
    "# Bitshift right\n",
    "print('\\nBitshift right 12,3:', bin(12), bin(3))\n",
    "print(12 >> 3)"
   ]
  },
  {
   "cell_type": "markdown",
   "metadata": {},
   "source": [
    "### 4.2 Assignment operators"
   ]
  },
  {
   "cell_type": "markdown",
   "metadata": {},
   "source": [
    "We used one previously:"
   ]
  },
  {
   "cell_type": "code",
   "execution_count": 51,
   "metadata": {},
   "outputs": [
    {
     "name": "stdout",
     "output_type": "stream",
     "text": [
      "2\n",
      "-2\n",
      "2\n",
      "0.5\n"
     ]
    }
   ],
   "source": [
    "a = 0\n",
    "a += 2\n",
    "print(a)\n",
    "\n",
    "a = 0\n",
    "a -= 2\n",
    "print(a)\n",
    "\n",
    "a = 1\n",
    "a *= 2\n",
    "print(a)\n",
    "\n",
    "a = 1\n",
    "a /= 2\n",
    "print(a)"
   ]
  },
  {
   "cell_type": "markdown",
   "metadata": {},
   "source": [
    "There are also assignment operator for each of the binary operators."
   ]
  },
  {
   "cell_type": "markdown",
   "metadata": {},
   "source": [
    "### 4.3 Other operators"
   ]
  },
  {
   "cell_type": "markdown",
   "metadata": {},
   "source": [
    "We also have the comparison operators:"
   ]
  },
  {
   "cell_type": "code",
   "execution_count": 63,
   "metadata": {},
   "outputs": [
    {
     "name": "stdout",
     "output_type": "stream",
     "text": [
      "False\n",
      "True\n",
      "True\n",
      "False\n"
     ]
    }
   ],
   "source": [
    "print( 12 == 13)\n",
    "print( 12 != 13)\n",
    "print( 12 < 13)\n",
    "print( 12 > 13)"
   ]
  },
  {
   "cell_type": "markdown",
   "metadata": {},
   "source": [
    "We can combine these conditions using boolean operations:"
   ]
  },
  {
   "cell_type": "code",
   "execution_count": 66,
   "metadata": {},
   "outputs": [
    {
     "name": "stdout",
     "output_type": "stream",
     "text": [
      "True\n",
      "False\n",
      "True\n"
     ]
    }
   ],
   "source": [
    "print(12 != 13 and 12 < 13)\n",
    "print(12 == 13 and 12 < 13)\n",
    "print(12 == 13 or 12 < 13)"
   ]
  },
  {
   "cell_type": "markdown",
   "metadata": {},
   "source": [
    "An important and confusing thing. When we want to use a mask over a numerical array, we have to use bitwise operators in order to do it element by element. For example:"
   ]
  },
  {
   "cell_type": "code",
   "execution_count": 69,
   "metadata": {},
   "outputs": [
    {
     "name": "stdout",
     "output_type": "stream",
     "text": [
      "[3 4]\n"
     ]
    }
   ],
   "source": [
    "array = np.array([1,2,3,4,5,6])\n",
    "print(array[(array > 2) & (array < 5)])"
   ]
  },
  {
   "cell_type": "markdown",
   "metadata": {},
   "source": [
    "Some other operations are such that:"
   ]
  },
  {
   "cell_type": "code",
   "execution_count": 73,
   "metadata": {},
   "outputs": [
    {
     "name": "stdout",
     "output_type": "stream",
     "text": [
      "False\n",
      "True\n",
      "True\n",
      "False\n"
     ]
    }
   ],
   "source": [
    "print(12 is 13)\n",
    "print(12 is not 13)\n",
    "print(12 in [12,13])\n",
    "print(12 not in [12,13])"
   ]
  },
  {
   "cell_type": "markdown",
   "metadata": {},
   "source": [
    "<h4 style = 'color:blue'> Exercise 5</h4>\n",
    "\n",
    "<p style = 'color:blue'>   \n",
    "What is the expected result of this snippet of code:<br>\n",
    "a = [1,2,3]\n",
    "    <br>\n",
    "b = [1,2,3]\n",
    "    <br>\n",
    "print(a is b)\n",
    "    <br>\n",
    "print(a == b)\n",
    "</p>"
   ]
  },
  {
   "cell_type": "markdown",
   "metadata": {},
   "source": [
    "## 5. Simple Values"
   ]
  },
  {
   "cell_type": "markdown",
   "metadata": {},
   "source": [
    "Python offers the following scalar types:"
   ]
  },
  {
   "cell_type": "code",
   "execution_count": 75,
   "metadata": {},
   "outputs": [
    {
     "name": "stdout",
     "output_type": "stream",
     "text": [
      "<class 'int'>\n",
      "<class 'float'>\n",
      "<class 'complex'>\n",
      "<class 'bool'>\n",
      "<class 'str'>\n",
      "<class 'NoneType'>\n"
     ]
    }
   ],
   "source": [
    "# Integers \n",
    "x = 1\n",
    "print(type(x))\n",
    "\n",
    "# Float\n",
    "x = 1.0\n",
    "print(type(x))\n",
    "\n",
    "# Complex \n",
    "x = 1j\n",
    "print(type(x))\n",
    "\n",
    "# Boolean \n",
    "x = True\n",
    "print(type(x))\n",
    "\n",
    "# String \n",
    "x = '1'\n",
    "print(type(x))\n",
    "\n",
    "# NoneType \n",
    "x = None\n",
    "print(type(x))"
   ]
  },
  {
   "cell_type": "markdown",
   "metadata": {},
   "source": [
    "### 5.1 Integers"
   ]
  },
  {
   "cell_type": "markdown",
   "metadata": {},
   "source": [
    "They have arbitrary precision. They do not overflow."
   ]
  },
  {
   "cell_type": "code",
   "execution_count": 81,
   "metadata": {},
   "outputs": [
    {
     "data": {
      "text/plain": [
       "2582249878086908589655919172003011874329705792829223512830659356540647622016841194629645353280137831435903171972747493376"
      ]
     },
     "execution_count": 81,
     "metadata": {},
     "output_type": "execute_result"
    }
   ],
   "source": [
    "2**400"
   ]
  },
  {
   "cell_type": "markdown",
   "metadata": {},
   "source": [
    "If you are working on Python 3, the division upcasts to floating point. In Python 2 however, it truncates the decimals and returns another integer."
   ]
  },
  {
   "cell_type": "markdown",
   "metadata": {},
   "source": [
    "### 5.2 Floats"
   ]
  },
  {
   "cell_type": "markdown",
   "metadata": {},
   "source": [
    "Decimals. You can pass an integer to a float and, if possible, viceversa."
   ]
  },
  {
   "cell_type": "code",
   "execution_count": 84,
   "metadata": {},
   "outputs": [
    {
     "name": "stdout",
     "output_type": "stream",
     "text": [
      "<class 'float'>\n",
      "<class 'int'>\n",
      "False\n"
     ]
    }
   ],
   "source": [
    "a = 12.0\n",
    "print(type(a))\n",
    "b = int(a)\n",
    "print(type(b))\n",
    "print(a is b)"
   ]
  },
  {
   "cell_type": "code",
   "execution_count": 86,
   "metadata": {},
   "outputs": [
    {
     "name": "stdout",
     "output_type": "stream",
     "text": [
      "<class 'int'>\n",
      "<class 'float'>\n",
      "False\n",
      "True\n"
     ]
    }
   ],
   "source": [
    "a = 12\n",
    "print(type(a))\n",
    "b = float(a)\n",
    "print(type(b))\n",
    "print(a is b)\n",
    "print(a == b)"
   ]
  },
  {
   "cell_type": "markdown",
   "metadata": {},
   "source": [
    "The precision is however limited. "
   ]
  },
  {
   "cell_type": "code",
   "execution_count": 93,
   "metadata": {},
   "outputs": [
    {
     "name": "stdout",
     "output_type": "stream",
     "text": [
      "False\n",
      "0.1 = 0.10000000000000001\n",
      "0.2 = 0.20000000000000001\n",
      "0.3 = 0.29999999999999999\n",
      "==========================\n",
      "True\n",
      "0.2 = 0.20000000000000001\n",
      "0.3 = 0.29999999999999999\n",
      "0.5 = 0.50000000000000000\n"
     ]
    }
   ],
   "source": [
    "print(0.1 + 0.2 == 0.3)\n",
    "print('0.1 = {0:.17f}'.format(0.1))\n",
    "print('0.2 = {0:.17f}'.format(0.2))\n",
    "print('0.3 = {0:.17f}'.format(0.3))\n",
    "print('==========================')\n",
    "print(0.2 + 0.3 == 0.5)\n",
    "print('0.2 = {0:.17f}'.format(0.2))\n",
    "print('0.3 = {0:.17f}'.format(0.3))\n",
    "print('0.5 = {0:.17f}'.format(0.5))"
   ]
  },
  {
   "cell_type": "markdown",
   "metadata": {},
   "source": [
    "### 5.3 Complex numbers"
   ]
  },
  {
   "cell_type": "markdown",
   "metadata": {},
   "source": [
    "Some methods for the complex numbers are:"
   ]
  },
  {
   "cell_type": "code",
   "execution_count": 95,
   "metadata": {},
   "outputs": [
    {
     "name": "stdout",
     "output_type": "stream",
     "text": [
      "Real part: 12.0\n",
      "Img. part: 4.0\n",
      "Conjugate: (12-4j)\n",
      "Magnitude: 12.649110640673518\n"
     ]
    }
   ],
   "source": [
    "n = 12 + 4j\n",
    "print('Real part:', n.real)\n",
    "print('Img. part:', n.imag)\n",
    "print('Conjugate:', n.conjugate())\n",
    "print('Magnitude:', abs(n))"
   ]
  },
  {
   "cell_type": "markdown",
   "metadata": {},
   "source": [
    "### 5.4 Strings"
   ]
  },
  {
   "cell_type": "markdown",
   "metadata": {},
   "source": [
    "Some useful methods are:"
   ]
  },
  {
   "cell_type": "code",
   "execution_count": 99,
   "metadata": {},
   "outputs": [
    {
     "name": "stdout",
     "output_type": "stream",
     "text": [
      "Length: 12\n",
      "Upercase: GOOD MORNING\n",
      "Capitalize: Good morning\n",
      "Concatenation: good morning sir\n",
      "Multiple concatenation: good morninggood morninggood morninggood morning\n"
     ]
    }
   ],
   "source": [
    "s = 'good morning'\n",
    "\n",
    "print('Length:', len(s))\n",
    "print('Upercase:', s.upper())\n",
    "print('Capitalize:', s.capitalize())\n",
    "print('Concatenation:', s + ' sir')\n",
    "print('Multiple concatenation:', s*4)"
   ]
  },
  {
   "cell_type": "markdown",
   "metadata": {},
   "source": [
    "You can access each character how you would access a list."
   ]
  },
  {
   "cell_type": "code",
   "execution_count": 100,
   "metadata": {},
   "outputs": [
    {
     "data": {
      "text/plain": [
       "'g'"
      ]
     },
     "execution_count": 100,
     "metadata": {},
     "output_type": "execute_result"
    }
   ],
   "source": [
    "s[0]"
   ]
  },
  {
   "cell_type": "markdown",
   "metadata": {},
   "source": [
    "## 6. Data structures"
   ]
  },
  {
   "cell_type": "markdown",
   "metadata": {},
   "source": [
    "There are multiple data structures."
   ]
  },
  {
   "cell_type": "markdown",
   "metadata": {},
   "source": [
    "### 6.1 Lists"
   ]
  },
  {
   "cell_type": "markdown",
   "metadata": {},
   "source": [
    "Lists are **ordered** and **mutable** collections of data. They are defined between `[]`."
   ]
  },
  {
   "cell_type": "code",
   "execution_count": 108,
   "metadata": {},
   "outputs": [],
   "source": [
    "some_list = [1, 'a', [1,2,3]]"
   ]
  },
  {
   "cell_type": "markdown",
   "metadata": {},
   "source": [
    "They can collect **any** kind of data. Even other lists. The elements are accessed using a 0-index system."
   ]
  },
  {
   "cell_type": "code",
   "execution_count": 104,
   "metadata": {},
   "outputs": [
    {
     "name": "stdout",
     "output_type": "stream",
     "text": [
      "1\n",
      "[1, 2, 3]\n",
      "2\n"
     ]
    }
   ],
   "source": [
    "print(some_list[0])\n",
    "print(some_list[2])\n",
    "print(some_list[2][1])"
   ]
  },
  {
   "cell_type": "markdown",
   "metadata": {},
   "source": [
    "If the index is negative, they start from the end of the list, being -1 the last element:"
   ]
  },
  {
   "cell_type": "code",
   "execution_count": 105,
   "metadata": {},
   "outputs": [
    {
     "name": "stdout",
     "output_type": "stream",
     "text": [
      "[1, 2, 3]\n"
     ]
    }
   ],
   "source": [
    "print(some_list[-1])"
   ]
  },
  {
   "cell_type": "markdown",
   "metadata": {},
   "source": [
    "There are other indexing syntaxis:"
   ]
  },
  {
   "cell_type": "code",
   "execution_count": 126,
   "metadata": {},
   "outputs": [
    {
     "name": "stdout",
     "output_type": "stream",
     "text": [
      "[1, 2, 3]\n",
      "[4, 5, 6, 7, 8]\n",
      "[1, 3, 5, 7]\n",
      "[1, 3, 5, 7]\n"
     ]
    }
   ],
   "source": [
    "L = [1,2,3,4,5,6,7,8]\n",
    "print(L[:3])\n",
    "print(L[3:])\n",
    "print(L[0:-1:2])\n",
    "print(L[::2])"
   ]
  },
  {
   "cell_type": "markdown",
   "metadata": {},
   "source": [
    "Some useful methods are:"
   ]
  },
  {
   "cell_type": "code",
   "execution_count": 117,
   "metadata": {},
   "outputs": [
    {
     "name": "stdout",
     "output_type": "stream",
     "text": [
      "Length: 9\n",
      "Append: [1, 'a', [1, 2, 3], 2, 2, 2, 2, 2, 2, 2]\n",
      "Concatenate: [1, 'a', [1, 2, 3], 2, 2, 2, 2, 2, 2, 2, 1, 2, 3]\n",
      "Sorting: [1, 2, 3, 4]\n"
     ]
    }
   ],
   "source": [
    "print('Length:', len(some_list))\n",
    "some_list.append(2)\n",
    "print('Append:', some_list)\n",
    "print('Concatenate:', some_list + [1,2,3])\n",
    "L = [1,4,2,3]\n",
    "L.sort()\n",
    "print('Sorting:', L)"
   ]
  },
  {
   "cell_type": "markdown",
   "metadata": {},
   "source": [
    "### 6.2 Tuples"
   ]
  },
  {
   "cell_type": "markdown",
   "metadata": {},
   "source": [
    "Tuples are similar to lists, but defined with parentheses rather than square brackets. However, they are immutable."
   ]
  },
  {
   "cell_type": "code",
   "execution_count": 129,
   "metadata": {},
   "outputs": [
    {
     "name": "stdout",
     "output_type": "stream",
     "text": [
      "1\n"
     ]
    }
   ],
   "source": [
    "T = (1,'a')\n",
    "print(T[0])"
   ]
  },
  {
   "cell_type": "markdown",
   "metadata": {},
   "source": [
    "Tuples don't have methods for appending and removing elements. They only have `count`and `index`."
   ]
  },
  {
   "cell_type": "markdown",
   "metadata": {},
   "source": [
    "### 6.3 Dictionaries"
   ]
  },
  {
   "cell_type": "markdown",
   "metadata": {},
   "source": [
    "These are the basis of an important portion of Python's internal implementation. They can be created using curly braces:"
   ]
  },
  {
   "cell_type": "code",
   "execution_count": 130,
   "metadata": {},
   "outputs": [],
   "source": [
    "dic = {} # Empty dictionary"
   ]
  },
  {
   "cell_type": "markdown",
   "metadata": {},
   "source": [
    "They need keys, which can be strings, numbers or tuples, and values, which can be anything."
   ]
  },
  {
   "cell_type": "code",
   "execution_count": 135,
   "metadata": {},
   "outputs": [
    {
     "data": {
      "text/plain": [
       "{'Two': (1, 2, 3), 1: 'Hello', (1, 'Hi', (1, 2)): ['Whaddup', 12, 3]}"
      ]
     },
     "execution_count": 135,
     "metadata": {},
     "output_type": "execute_result"
    }
   ],
   "source": [
    "dic['Two'] = (1,2,3)\n",
    "dic[1] = 'Hello'\n",
    "dic[(1,'Hi',(1,2))] = ['Whaddup', 12, 3]\n",
    "dic"
   ]
  },
  {
   "cell_type": "markdown",
   "metadata": {},
   "source": [
    "Dictionaries **do not maintain any sense of order** for the input parameters."
   ]
  },
  {
   "cell_type": "markdown",
   "metadata": {},
   "source": [
    "### 6.4 Sets"
   ]
  },
  {
   "cell_type": "markdown",
   "metadata": {},
   "source": [
    "Sets are unordered collections of unique items. They are defined similar to dictionaries, but without keys."
   ]
  },
  {
   "cell_type": "code",
   "execution_count": 136,
   "metadata": {},
   "outputs": [],
   "source": [
    "even = {2, 4, 6}\n",
    "odd = {1, 3, 5}"
   ]
  },
  {
   "cell_type": "markdown",
   "metadata": {},
   "source": [
    "The operations of a set are the expected:"
   ]
  },
  {
   "cell_type": "code",
   "execution_count": 143,
   "metadata": {},
   "outputs": [
    {
     "name": "stdout",
     "output_type": "stream",
     "text": [
      "Intersection: set()\n",
      "Union: {1, 2, 3, 4, 5, 6}\n",
      "Difference: {2, 4, 6}\n",
      "Symetric difference: {1, 2, 3, 4, 5, 6}\n"
     ]
    }
   ],
   "source": [
    "print('Intersection:', even & odd)\n",
    "print('Union:', even | odd)\n",
    "print('Difference:', even - odd)\n",
    "print('Symetric difference:', even ^odd)"
   ]
  }
 ],
 "metadata": {
  "kernelspec": {
   "display_name": "Python 3",
   "language": "python",
   "name": "python3"
  },
  "language_info": {
   "codemirror_mode": {
    "name": "ipython",
    "version": 3
   },
   "file_extension": ".py",
   "mimetype": "text/x-python",
   "name": "python",
   "nbconvert_exporter": "python",
   "pygments_lexer": "ipython3",
   "version": "3.6.8"
  }
 },
 "nbformat": 4,
 "nbformat_minor": 2
}
