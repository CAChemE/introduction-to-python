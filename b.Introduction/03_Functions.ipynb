{
 "cells": [
  {
   "cell_type": "markdown",
   "metadata": {},
   "source": [
    "# Functions"
   ]
  },
  {
   "cell_type": "code",
   "execution_count": 1,
   "metadata": {
    "scrolled": false
   },
   "outputs": [
    {
     "data": {
      "text/html": [
       "/* This template is inspired in the one used by Lorena Barba\n",
       "in the numerical-mooc repository: https://github.com/numerical-mooc/numerical-mooc\n",
       "We thank her work and hope you also enjoy the look of the notobooks with this style */\n",
       "\n",
       "<link href='https://fonts.googleapis.com/css?family=Sofia' rel='stylesheet'>\n",
       "<style>\n",
       "\n",
       "\n",
       "\n",
       "#notebook_panel { /* main background */\n",
       "    background: #f7f7f7;\n",
       "}\n",
       "\n",
       "div.cell { /* set cell width */\n",
       "    width: 900px;\n",
       "}\n",
       "\n",
       "div #notebook { /* centre the content */\n",
       "    background: #fff; /* white background for content */\n",
       "    width: 950px;\n",
       "    margin: auto;\n",
       "    padding-left: 0em;\n",
       "}\n",
       "\n",
       "#notebook li { /* More space between bullet points */\n",
       "    margin-top:0.7em;\n",
       "}\n",
       "\n",
       "/* draw border around running cells */\n",
       "div.cell.border-box-sizing.code_cell.running { \n",
       "    border: 1px solid #111;\n",
       "}\n",
       "\n",
       "/* Put a solid color box around each cell and its output, visually linking them*/\n",
       "div.cell.code_cell {\n",
       "    font-family: 'Courier';\n",
       "    background-color: rgb(256,256,256);\n",
       "    font-size: 110%;\n",
       "    border-radius: 0px; \n",
       "    padding: 0.5em;\n",
       "    margin-left:1em;\n",
       "    margin-top: 1em;\n",
       "}\n",
       "\n",
       "div.text_cell_render{\n",
       "    font-family: 'Times New Roman';\n",
       "    line-height: 145%;\n",
       "    font-size: 125%;\n",
       "    text-align: justify;\n",
       "    font-weight: 500;\n",
       "    width:750px;\n",
       "    margin-left:auto;\n",
       "    margin-right:auto;\n",
       "}\n",
       "\n",
       "/* Formatting for header cells */\n",
       ".text_cell_render h1, .text_cell_render h2, .text_cell_render h3,\n",
       ".text_cell_render h4, .text_cell_render h5 {\n",
       "    font-family: 'Times New Roman', 'Ubuntu Condensed', sans-serif;\n",
       "}\n",
       "\n",
       ".text_cell_render h1 {\n",
       "    text-align: center;\n",
       "    font-weight: 600;\n",
       "    font-size: 35pt;\n",
       "    line-height: 100%;\n",
       "    color: blue;\n",
       "    margin-bottom: 0.1em;\n",
       "    margin-top: 0.3em;\n",
       "    display: block;\n",
       "}\n",
       "\n",
       ".text_cell_render h2 {\n",
       "    margin-top:16px;\n",
       "    font-size: 27pt;\n",
       "    font-weight: 550;\n",
       "    margin-bottom: 0.1em;\n",
       "    margin-top: 0.3em;\n",
       "    font-style: regular;\n",
       "    color: #477C9A;\n",
       "}\t\n",
       "\n",
       ".text_cell_render h3 {\n",
       "    font-size: 20pt;\n",
       "    font-weight: 550\n",
       "    text-align: left;\n",
       "    margin-bottom: 0.1em;\n",
       "    margin-top: 0.3em;\n",
       "    font-style: regular;\n",
       "    color:  #477C9A;\n",
       "}\n",
       "\n",
       ".text_cell_render h4 {    /*Use this for captions*/\n",
       "    font-size: 18pt;\n",
       "    font-weight: 450\n",
       "    text-align: left;\n",
       "    margin-bottom: 0.1em;\n",
       "    margin-top: 0.3em;\n",
       "    font-style: regular;\n",
       "    color:  #477C9A;\n",
       "}\n",
       "\n",
       ".text_cell_render h5 {  /*Use this for small titles*/\n",
       "    font-size: 18pt;\n",
       "    font-weight: 550;\n",
       "    color: rgb(163,0,0);\n",
       "    font-style: italic;\n",
       "    margin-bottom: .1em;\n",
       "    margin-top: 0.8em;\n",
       "    display: block;\n",
       "    color:  #7E7D7D;\n",
       "}\n",
       "\n",
       ".text_cell_render h6 { /*use this for copyright note*/\n",
       "    font-family: 'Ubuntu Condensed', sans-serif;\n",
       "    font-weight: 300;\n",
       "    font-size: 14pt;\n",
       "    line-height: 100%;\n",
       "    color: #252525;\n",
       "    text-align: right;\n",
       "    margin-bottom: 1px;\n",
       "    margin-top: 1px;\n",
       "}\n",
       "\n",
       ".CodeMirror{\n",
       "        font-family: 'Consolas', sans-serif;\n",
       "        font-size: 100%;\n",
       "}\n",
       "\n",
       "</style>\n",
       "<script>\n",
       "    MathJax.Hub.Config({\n",
       "                        TeX: {\n",
       "                           extensions: [\"AMSmath.js\"],\n",
       "                           equationNumbers: { autoNumber: \"AMS\", useLabelIds: true}\n",
       "                           },\n",
       "                tex2jax: {\n",
       "                    inlineMath: [ ['$','$'], [\"\\\\(\",\"\\\\)\"] ],\n",
       "                    displayMath: [ ['$$','$$'], [\"\\\\[\",\"\\\\]\"] ]\n",
       "                },\n",
       "                displayAlign: 'center', // Change this to 'center' to center equations.\n",
       "                \"HTML-CSS\": {\n",
       "                    styles: {'.MathJax_Display': {\"margin\": 4}}\n",
       "                }\n",
       "        });\n",
       "</script>\n"
      ],
      "text/plain": [
       "<IPython.core.display.HTML object>"
      ]
     },
     "execution_count": 1,
     "metadata": {},
     "output_type": "execute_result"
    }
   ],
   "source": [
    "# Esta celda da el estilo al notebook\n",
    "from IPython.core.display import HTML\n",
    "css_style = 'style_1.css'\n",
    "css_file = css_style\n",
    "HTML(open(css_file, \"r\").read())"
   ]
  },
  {
   "cell_type": "markdown",
   "metadata": {},
   "source": [
    "These are one of the main blocks used during programming. Reusable functions. There are two main ways of defining them, `def` and `lambda`. "
   ]
  },
  {
   "cell_type": "markdown",
   "metadata": {},
   "source": [
    "## 1. Defining functions"
   ]
  },
  {
   "cell_type": "markdown",
   "metadata": {},
   "source": [
    "The normal way is using the `def` statement. Remember to keep the indentation. Differently from `MATLAB`, the output of the function is not defined in the definition, but with the `return` statement."
   ]
  },
  {
   "cell_type": "code",
   "execution_count": 2,
   "metadata": {},
   "outputs": [],
   "source": [
    "def multiplication(x):\n",
    "    factor = 2\n",
    "    return factor*x"
   ]
  },
  {
   "cell_type": "markdown",
   "metadata": {},
   "source": [
    "Now, if we try to call for the variable `factor`, it will give an error, because it is not in the main namespace, but in the function one. To call a function, we use the name and introduce the arguments with `()`."
   ]
  },
  {
   "cell_type": "code",
   "execution_count": 3,
   "metadata": {},
   "outputs": [
    {
     "name": "stdout",
     "output_type": "stream",
     "text": [
      "4\n"
     ]
    }
   ],
   "source": [
    "print(multiplication(2))"
   ]
  },
  {
   "cell_type": "markdown",
   "metadata": {},
   "source": [
    "There is no type information associated with either the inputs or the outputs. Python functions are able to return any object. For multiple returns, we use a tuple."
   ]
  },
  {
   "cell_type": "code",
   "execution_count": 4,
   "metadata": {},
   "outputs": [
    {
     "name": "stdout",
     "output_type": "stream",
     "text": [
      "3.0 4.0 (3-4j)\n"
     ]
    }
   ],
   "source": [
    "def ric(x):\n",
    "    return x.real, x.imag, x.conjugate()\n",
    "r,i,c = ric(3 + 4j)\n",
    "print(r,i,c)"
   ]
  },
  {
   "cell_type": "markdown",
   "metadata": {},
   "source": [
    "<h4 style = 'color:blue'> Exercise 1 </h4>\n",
    "\n",
    "<p style = 'color:blue'>   \n",
    "Function that returns the multiplication of a list of numbers.\n",
    "</p>"
   ]
  },
  {
   "cell_type": "markdown",
   "metadata": {},
   "source": [
    "## 2. Global and Local Variables"
   ]
  },
  {
   "cell_type": "markdown",
   "metadata": {},
   "source": [
    "### 2.1 Global variables"
   ]
  },
  {
   "cell_type": "markdown",
   "metadata": {},
   "source": [
    "In Python, a  variable that is declared outside of the function or in global scope is considered as a global variable. These can be accessed inside and outside of functions."
   ]
  },
  {
   "cell_type": "code",
   "execution_count": 5,
   "metadata": {},
   "outputs": [
    {
     "name": "stdout",
     "output_type": "stream",
     "text": [
      "global\n"
     ]
    }
   ],
   "source": [
    "x = 'global'\n",
    "def randomfunction():\n",
    "    print(x)\n",
    "randomfunction()"
   ]
  },
  {
   "cell_type": "markdown",
   "metadata": {},
   "source": [
    "However, if we try to change the value of the variable inside the function:"
   ]
  },
  {
   "cell_type": "code",
   "execution_count": 7,
   "metadata": {},
   "outputs": [
    {
     "ename": "UnboundLocalError",
     "evalue": "local variable 'x' referenced before assignment",
     "output_type": "error",
     "traceback": [
      "\u001b[1;31m---------------------------------------------------------------------------\u001b[0m",
      "\u001b[1;31mUnboundLocalError\u001b[0m                         Traceback (most recent call last)",
      "\u001b[1;32m<ipython-input-7-9c6582447b75>\u001b[0m in \u001b[0;36m<module>\u001b[1;34m()\u001b[0m\n\u001b[0;32m      4\u001b[0m     \u001b[0mx\u001b[0m \u001b[1;33m=\u001b[0m \u001b[0mx\u001b[0m \u001b[1;33m+\u001b[0m \u001b[1;34m'or is it?'\u001b[0m\u001b[1;33m\u001b[0m\u001b[0m\n\u001b[0;32m      5\u001b[0m     \u001b[0mprint\u001b[0m\u001b[1;33m(\u001b[0m\u001b[0mx\u001b[0m\u001b[1;33m)\u001b[0m\u001b[1;33m\u001b[0m\u001b[0m\n\u001b[1;32m----> 6\u001b[1;33m \u001b[0mrandomfunction2\u001b[0m\u001b[1;33m(\u001b[0m\u001b[1;33m)\u001b[0m\u001b[1;33m\u001b[0m\u001b[0m\n\u001b[0m",
      "\u001b[1;32m<ipython-input-7-9c6582447b75>\u001b[0m in \u001b[0;36mrandomfunction2\u001b[1;34m()\u001b[0m\n\u001b[0;32m      2\u001b[0m \u001b[0mx\u001b[0m \u001b[1;33m=\u001b[0m \u001b[1;34m'global'\u001b[0m\u001b[1;33m\u001b[0m\u001b[0m\n\u001b[0;32m      3\u001b[0m \u001b[1;32mdef\u001b[0m \u001b[0mrandomfunction2\u001b[0m\u001b[1;33m(\u001b[0m\u001b[1;33m)\u001b[0m\u001b[1;33m:\u001b[0m\u001b[1;33m\u001b[0m\u001b[0m\n\u001b[1;32m----> 4\u001b[1;33m     \u001b[0mx\u001b[0m \u001b[1;33m=\u001b[0m \u001b[0mx\u001b[0m \u001b[1;33m+\u001b[0m \u001b[1;34m'or is it?'\u001b[0m\u001b[1;33m\u001b[0m\u001b[0m\n\u001b[0m\u001b[0;32m      5\u001b[0m     \u001b[0mprint\u001b[0m\u001b[1;33m(\u001b[0m\u001b[0mx\u001b[0m\u001b[1;33m)\u001b[0m\u001b[1;33m\u001b[0m\u001b[0m\n\u001b[0;32m      6\u001b[0m \u001b[0mrandomfunction2\u001b[0m\u001b[1;33m(\u001b[0m\u001b[1;33m)\u001b[0m\u001b[1;33m\u001b[0m\u001b[0m\n",
      "\u001b[1;31mUnboundLocalError\u001b[0m: local variable 'x' referenced before assignment"
     ]
    }
   ],
   "source": [
    "del(x)\n",
    "x = 'global'\n",
    "def randomfunction2():\n",
    "    x = x + 'or is it?'\n",
    "    print(x)\n",
    "randomfunction2()"
   ]
  },
  {
   "cell_type": "markdown",
   "metadata": {},
   "source": [
    "The error is because Python treats `x` as a local variable and it is not defined inside the function. For this, we use the word `global`."
   ]
  },
  {
   "cell_type": "markdown",
   "metadata": {},
   "source": [
    "We use this keyword to read and write a global variable inside a function, since using it outside of a function has no effect."
   ]
  },
  {
   "cell_type": "code",
   "execution_count": 8,
   "metadata": {},
   "outputs": [
    {
     "name": "stdout",
     "output_type": "stream",
     "text": [
      "Variable inside: 5\n",
      "Variable outside: 5\n"
     ]
    }
   ],
   "source": [
    "del(x)\n",
    "x = 2\n",
    "def randomfunction3():\n",
    "    global x\n",
    "    x = x + 3\n",
    "    print('Variable inside:', x)\n",
    "randomfunction3()\n",
    "print('Variable outside:', x)"
   ]
  },
  {
   "cell_type": "markdown",
   "metadata": {},
   "source": [
    "### 2.2 Local variables"
   ]
  },
  {
   "cell_type": "markdown",
   "metadata": {},
   "source": [
    "Consequently, it is considered as a Local Variable any variable declared inside a function's body or in the local scope.\n",
    "\n",
    "You can define the same thing as a local and global variable, since they are in different namespaces."
   ]
  },
  {
   "cell_type": "code",
   "execution_count": 9,
   "metadata": {},
   "outputs": [
    {
     "name": "stdout",
     "output_type": "stream",
     "text": [
      "global\n",
      "local\n"
     ]
    }
   ],
   "source": [
    "x = 'global'\n",
    "def f(x):\n",
    "    x = 'local'\n",
    "    return x\n",
    "print(x)\n",
    "print(f(x))"
   ]
  },
  {
   "cell_type": "markdown",
   "metadata": {},
   "source": [
    "## 3. Arguments"
   ]
  },
  {
   "cell_type": "markdown",
   "metadata": {},
   "source": [
    "### 3.1 Default argument values"
   ]
  },
  {
   "cell_type": "markdown",
   "metadata": {},
   "source": [
    "If you want to define some argument values that are set by default (Almost every function from the modulus have these), the syntaxis is:"
   ]
  },
  {
   "cell_type": "code",
   "execution_count": 10,
   "metadata": {},
   "outputs": [
    {
     "name": "stdout",
     "output_type": "stream",
     "text": [
      "10\n",
      "9\n",
      "6\n",
      "6\n"
     ]
    }
   ],
   "source": [
    "def default(x,y = 3, z = 5):\n",
    "    return x + y + z\n",
    "print(default(2))\n",
    "print(default(2,2))\n",
    "print(default(2,2,2))\n",
    "print(default(x = 2, z = 2, y = 2))"
   ]
  },
  {
   "cell_type": "markdown",
   "metadata": {},
   "source": [
    "If we define them by name, the order does not matter. However if we just use the value, the order is the one defined in the function."
   ]
  },
  {
   "cell_type": "markdown",
   "metadata": {},
   "source": [
    "### 3.2 \\*args and \\*\\*kwargs"
   ]
  },
  {
   "cell_type": "markdown",
   "metadata": {},
   "source": [
    "Sometimes, you might need to write a function in which the number of arguments introduced as input is not known. Therefore you can use the special form \\*args and \\*\\*kwargs to catch all arguments that are passed."
   ]
  },
  {
   "cell_type": "code",
   "execution_count": 11,
   "metadata": {},
   "outputs": [],
   "source": [
    "def arguments(*args, **kwargs):\n",
    "    print('args:', args)\n",
    "    print('kwargs:', kwargs)"
   ]
  },
  {
   "cell_type": "code",
   "execution_count": 12,
   "metadata": {
    "scrolled": true
   },
   "outputs": [
    {
     "name": "stdout",
     "output_type": "stream",
     "text": [
      "args: (1, 2, 3, 'hello there', {'dic': 12})\n",
      "kwargs: {'a': 12, 'b': {'a': 3}}\n"
     ]
    }
   ],
   "source": [
    "arguments(1,2,3,'hello there',{'dic':12},a = 12, b = {'a':3},)"
   ]
  },
  {
   "cell_type": "markdown",
   "metadata": {},
   "source": [
    "The keyword arguments are catched as dictionaries. And dictionaries can contain other dictionaries, of course. The only thing to take into mind is that there cannot be an arg after a kwarg."
   ]
  },
  {
   "cell_type": "code",
   "execution_count": 14,
   "metadata": {
    "scrolled": true
   },
   "outputs": [
    {
     "ename": "SyntaxError",
     "evalue": "positional argument follows keyword argument (<ipython-input-14-01794038f2b4>, line 1)",
     "output_type": "error",
     "traceback": [
      "\u001b[1;36m  File \u001b[1;32m\"<ipython-input-14-01794038f2b4>\"\u001b[1;36m, line \u001b[1;32m1\u001b[0m\n\u001b[1;33m    print(default(x = 3, 4, 2))\u001b[0m\n\u001b[1;37m                        ^\u001b[0m\n\u001b[1;31mSyntaxError\u001b[0m\u001b[1;31m:\u001b[0m positional argument follows keyword argument\n"
     ]
    }
   ],
   "source": [
    "print(default(x = 3, 4, 2))"
   ]
  },
  {
   "cell_type": "markdown",
   "metadata": {},
   "source": [
    "The important thing here is not the `args` and `kwargs`, but the `*` and `**`. A single `*` means \"expand this as a sequence\" and `**` means \"expand this as a dictionary\". These are used for unpacking as well."
   ]
  },
  {
   "cell_type": "code",
   "execution_count": 15,
   "metadata": {},
   "outputs": [
    {
     "name": "stdout",
     "output_type": "stream",
     "text": [
      "2 3 5 7\n",
      "(2, 3, 5, 7)\n"
     ]
    },
    {
     "data": {
      "text/plain": [
       "17"
      ]
     },
     "execution_count": 15,
     "metadata": {},
     "output_type": "execute_result"
    }
   ],
   "source": [
    "def summatory(*numbers):\n",
    "    a = numbers\n",
    "    print(a)\n",
    "    summ = sum(a)\n",
    "    return summ\n",
    "primes = [2,3,5,7]\n",
    "print(*primes)\n",
    "summatory(*primes)"
   ]
  },
  {
   "cell_type": "markdown",
   "metadata": {},
   "source": [
    "For a dictionary is the same:"
   ]
  },
  {
   "cell_type": "code",
   "execution_count": 16,
   "metadata": {},
   "outputs": [
    {
     "name": "stdout",
     "output_type": "stream",
     "text": [
      "1 2 3 4\n",
      "Content lenght: 30\n"
     ]
    }
   ],
   "source": [
    "dat = {'Type': 'Text', 'Size [Kb]': 30, 'Safe': 'Kinda'}\n",
    "list1 = [1,2,3,4]\n",
    "def processing(*list, **data):\n",
    "    print(*list)\n",
    "    content = data['Size [Kb]']\n",
    "    kind = data['Type']\n",
    "    Safe = data['Safe']\n",
    "    print('Content lenght:', content)\n",
    "processing(*list1, **dat)"
   ]
  },
  {
   "cell_type": "markdown",
   "metadata": {},
   "source": [
    "While we are at it, there is one more type of unpacking."
   ]
  },
  {
   "cell_type": "code",
   "execution_count": 17,
   "metadata": {},
   "outputs": [
    {
     "name": "stdout",
     "output_type": "stream",
     "text": [
      "[1, 2, 3, 4, 5, 6]\n",
      "[1, 2, 3, 4, 5] , 6\n",
      "1 , [2, 3, 4, 5, 6]\n",
      "1 , [2, 3, 4, 5] , 6\n"
     ]
    }
   ],
   "source": [
    "n = [1,2,3,4,5,6]\n",
    "\n",
    "# Unpacking the list to an unpacked list, therefore a is a list\n",
    "*a, = n\n",
    "print(a)\n",
    "\n",
    "# Unpacking the list to an unpacked list and another element\n",
    "*a,b = n\n",
    "print(a,',',b)\n",
    "\n",
    "# The same but in the other way\n",
    "a, *b = n\n",
    "print(a,',',b)\n",
    "\n",
    "# In the middle now\n",
    "a,*b,c = n\n",
    "print(a,',',b,',',c)"
   ]
  },
  {
   "cell_type": "markdown",
   "metadata": {},
   "source": [
    "While the utility is not very clear here, it is when you have an example like the following:"
   ]
  },
  {
   "cell_type": "code",
   "execution_count": 18,
   "metadata": {},
   "outputs": [
    {
     "name": "stdout",
     "output_type": "stream",
     "text": [
      "(118, 'Unused data:()', 'Unused variables:[]')\n",
      "(118, 'Unused data:(5, 18, 39)', \"Unused variables:['torsion', 'edgyness']\")\n"
     ]
    }
   ],
   "source": [
    "def function_defined_in_1988(x,y,z, *args, angle,**kwargs):\n",
    "    result = 2*x + 3*y + z*4\n",
    "    message = 'Unused data:' + str(args)\n",
    "    message2 = 'Unused variables:' + str([*kwargs])\n",
    "    return result,message, message2\n",
    "List_of_data = [19, 32, -4,5, 18, 39]\n",
    "Dic_of_variables = {'angle': 4, 'torsion': 18, 'edgyness':9000}\n",
    "## Without list expansion\n",
    "print(function_defined_in_1988(List_of_data[0], List_of_data[1], List_of_data[2],\n",
    "                              angle = Dic_of_variables['angle']))\n",
    "\n",
    "## With list expansion\n",
    "print(function_defined_in_1988(*List_of_data, **Dic_of_variables))"
   ]
  },
  {
   "cell_type": "markdown",
   "metadata": {},
   "source": [
    "## 4. Anonymous functions"
   ]
  },
  {
   "cell_type": "markdown",
   "metadata": {},
   "source": [
    "Sometimes, it is worth defining a short function without the need of using the `def` statement. For this, we use `lambda`."
   ]
  },
  {
   "cell_type": "code",
   "execution_count": 2,
   "metadata": {},
   "outputs": [
    {
     "data": {
      "text/plain": [
       "5"
      ]
     },
     "execution_count": 2,
     "metadata": {},
     "output_type": "execute_result"
    }
   ],
   "source": [
    "anonym_fun = lambda x,y: x + y\n",
    "anonym_fun(2,3)"
   ]
  },
  {
   "cell_type": "markdown",
   "metadata": {},
   "source": [
    "An example of the utility. Suppose we have a list of dictionaries:"
   ]
  },
  {
   "cell_type": "code",
   "execution_count": 3,
   "metadata": {},
   "outputs": [],
   "source": [
    "dictionary = [{'Name': 'John', 'Lastname': 'Snow', 'Adress': 'Winterfell'},\n",
    "              {'Name': 'Harry', 'Lastname': 'Potter', 'Adress': 'Hogwarts'},\n",
    "              {'Name': 'Son', 'Lastname': 'Goku', 'Adress': 'Somewhere'}]"
   ]
  },
  {
   "cell_type": "markdown",
   "metadata": {},
   "source": [
    "If we want to sort this data, Pyhton has the function `sorted`. However, dictionaries are not orderable, so we need to tell the function they `key function` that returns the sorting key that we want. For example:"
   ]
  },
  {
   "cell_type": "code",
   "execution_count": 9,
   "metadata": {},
   "outputs": [
    {
     "data": {
      "text/plain": [
       "[{'Name': 'Harry', 'Lastname': 'Potter', 'Adress': 'Hogwarts'},\n",
       " {'Name': 'John', 'Lastname': 'Snow', 'Adress': 'Winterfell'},\n",
       " {'Name': 'Son', 'Lastname': 'Goku', 'Adress': 'Somewhere'}]"
      ]
     },
     "execution_count": 9,
     "metadata": {},
     "output_type": "execute_result"
    }
   ],
   "source": [
    "## Sorted by Name\n",
    "sorted(dictionary, key = lambda item: item['Name'])"
   ]
  },
  {
   "cell_type": "code",
   "execution_count": 10,
   "metadata": {},
   "outputs": [
    {
     "data": {
      "text/plain": [
       "[{'Name': 'Son', 'Lastname': 'Goku', 'Adress': 'Somewhere'},\n",
       " {'Name': 'Harry', 'Lastname': 'Potter', 'Adress': 'Hogwarts'},\n",
       " {'Name': 'John', 'Lastname': 'Snow', 'Adress': 'Winterfell'}]"
      ]
     },
     "execution_count": 10,
     "metadata": {},
     "output_type": "execute_result"
    }
   ],
   "source": [
    "## Sorted by lastname\n",
    "sorted(dictionary, key = lambda item: item['Lastname'])"
   ]
  },
  {
   "cell_type": "code",
   "execution_count": 11,
   "metadata": {},
   "outputs": [
    {
     "data": {
      "text/plain": [
       "[{'Name': 'Harry', 'Lastname': 'Potter', 'Adress': 'Hogwarts'},\n",
       " {'Name': 'Son', 'Lastname': 'Goku', 'Adress': 'Somewhere'},\n",
       " {'Name': 'John', 'Lastname': 'Snow', 'Adress': 'Winterfell'}]"
      ]
     },
     "execution_count": 11,
     "metadata": {},
     "output_type": "execute_result"
    }
   ],
   "source": [
    "## Sorted by Adress\n",
    "sorted(dictionary, key = lambda item: item['Adress'])"
   ]
  },
  {
   "cell_type": "markdown",
   "metadata": {},
   "source": [
    "These functions could of course be created using `def` statements. However, since they are so short, it is preferable to use `lambda`."
   ]
  },
  {
   "cell_type": "markdown",
   "metadata": {},
   "source": [
    "<h4 style = 'color:blue'> Exercise 2</h4>\n",
    "\n",
    "<p style = 'color:blue'>   \n",
    "Function that does this automatically for any specified key. Including what happens when it is an invalid key.\n",
    "</p>"
   ]
  },
  {
   "cell_type": "markdown",
   "metadata": {},
   "source": [
    "## 5. Decorators"
   ]
  },
  {
   "cell_type": "markdown",
   "metadata": {},
   "source": [
    "Decorators allows us to \"wrap\" an object with core functionality with other objects that alter that functionality. Of course, since functions are objects, this works well for them too."
   ]
  },
  {
   "cell_type": "code",
   "execution_count": 21,
   "metadata": {},
   "outputs": [
    {
     "name": "stdout",
     "output_type": "stream",
     "text": [
      "Here we put orders before the function is called\n",
      "Hello world!\n",
      "Here we put things after the function is called\n"
     ]
    }
   ],
   "source": [
    "def decorator(func):\n",
    "    def wrapper():\n",
    "        print('Here we put orders before the function is called')\n",
    "        func()\n",
    "        print('Here we put things after the function is called')\n",
    "    return wrapper\n",
    "\n",
    "def hello_world():\n",
    "    print('Hello world!')\n",
    "\n",
    "hello_world = decorator(hello_world)\n",
    "hello_world()"
   ]
  },
  {
   "cell_type": "markdown",
   "metadata": {},
   "source": [
    "So, we have decorated our Hello World function. Amazing, huh. We can do fancier things, of course, since that's what Python syntax allows."
   ]
  },
  {
   "cell_type": "code",
   "execution_count": 27,
   "metadata": {},
   "outputs": [
    {
     "name": "stdout",
     "output_type": "stream",
     "text": [
      "Hello world\n"
     ]
    }
   ],
   "source": [
    "from datetime import datetime\n",
    "def dontwakeup(func):\n",
    "    def wrapper():\n",
    "        if 8 <= datetime.now().hour < 22:\n",
    "            return func()\n",
    "        else:\n",
    "            pass\n",
    "    return wrapper\n",
    "\n",
    "hello_world = lambda : 'Hello world'\n",
    "hello_world = dontwakeup(hello_world)\n",
    "print(hello_world())"
   ]
  },
  {
   "cell_type": "markdown",
   "metadata": {},
   "source": [
    "However, this syntaxis is a bit too heavy. We wrote Hello World more times than the first time we touched a computer. For this, Python has the `@` syntax. "
   ]
  },
  {
   "cell_type": "code",
   "execution_count": 28,
   "metadata": {},
   "outputs": [],
   "source": [
    "def decorator(func):\n",
    "    def wrapper():\n",
    "        print('Here we put orders before the function is called')\n",
    "        func()\n",
    "        print('Here we put things after the function is called')\n",
    "    return wrapper\n",
    "\n",
    "@decorator\n",
    "def hello_world():\n",
    "    print('Hello world!')"
   ]
  },
  {
   "cell_type": "markdown",
   "metadata": {},
   "source": [
    "So, we don't need to put the `hello_world = decorator(hello_world)`. However, we have to take care in some things. We may lose information of the original function."
   ]
  },
  {
   "cell_type": "code",
   "execution_count": 36,
   "metadata": {},
   "outputs": [
    {
     "name": "stdout",
     "output_type": "stream",
     "text": [
      "None\n"
     ]
    }
   ],
   "source": [
    "def do_twice(func):\n",
    "    def wrapper_do_twice(*args, **kwargs):\n",
    "        func(*args, **kwargs)\n",
    "        func(*args, **kwargs)\n",
    "    return wrapper_do_twice\n",
    "@do_twice\n",
    "def say_something(something):\n",
    "    return 'I say {}'.format(something)\n",
    "print(say_something('whadup'))"
   ]
  },
  {
   "cell_type": "markdown",
   "metadata": {},
   "source": [
    "Aaaaand we lose the return value of the function. This is because the wrapper does not explicitly return a value. Now we put it like it should be done:"
   ]
  },
  {
   "cell_type": "code",
   "execution_count": 53,
   "metadata": {},
   "outputs": [
    {
     "name": "stdout",
     "output_type": "stream",
     "text": [
      "Preparing\n",
      "Preparing\n",
      "I say whadup\n"
     ]
    }
   ],
   "source": [
    "def do_twice(func):\n",
    "    def wrapper_do_twice(*args, **kwargs):\n",
    "        func(*args, **kwargs)\n",
    "        return func(*args, **kwargs)\n",
    "    return wrapper_do_twice\n",
    "\n",
    "\n",
    "@do_twice\n",
    "def say_something(something):\n",
    "    print('Preparing')\n",
    "    message = something\n",
    "    return 'I say {}'.format(message)\n",
    "print(say_something('whadup'))"
   ]
  },
  {
   "cell_type": "markdown",
   "metadata": {},
   "source": [
    "However, even now the poor function has a bit of an identity crisis."
   ]
  },
  {
   "cell_type": "code",
   "execution_count": 54,
   "metadata": {},
   "outputs": [
    {
     "data": {
      "text/plain": [
       "<function __main__.do_twice.<locals>.wrapper_do_twice(*args, **kwargs)>"
      ]
     },
     "execution_count": 54,
     "metadata": {},
     "output_type": "execute_result"
    }
   ],
   "source": [
    "say_something"
   ]
  },
  {
   "cell_type": "markdown",
   "metadata": {},
   "source": [
    "There is a decorator already built in `functools` that allows the user to preserve information about the original function."
   ]
  },
  {
   "cell_type": "code",
   "execution_count": 13,
   "metadata": {},
   "outputs": [
    {
     "name": "stdout",
     "output_type": "stream",
     "text": [
      "Preparing\n",
      "Preparing\n",
      "I say whadup\n"
     ]
    }
   ],
   "source": [
    "import functools\n",
    "\n",
    "def do_twice(func):\n",
    "    @functools.wraps(func)\n",
    "    def wrapper_do_twice(*args, **kwargs):\n",
    "        func(*args, **kwargs)\n",
    "        return func(*args, **kwargs)\n",
    "    return wrapper_do_twice\n",
    "\n",
    "@do_twice\n",
    "def say_something(something):\n",
    "    print('Preparing')\n",
    "    message = something\n",
    "    return 'I say {}'.format(message)\n",
    "print(say_something('whadup'))"
   ]
  },
  {
   "cell_type": "code",
   "execution_count": 59,
   "metadata": {},
   "outputs": [
    {
     "data": {
      "text/plain": [
       "<function __main__.say_something(something)>"
      ]
     },
     "execution_count": 59,
     "metadata": {},
     "output_type": "execute_result"
    }
   ],
   "source": [
    "say_something"
   ]
  },
  {
   "cell_type": "code",
   "execution_count": 60,
   "metadata": {},
   "outputs": [
    {
     "data": {
      "text/plain": [
       "'say_something'"
      ]
     },
     "execution_count": 60,
     "metadata": {},
     "output_type": "execute_result"
    }
   ],
   "source": [
    "say_something.__name__"
   ]
  },
  {
   "cell_type": "code",
   "execution_count": 61,
   "metadata": {},
   "outputs": [
    {
     "name": "stdout",
     "output_type": "stream",
     "text": [
      "Help on function say_something in module __main__:\n",
      "\n",
      "say_something(something)\n",
      "\n"
     ]
    }
   ],
   "source": [
    "help(say_something)"
   ]
  },
  {
   "cell_type": "markdown",
   "metadata": {},
   "source": [
    "Some good examples:"
   ]
  },
  {
   "cell_type": "code",
   "execution_count": 14,
   "metadata": {},
   "outputs": [
    {
     "name": "stdout",
     "output_type": "stream",
     "text": [
      "Function random_function finished in 0.0036 secs\n",
      "Done\n"
     ]
    }
   ],
   "source": [
    "## Timer function\n",
    "import time\n",
    "def timer(func):\n",
    "    ''' Prints the runtime of the decorated function'''\n",
    "    @functools.wraps(func)\n",
    "    def wrapper_timer(*args, **kwargs):\n",
    "        start_time = time.perf_counter()\n",
    "        value = func(*args, **kwargs)\n",
    "        end_time = time.perf_counter()\n",
    "        run_time = end_time - start_time\n",
    "        print('Function {0} finished in {1:.4f} secs'.format(func.__name__, run_time))\n",
    "        return value\n",
    "    return wrapper_timer\n",
    "\n",
    "@timer\n",
    "def random_function(longevity):\n",
    "    for i in range(longevity):\n",
    "        a = sum([j**2 for j in range(10000)])\n",
    "    return 'Done'\n",
    "print(random_function(1))"
   ]
  },
  {
   "cell_type": "code",
   "execution_count": 5,
   "metadata": {},
   "outputs": [
    {
     "name": "stdout",
     "output_type": "stream",
     "text": [
      "Calling greeting('Frisk')\n",
      "greeting returned 'Howdy Frisk'\n",
      "Howdy Frisk\n",
      "\n",
      "-----------------------------\n",
      "\n",
      "Calling greeting('Rasputin', age = 1000)\n",
      "greeting returned 'Whoa Rasputin! 1000 already, you are growing up!'\n",
      "Whoa Rasputin! 1000 already, you are growing up!\n"
     ]
    }
   ],
   "source": [
    "## Debugging code\n",
    "def debug(func):\n",
    "    '''Print the function signature and return value'''\n",
    "    @functools.wraps(func)\n",
    "    def wrapper_debug(*args, **kwargs):\n",
    "        args_list = ['{0!r}'.format(a) for a in args]\n",
    "        kwargs_list = ['{0} = {1}'.format(k,v) for k,v in kwargs.items()]\n",
    "        signature = ', '.join(args_list + kwargs_list)\n",
    "        print('Calling {0}({1})'.format(func.__name__, signature))\n",
    "        value = func(*args, **kwargs)\n",
    "        print(\"{0} returned {1!r}\".format(func.__name__, value))\n",
    "        return value\n",
    "    return wrapper_debug\n",
    "\n",
    "@debug\n",
    "def greeting(name, age = None):\n",
    "    if age is None:\n",
    "        return 'Howdy {0}'.format(name)\n",
    "    else:\n",
    "        return 'Whoa {0}! {1} already, you are growing up!'.format(name, age)\n",
    "print(greeting('Frisk'))\n",
    "print('\\n-----------------------------\\n')\n",
    "print(greeting('Rasputin', age = 1000))"
   ]
  },
  {
   "cell_type": "markdown",
   "metadata": {},
   "source": [
    "<h4 style = 'color:blue'> Exercise 3</h4>\n",
    "\n",
    "<p style = 'color:blue'>   \n",
    "Make decorators such that a function that prints a message now prints the hour and the message between parentheses\n",
    "</p>"
   ]
  },
  {
   "cell_type": "markdown",
   "metadata": {},
   "source": [
    "## 6. Generator functions"
   ]
  },
  {
   "cell_type": "markdown",
   "metadata": {},
   "source": [
    "In generator functions, instead of `return`, we use `yield`."
   ]
  },
  {
   "cell_type": "code",
   "execution_count": 4,
   "metadata": {},
   "outputs": [
    {
     "name": "stdout",
     "output_type": "stream",
     "text": [
      "0 1 4 9 16 25 36 49 64 81 100 121\n",
      "0 1 4 9 16 25 36 49 64 81 100 121\n"
     ]
    }
   ],
   "source": [
    "G1 = (n**2 for n in range(12))\n",
    "def gen():\n",
    "    for n in range(12):\n",
    "        yield n**2\n",
    "G2 = gen()\n",
    "print(*G1)\n",
    "print(*G2)"
   ]
  },
  {
   "cell_type": "markdown",
   "metadata": {},
   "source": [
    "For example, we now code a prime number generator:"
   ]
  },
  {
   "cell_type": "code",
   "execution_count": 11,
   "metadata": {},
   "outputs": [
    {
     "name": "stdout",
     "output_type": "stream",
     "text": [
      "2 3 5 7 11 13 17 19 23 29 31 37 41 43 47 53 59 61 67 71 73 79 83 89 97\n"
     ]
    }
   ],
   "source": [
    "def gen_primes(N):\n",
    "    primes = set()\n",
    "    for n in range(2, N):\n",
    "        if all(n%p>0 for p in primes):\n",
    "            primes.add(n)\n",
    "            yield n\n",
    "print(*gen_primes(100))\n"
   ]
  },
  {
   "cell_type": "markdown",
   "metadata": {},
   "source": [
    "Remember that generators save the state:"
   ]
  },
  {
   "cell_type": "code",
   "execution_count": 47,
   "metadata": {},
   "outputs": [],
   "source": [
    "def generator_size(x):\n",
    "    count = 0\n",
    "    while count < x:\n",
    "        count += 1\n",
    "        yield count"
   ]
  },
  {
   "cell_type": "code",
   "execution_count": 51,
   "metadata": {},
   "outputs": [
    {
     "name": "stdout",
     "output_type": "stream",
     "text": [
      "1 2 3 4 5 6 7 8 9 10\n",
      "\n"
     ]
    }
   ],
   "source": [
    "F = generator_size(10)\n",
    "print(*F)\n",
    "print(*F)"
   ]
  },
  {
   "cell_type": "code",
   "execution_count": 44,
   "metadata": {},
   "outputs": [
    {
     "name": "stdout",
     "output_type": "stream",
     "text": [
      "1 2 3 4 5 6 7 8 9 10\n",
      "1 2 3 4 5 6 7 8 9 10\n"
     ]
    }
   ],
   "source": [
    "print(*generator_size(10))\n",
    "print(*generator_size(10))"
   ]
  },
  {
   "cell_type": "markdown",
   "metadata": {},
   "source": [
    "The simplest example:"
   ]
  },
  {
   "cell_type": "code",
   "execution_count": 69,
   "metadata": {},
   "outputs": [],
   "source": [
    "def simple_generator():\n",
    "    yield 1\n",
    "    yield 2\n",
    "    yield 3\n",
    "    yield \"It's over\""
   ]
  },
  {
   "cell_type": "code",
   "execution_count": 70,
   "metadata": {},
   "outputs": [
    {
     "name": "stdout",
     "output_type": "stream",
     "text": [
      "1\n",
      "2\n",
      "3\n",
      "It's over\n"
     ]
    }
   ],
   "source": [
    "for v in simple_generator():\n",
    "    print(v)"
   ]
  },
  {
   "cell_type": "code",
   "execution_count": 74,
   "metadata": {},
   "outputs": [
    {
     "name": "stdout",
     "output_type": "stream",
     "text": [
      "<generator object simple_generator at 0x0000000004FE6D58>\n"
     ]
    },
    {
     "data": {
      "text/plain": [
       "\"It's over\""
      ]
     },
     "execution_count": 74,
     "metadata": {},
     "output_type": "execute_result"
    }
   ],
   "source": [
    "G = simple_generator()\n",
    "print(G)\n",
    "next(G)\n",
    "next(G)\n",
    "next(G)\n",
    "next(G)"
   ]
  },
  {
   "cell_type": "code",
   "execution_count": null,
   "metadata": {},
   "outputs": [],
   "source": [
    "\n"
   ]
  }
 ],
 "metadata": {
  "kernelspec": {
   "display_name": "Python 3",
   "language": "python",
   "name": "python3"
  },
  "language_info": {
   "codemirror_mode": {
    "name": "ipython",
    "version": 3
   },
   "file_extension": ".py",
   "mimetype": "text/x-python",
   "name": "python",
   "nbconvert_exporter": "python",
   "pygments_lexer": "ipython3",
   "version": "3.6.8"
  }
 },
 "nbformat": 4,
 "nbformat_minor": 2
}
