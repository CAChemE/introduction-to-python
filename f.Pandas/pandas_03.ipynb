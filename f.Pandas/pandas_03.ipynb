{
 "cells": [
  {
   "cell_type": "markdown",
   "metadata": {},
   "source": [
    "# INTRODUCTION TO PANDAS\n",
    "\n",
    "### PART III"
   ]
  },
  {
   "cell_type": "code",
   "execution_count": null,
   "metadata": {
    "collapsed": true
   },
   "outputs": [],
   "source": [
    "import numpy  as np\n",
    "import pandas as pd"
   ]
  },
  {
   "cell_type": "markdown",
   "metadata": {},
   "source": [
    "## Working with Python Pandas and XlsxWriter\n",
    "\n",
    "[https://xlsxwriter.readthedocs.io/working_with_pandas.html]"
   ]
  },
  {
   "cell_type": "markdown",
   "metadata": {},
   "source": [
    "##### > Create a random DataFrame"
   ]
  },
  {
   "cell_type": "code",
   "execution_count": null,
   "metadata": {
    "collapsed": true
   },
   "outputs": [],
   "source": [
    "column_label = ['A', 'B', 'C', 'D', 'F']\n",
    "row_label = []\n",
    "\n",
    "for i in range (1,11):\n",
    "    label = 'R' + str(i)\n",
    "    row_label.append(label)\n",
    "\n",
    "df  = pd.DataFrame(np.random.randint(0,20, size = (10,5)), columns = column_label, index = row_label)\n",
    "df2 = pd.DataFrame(np.random.randint(10,20, size = (10,1)), index = row_label, columns = ['G'])"
   ]
  },
  {
   "cell_type": "markdown",
   "metadata": {},
   "source": [
    "##### >  Create a Pandas Excel writer using XlsxWriter as the engine"
   ]
  },
  {
   "cell_type": "code",
   "execution_count": null,
   "metadata": {
    "collapsed": true
   },
   "outputs": [],
   "source": [
    "xlsx_filename  = 'dummyExcel.xlsx'\n",
    "xlsx_sheetname = 'Sheet_1'"
   ]
  },
  {
   "cell_type": "code",
   "execution_count": null,
   "metadata": {
    "collapsed": true
   },
   "outputs": [],
   "source": [
    "writer = pd.ExcelWriter(xlsx_filename, engine = 'xlsxwriter')"
   ]
  },
  {
   "cell_type": "markdown",
   "metadata": {},
   "source": [
    "##### > Convert the DataFrame to an Excel object"
   ]
  },
  {
   "cell_type": "code",
   "execution_count": null,
   "metadata": {
    "collapsed": true
   },
   "outputs": [],
   "source": [
    "df.to_excel(writer, sheet_name = xlsx_sheetname, startrow = 3, startcol = 2, header = True, index = True)"
   ]
  },
  {
   "cell_type": "markdown",
   "metadata": {},
   "source": [
    "##### > Get the XlsxWriter workbook"
   ]
  },
  {
   "cell_type": "code",
   "execution_count": null,
   "metadata": {
    "collapsed": true
   },
   "outputs": [],
   "source": [
    "workbook = writer.book"
   ]
  },
  {
   "cell_type": "markdown",
   "metadata": {},
   "source": [
    "##### > Get the XlsxWriter worksheet object"
   ]
  },
  {
   "cell_type": "code",
   "execution_count": null,
   "metadata": {
    "collapsed": true
   },
   "outputs": [],
   "source": [
    "worksheet = writer.sheets[xlsx_sheetname]"
   ]
  },
  {
   "cell_type": "markdown",
   "metadata": {},
   "source": [
    "##### > Cell Formating\n",
    "[https://xlsxwriter.readthedocs.io/format.html]"
   ]
  },
  {
   "cell_type": "code",
   "execution_count": null,
   "metadata": {
    "collapsed": true
   },
   "outputs": [],
   "source": [
    "# by setting the property as a dictionary of key:value (recommended)\n",
    "cell_format_1 = workbook.add_format({'font_size': '16',\n",
    "                                     'num_format': '0.0', \n",
    "                                     'align': 'center', \n",
    "                                     'bold': True,\n",
    "                                     'italic': True,\n",
    "                                     'font_color': 'red'})\n",
    "#                               'font_color': '#FF0000'})"
   ]
  },
  {
   "cell_type": "code",
   "execution_count": null,
   "metadata": {
    "collapsed": true
   },
   "outputs": [],
   "source": [
    "# by using the object method\n",
    "cell_format_2 = workbook.add_format()\n",
    "cell_format_2.set_bold(False)\n",
    "cell_format_2.set_align('right')\n",
    "cell_format_2.set_font_color('gray')\n",
    "cell_format_2.set_num_format('0.00')\n",
    "cell_format_2.set_font_size('10')\n",
    "cell_format_2.set_font_name ('Times New Roman')"
   ]
  },
  {
   "cell_type": "code",
   "execution_count": null,
   "metadata": {
    "collapsed": true
   },
   "outputs": [],
   "source": [
    "cell_format_3 = workbook.add_format({'font_size': '10',\n",
    "                                     'num_format': '0.0', \n",
    "                                     'align': 'right', \n",
    "                                     'bold': False,\n",
    "                                     'italic': False,\n",
    "                                     'font_color': 'red',\n",
    "                                     'font_name': 'Times New Roman'})"
   ]
  },
  {
   "cell_type": "code",
   "execution_count": null,
   "metadata": {
    "collapsed": true
   },
   "outputs": [],
   "source": [
    "cell_format_4 = workbook.add_format({'font_size': '12',\n",
    "                                     'num_format': '0.0', \n",
    "                                     'align': 'right', \n",
    "                                     'bold': True,\n",
    "                                     'italic': False,\n",
    "                                     'font_color': 'red',\n",
    "                                     'top': 1})"
   ]
  },
  {
   "cell_type": "markdown",
   "metadata": {},
   "source": [
    " * Color codes can be found in \n",
    "[https://xlsxwriter.readthedocs.io/working_with_colors.html]"
   ]
  },
  {
   "cell_type": "markdown",
   "metadata": {},
   "source": [
    "### Once a format object has been constructed and its properties have been set, it can be passed as an argument to the worksheet ** *write* ** method"
   ]
  },
  {
   "cell_type": "markdown",
   "metadata": {},
   "source": [
    "##### > Write text in a Cell with format"
   ]
  },
  {
   "cell_type": "code",
   "execution_count": null,
   "metadata": {},
   "outputs": [],
   "source": [
    "worksheet.write ('B2', 'DUMMY TABLE', cell_format_1)"
   ]
  },
  {
   "cell_type": "markdown",
   "metadata": {},
   "source": [
    "##### > Set row format\n",
    "worksheet.set_row (row, height, cell_format)"
   ]
  },
  {
   "cell_type": "code",
   "execution_count": null,
   "metadata": {
    "collapsed": true
   },
   "outputs": [],
   "source": [
    "row_ref = 4\n",
    "\n",
    "for i in range(1,11):\n",
    "    if i%2 == 0:\n",
    "        worksheet.set_row(row_ref, None, cell_format_2)\n",
    "    else:\n",
    "        worksheet.set_row(row_ref, None, cell_format_3)\n",
    "    row_ref += 1"
   ]
  },
  {
   "cell_type": "markdown",
   "metadata": {},
   "source": [
    "##### > Set column format\n",
    "worksheet.set_column (first_col:last_col, width, cell_format)"
   ]
  },
  {
   "cell_type": "code",
   "execution_count": null,
   "metadata": {
    "collapsed": true
   },
   "outputs": [],
   "source": [
    "df2.to_excel(writer, sheet_name = xlsx_sheetname, startrow = 18, startcol = 2, header = True, index = True)"
   ]
  },
  {
   "cell_type": "code",
   "execution_count": null,
   "metadata": {},
   "outputs": [],
   "source": [
    "worksheet.set_column('D:D', None, cell_format_1)"
   ]
  },
  {
   "cell_type": "markdown",
   "metadata": {},
   "source": [
    "##### > Set cell range format with Conditional Formatting (workaround)"
   ]
  },
  {
   "cell_type": "code",
   "execution_count": null,
   "metadata": {
    "collapsed": true
   },
   "outputs": [],
   "source": [
    "worksheet.conditional_format('D20:D29', {'type': 'no_errors', 'format': cell_format_2})"
   ]
  },
  {
   "cell_type": "markdown",
   "metadata": {},
   "source": [
    "##### > Working with Formulas"
   ]
  },
  {
   "cell_type": "code",
   "execution_count": null,
   "metadata": {},
   "outputs": [],
   "source": [
    "worksheet.write_formula('D15', '=SUM(D5:D14)', cell_format_4)"
   ]
  },
  {
   "cell_type": "code",
   "execution_count": null,
   "metadata": {
    "scrolled": true
   },
   "outputs": [],
   "source": [
    "worksheet.write('E15', '=SUM(E5:E14)', cell_format_4)"
   ]
  },
  {
   "cell_type": "code",
   "execution_count": null,
   "metadata": {
    "collapsed": true
   },
   "outputs": [],
   "source": [
    "columns = ['F', 'G', 'H']"
   ]
  },
  {
   "cell_type": "code",
   "execution_count": null,
   "metadata": {
    "collapsed": true
   },
   "outputs": [],
   "source": [
    "for i in columns:\n",
    "    worksheet.write_formula(i + '15', '= SUM(' + i + '5:' + i + '14)', cell_format_4)"
   ]
  },
  {
   "cell_type": "markdown",
   "metadata": {},
   "source": [
    "##### > Close the Pandas Excel writer"
   ]
  },
  {
   "cell_type": "code",
   "execution_count": null,
   "metadata": {
    "collapsed": true
   },
   "outputs": [],
   "source": [
    "writer.save()"
   ]
  },
  {
   "cell_type": "code",
   "execution_count": null,
   "metadata": {
    "collapsed": true
   },
   "outputs": [],
   "source": [
    "! DummyExcel.xlsx"
   ]
  },
  {
   "cell_type": "code",
   "execution_count": null,
   "metadata": {
    "collapsed": true
   },
   "outputs": [],
   "source": []
  }
 ],
 "metadata": {
  "kernelspec": {
   "display_name": "Python 3",
   "language": "python",
   "name": "python3"
  },
  "language_info": {
   "codemirror_mode": {
    "name": "ipython",
    "version": 3
   },
   "file_extension": ".py",
   "mimetype": "text/x-python",
   "name": "python",
   "nbconvert_exporter": "python",
   "pygments_lexer": "ipython3",
   "version": "3.6.3"
  }
 },
 "nbformat": 4,
 "nbformat_minor": 2
}
