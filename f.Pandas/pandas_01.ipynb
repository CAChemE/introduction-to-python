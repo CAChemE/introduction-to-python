{
 "cells": [
  {
   "cell_type": "code",
   "execution_count": 2,
   "metadata": {
    "collapsed": true
   },
   "outputs": [],
   "source": [
    "#----------------------------------------------------------------------------------------------------------------------\n",
    "#\n",
    "#                                           INTRODUCTION TO PYTHON\n",
    "# \n",
    "# 02. - PANDAS (PART I)\n",
    "#----------------------------------------------------------------------------------------------------------------------\n",
    "import numpy  as np\n",
    "import pandas as pd"
   ]
  },
  {
   "cell_type": "markdown",
   "metadata": {},
   "source": [
    "pandasis a Python package providing fast, flexible, and expressive data structures designed to make working\n",
    "with “relational” or “labeled” data both easy and intuitive. It aims to be the fundamental high-level building block\n",
    "for doing practical, real world data analysis in Python.\n",
    "\n",
    "https://pandas.pydata.org/pandas-docs/stable/"
   ]
  },
  {
   "cell_type": "code",
   "execution_count": 3,
   "metadata": {
    "collapsed": true
   },
   "outputs": [],
   "source": [
    "# Data Structures\n",
    "#-----------------\n",
    "\n",
    "# 01 - SERIES (1-Dimensional labeled homogeneously-typed array)\n",
    "# Series data structures are value-mutable, but the length of cannot be changed.\n",
    "\n",
    "# 02 - DATAFRAME (General 2-Dimensional labeled, size-mutable tabular structure with potentially heterogeneously-typed column)\n",
    "# index (the rows)\n",
    "# columns\n",
    "\n",
    "# A DataFrame is similar to a sheet with rows and columns, while a Series is\n",
    "# similar to a single column of data."
   ]
  },
  {
   "cell_type": "markdown",
   "metadata": {},
   "source": [
    "# 1 - SERIES (1-Dimensional labeled homogeneously-typed array)"
   ]
  },
  {
   "cell_type": "code",
   "execution_count": 4,
   "metadata": {
    "collapsed": true
   },
   "outputs": [],
   "source": [
    "a = [1, 2, 'AA', np.nan, '2019-07-01', 3]\n",
    "s = pd.Series(a)"
   ]
  },
  {
   "cell_type": "code",
   "execution_count": 5,
   "metadata": {},
   "outputs": [
    {
     "name": "stdout",
     "output_type": "stream",
     "text": [
      "0             1\n",
      "1             2\n",
      "2            AA\n",
      "3           NaN\n",
      "4    2019-07-01\n",
      "5             3\n",
      "dtype: object\n"
     ]
    },
    {
     "data": {
      "text/plain": [
       "pandas.core.series.Series"
      ]
     },
     "execution_count": 5,
     "metadata": {},
     "output_type": "execute_result"
    }
   ],
   "source": [
    "print(s)\n",
    "type(s)"
   ]
  },
  {
   "cell_type": "code",
   "execution_count": 6,
   "metadata": {},
   "outputs": [
    {
     "data": {
      "text/plain": [
       "'AA'"
      ]
     },
     "execution_count": 6,
     "metadata": {},
     "output_type": "execute_result"
    }
   ],
   "source": [
    "s[2]"
   ]
  },
  {
   "cell_type": "markdown",
   "metadata": {},
   "source": [
    "##### > Custom index names"
   ]
  },
  {
   "cell_type": "code",
   "execution_count": 7,
   "metadata": {},
   "outputs": [
    {
     "data": {
      "text/plain": [
       "A                1\n",
       "B                2\n",
       "C               AA\n",
       "D              NaN\n",
       "date    2019-07-01\n",
       "dtype: object"
      ]
     },
     "execution_count": 7,
     "metadata": {},
     "output_type": "execute_result"
    }
   ],
   "source": [
    "index = ['A', 'B', 'C', 'D', 'date', 'E']\n",
    "s = pd.Series(a, index)\n",
    "s.head()"
   ]
  },
  {
   "cell_type": "code",
   "execution_count": 8,
   "metadata": {},
   "outputs": [
    {
     "data": {
      "text/plain": [
       "'2019-07-01'"
      ]
     },
     "execution_count": 8,
     "metadata": {},
     "output_type": "execute_result"
    }
   ],
   "source": [
    "s['date']"
   ]
  },
  {
   "cell_type": "code",
   "execution_count": null,
   "metadata": {
    "collapsed": true
   },
   "outputs": [],
   "source": []
  },
  {
   "cell_type": "markdown",
   "metadata": {
    "collapsed": true
   },
   "source": [
    "# 2 - DATAFRAME (General 2-Dimensional labeled, size-mutable tabular structure with potentially heterogeneously-typed column)\n",
    "index (the rows)<br>\n",
    "columns"
   ]
  },
  {
   "cell_type": "markdown",
   "metadata": {},
   "source": [
    "## 2.1 Creating a DataFrame with a date time index, labeled columns and random values\n",
    "\n",
    "##### > 2.1.1 Creating a range of dates"
   ]
  },
  {
   "cell_type": "code",
   "execution_count": 9,
   "metadata": {},
   "outputs": [
    {
     "name": "stdout",
     "output_type": "stream",
     "text": [
      "DatetimeIndex(['2019-07-01', '2019-07-02'], dtype='datetime64[ns]', freq='D')\n"
     ]
    },
    {
     "data": {
      "text/plain": [
       "pandas.core.indexes.datetimes.DatetimeIndex"
      ]
     },
     "execution_count": 9,
     "metadata": {},
     "output_type": "execute_result"
    }
   ],
   "source": [
    "datelist = pd.date_range('20190701', periods = 2, freq = 'D')\n",
    "print(datelist)\n",
    "type(datelist)"
   ]
  },
  {
   "cell_type": "code",
   "execution_count": 10,
   "metadata": {},
   "outputs": [
    {
     "name": "stdout",
     "output_type": "stream",
     "text": [
      "DatetimeIndex(['2019-06-20 11:12:00.480442', '2019-06-21 11:12:00.480442'], dtype='datetime64[ns]', freq='D')\n"
     ]
    }
   ],
   "source": [
    "datelist = pd.date_range(pd.datetime.today(), periods = 2)\n",
    "print(datelist)"
   ]
  },
  {
   "cell_type": "code",
   "execution_count": 11,
   "metadata": {},
   "outputs": [
    {
     "name": "stdout",
     "output_type": "stream",
     "text": [
      "DatetimeIndex(['2019-06-20', '2019-06-21', '2019-06-22', '2019-06-23',\n",
      "               '2019-06-24', '2019-06-25', '2019-06-26', '2019-06-27',\n",
      "               '2019-06-28', '2019-06-29'],\n",
      "              dtype='datetime64[ns]', freq='D')\n"
     ]
    }
   ],
   "source": [
    "datelist = pd.date_range(pd.datetime.today().strftime('%d-%m-%y'), periods = 10, freq = 'D')\n",
    "print(datelist)"
   ]
  },
  {
   "cell_type": "markdown",
   "metadata": {},
   "source": [
    "##### > DataFrame"
   ]
  },
  {
   "cell_type": "code",
   "execution_count": 12,
   "metadata": {
    "scrolled": true
   },
   "outputs": [
    {
     "data": {
      "text/html": [
       "<div>\n",
       "<style scoped>\n",
       "    .dataframe tbody tr th:only-of-type {\n",
       "        vertical-align: middle;\n",
       "    }\n",
       "\n",
       "    .dataframe tbody tr th {\n",
       "        vertical-align: top;\n",
       "    }\n",
       "\n",
       "    .dataframe thead th {\n",
       "        text-align: right;\n",
       "    }\n",
       "</style>\n",
       "<table border=\"1\" class=\"dataframe\">\n",
       "  <thead>\n",
       "    <tr style=\"text-align: right;\">\n",
       "      <th></th>\n",
       "      <th>A</th>\n",
       "      <th>B</th>\n",
       "      <th>C</th>\n",
       "      <th>D</th>\n",
       "      <th>E</th>\n",
       "    </tr>\n",
       "  </thead>\n",
       "  <tbody>\n",
       "    <tr>\n",
       "      <th>2019-06-20</th>\n",
       "      <td>-0.652861</td>\n",
       "      <td>-1.037147</td>\n",
       "      <td>-0.210493</td>\n",
       "      <td>1.202889</td>\n",
       "      <td>1.563457</td>\n",
       "    </tr>\n",
       "    <tr>\n",
       "      <th>2019-06-21</th>\n",
       "      <td>-0.042220</td>\n",
       "      <td>0.352408</td>\n",
       "      <td>-0.911397</td>\n",
       "      <td>0.363411</td>\n",
       "      <td>-0.092591</td>\n",
       "    </tr>\n",
       "    <tr>\n",
       "      <th>2019-06-22</th>\n",
       "      <td>1.785864</td>\n",
       "      <td>-0.778382</td>\n",
       "      <td>0.683948</td>\n",
       "      <td>-0.428721</td>\n",
       "      <td>0.216790</td>\n",
       "    </tr>\n",
       "    <tr>\n",
       "      <th>2019-06-23</th>\n",
       "      <td>0.760946</td>\n",
       "      <td>-1.199143</td>\n",
       "      <td>2.001259</td>\n",
       "      <td>-0.126637</td>\n",
       "      <td>1.177833</td>\n",
       "    </tr>\n",
       "    <tr>\n",
       "      <th>2019-06-24</th>\n",
       "      <td>0.101409</td>\n",
       "      <td>-0.001838</td>\n",
       "      <td>-1.304630</td>\n",
       "      <td>-1.543924</td>\n",
       "      <td>0.199720</td>\n",
       "    </tr>\n",
       "    <tr>\n",
       "      <th>2019-06-25</th>\n",
       "      <td>-0.551135</td>\n",
       "      <td>0.280843</td>\n",
       "      <td>0.072867</td>\n",
       "      <td>-0.291706</td>\n",
       "      <td>-0.154336</td>\n",
       "    </tr>\n",
       "    <tr>\n",
       "      <th>2019-06-26</th>\n",
       "      <td>-0.582221</td>\n",
       "      <td>-0.310365</td>\n",
       "      <td>-0.024177</td>\n",
       "      <td>0.686229</td>\n",
       "      <td>0.603986</td>\n",
       "    </tr>\n",
       "    <tr>\n",
       "      <th>2019-06-27</th>\n",
       "      <td>0.544433</td>\n",
       "      <td>0.180265</td>\n",
       "      <td>-1.499154</td>\n",
       "      <td>-0.425769</td>\n",
       "      <td>0.273486</td>\n",
       "    </tr>\n",
       "    <tr>\n",
       "      <th>2019-06-28</th>\n",
       "      <td>-0.016795</td>\n",
       "      <td>1.158821</td>\n",
       "      <td>0.363828</td>\n",
       "      <td>-0.342749</td>\n",
       "      <td>1.219931</td>\n",
       "    </tr>\n",
       "    <tr>\n",
       "      <th>2019-06-29</th>\n",
       "      <td>1.047124</td>\n",
       "      <td>0.394251</td>\n",
       "      <td>0.691259</td>\n",
       "      <td>0.075901</td>\n",
       "      <td>-0.141932</td>\n",
       "    </tr>\n",
       "  </tbody>\n",
       "</table>\n",
       "</div>"
      ],
      "text/plain": [
       "                   A         B         C         D         E\n",
       "2019-06-20 -0.652861 -1.037147 -0.210493  1.202889  1.563457\n",
       "2019-06-21 -0.042220  0.352408 -0.911397  0.363411 -0.092591\n",
       "2019-06-22  1.785864 -0.778382  0.683948 -0.428721  0.216790\n",
       "2019-06-23  0.760946 -1.199143  2.001259 -0.126637  1.177833\n",
       "2019-06-24  0.101409 -0.001838 -1.304630 -1.543924  0.199720\n",
       "2019-06-25 -0.551135  0.280843  0.072867 -0.291706 -0.154336\n",
       "2019-06-26 -0.582221 -0.310365 -0.024177  0.686229  0.603986\n",
       "2019-06-27  0.544433  0.180265 -1.499154 -0.425769  0.273486\n",
       "2019-06-28 -0.016795  1.158821  0.363828 -0.342749  1.219931\n",
       "2019-06-29  1.047124  0.394251  0.691259  0.075901 -0.141932"
      ]
     },
     "execution_count": 12,
     "metadata": {},
     "output_type": "execute_result"
    }
   ],
   "source": [
    "df = pd.DataFrame(np.random.randn(10,5), index = datelist, columns = ['A', 'B', 'C', 'D', 'E'])\n",
    "df"
   ]
  },
  {
   "cell_type": "markdown",
   "metadata": {},
   "source": [
    "##### > Exploring the data"
   ]
  },
  {
   "cell_type": "code",
   "execution_count": 13,
   "metadata": {},
   "outputs": [
    {
     "data": {
      "text/plain": [
       "A    float64\n",
       "B    float64\n",
       "C    float64\n",
       "D    float64\n",
       "E    float64\n",
       "dtype: object"
      ]
     },
     "execution_count": 13,
     "metadata": {},
     "output_type": "execute_result"
    }
   ],
   "source": [
    "df.dtypes"
   ]
  },
  {
   "cell_type": "code",
   "execution_count": 14,
   "metadata": {},
   "outputs": [
    {
     "name": "stdout",
     "output_type": "stream",
     "text": [
      "<class 'pandas.core.frame.DataFrame'>\n",
      "DatetimeIndex: 10 entries, 2019-06-20 to 2019-06-29\n",
      "Freq: D\n",
      "Data columns (total 5 columns):\n",
      "A    10 non-null float64\n",
      "B    10 non-null float64\n",
      "C    10 non-null float64\n",
      "D    10 non-null float64\n",
      "E    10 non-null float64\n",
      "dtypes: float64(5)\n",
      "memory usage: 480.0 bytes\n"
     ]
    }
   ],
   "source": [
    "df.info()"
   ]
  },
  {
   "cell_type": "code",
   "execution_count": 15,
   "metadata": {},
   "outputs": [
    {
     "data": {
      "text/plain": [
       "(10, 5)"
      ]
     },
     "execution_count": 15,
     "metadata": {},
     "output_type": "execute_result"
    }
   ],
   "source": [
    "df.shape"
   ]
  },
  {
   "cell_type": "markdown",
   "metadata": {
    "collapsed": true
   },
   "source": [
    "## 2.2 Viewing Data"
   ]
  },
  {
   "cell_type": "code",
   "execution_count": 16,
   "metadata": {},
   "outputs": [
    {
     "data": {
      "text/html": [
       "<div>\n",
       "<style scoped>\n",
       "    .dataframe tbody tr th:only-of-type {\n",
       "        vertical-align: middle;\n",
       "    }\n",
       "\n",
       "    .dataframe tbody tr th {\n",
       "        vertical-align: top;\n",
       "    }\n",
       "\n",
       "    .dataframe thead th {\n",
       "        text-align: right;\n",
       "    }\n",
       "</style>\n",
       "<table border=\"1\" class=\"dataframe\">\n",
       "  <thead>\n",
       "    <tr style=\"text-align: right;\">\n",
       "      <th></th>\n",
       "      <th>A</th>\n",
       "      <th>B</th>\n",
       "      <th>C</th>\n",
       "      <th>D</th>\n",
       "      <th>E</th>\n",
       "    </tr>\n",
       "  </thead>\n",
       "  <tbody>\n",
       "    <tr>\n",
       "      <th>2019-06-20</th>\n",
       "      <td>-0.652861</td>\n",
       "      <td>-1.037147</td>\n",
       "      <td>-0.210493</td>\n",
       "      <td>1.202889</td>\n",
       "      <td>1.563457</td>\n",
       "    </tr>\n",
       "    <tr>\n",
       "      <th>2019-06-21</th>\n",
       "      <td>-0.042220</td>\n",
       "      <td>0.352408</td>\n",
       "      <td>-0.911397</td>\n",
       "      <td>0.363411</td>\n",
       "      <td>-0.092591</td>\n",
       "    </tr>\n",
       "    <tr>\n",
       "      <th>2019-06-22</th>\n",
       "      <td>1.785864</td>\n",
       "      <td>-0.778382</td>\n",
       "      <td>0.683948</td>\n",
       "      <td>-0.428721</td>\n",
       "      <td>0.216790</td>\n",
       "    </tr>\n",
       "    <tr>\n",
       "      <th>2019-06-23</th>\n",
       "      <td>0.760946</td>\n",
       "      <td>-1.199143</td>\n",
       "      <td>2.001259</td>\n",
       "      <td>-0.126637</td>\n",
       "      <td>1.177833</td>\n",
       "    </tr>\n",
       "    <tr>\n",
       "      <th>2019-06-24</th>\n",
       "      <td>0.101409</td>\n",
       "      <td>-0.001838</td>\n",
       "      <td>-1.304630</td>\n",
       "      <td>-1.543924</td>\n",
       "      <td>0.199720</td>\n",
       "    </tr>\n",
       "  </tbody>\n",
       "</table>\n",
       "</div>"
      ],
      "text/plain": [
       "                   A         B         C         D         E\n",
       "2019-06-20 -0.652861 -1.037147 -0.210493  1.202889  1.563457\n",
       "2019-06-21 -0.042220  0.352408 -0.911397  0.363411 -0.092591\n",
       "2019-06-22  1.785864 -0.778382  0.683948 -0.428721  0.216790\n",
       "2019-06-23  0.760946 -1.199143  2.001259 -0.126637  1.177833\n",
       "2019-06-24  0.101409 -0.001838 -1.304630 -1.543924  0.199720"
      ]
     },
     "execution_count": 16,
     "metadata": {},
     "output_type": "execute_result"
    }
   ],
   "source": [
    "df.head()"
   ]
  },
  {
   "cell_type": "code",
   "execution_count": 17,
   "metadata": {},
   "outputs": [
    {
     "data": {
      "text/html": [
       "<div>\n",
       "<style scoped>\n",
       "    .dataframe tbody tr th:only-of-type {\n",
       "        vertical-align: middle;\n",
       "    }\n",
       "\n",
       "    .dataframe tbody tr th {\n",
       "        vertical-align: top;\n",
       "    }\n",
       "\n",
       "    .dataframe thead th {\n",
       "        text-align: right;\n",
       "    }\n",
       "</style>\n",
       "<table border=\"1\" class=\"dataframe\">\n",
       "  <thead>\n",
       "    <tr style=\"text-align: right;\">\n",
       "      <th></th>\n",
       "      <th>A</th>\n",
       "      <th>B</th>\n",
       "      <th>C</th>\n",
       "      <th>D</th>\n",
       "      <th>E</th>\n",
       "    </tr>\n",
       "  </thead>\n",
       "  <tbody>\n",
       "    <tr>\n",
       "      <th>2019-06-20</th>\n",
       "      <td>-0.652861</td>\n",
       "      <td>-1.037147</td>\n",
       "      <td>-0.210493</td>\n",
       "      <td>1.202889</td>\n",
       "      <td>1.563457</td>\n",
       "    </tr>\n",
       "    <tr>\n",
       "      <th>2019-06-21</th>\n",
       "      <td>-0.042220</td>\n",
       "      <td>0.352408</td>\n",
       "      <td>-0.911397</td>\n",
       "      <td>0.363411</td>\n",
       "      <td>-0.092591</td>\n",
       "    </tr>\n",
       "    <tr>\n",
       "      <th>2019-06-22</th>\n",
       "      <td>1.785864</td>\n",
       "      <td>-0.778382</td>\n",
       "      <td>0.683948</td>\n",
       "      <td>-0.428721</td>\n",
       "      <td>0.216790</td>\n",
       "    </tr>\n",
       "    <tr>\n",
       "      <th>2019-06-23</th>\n",
       "      <td>0.760946</td>\n",
       "      <td>-1.199143</td>\n",
       "      <td>2.001259</td>\n",
       "      <td>-0.126637</td>\n",
       "      <td>1.177833</td>\n",
       "    </tr>\n",
       "    <tr>\n",
       "      <th>2019-06-24</th>\n",
       "      <td>0.101409</td>\n",
       "      <td>-0.001838</td>\n",
       "      <td>-1.304630</td>\n",
       "      <td>-1.543924</td>\n",
       "      <td>0.199720</td>\n",
       "    </tr>\n",
       "    <tr>\n",
       "      <th>2019-06-25</th>\n",
       "      <td>-0.551135</td>\n",
       "      <td>0.280843</td>\n",
       "      <td>0.072867</td>\n",
       "      <td>-0.291706</td>\n",
       "      <td>-0.154336</td>\n",
       "    </tr>\n",
       "    <tr>\n",
       "      <th>2019-06-26</th>\n",
       "      <td>-0.582221</td>\n",
       "      <td>-0.310365</td>\n",
       "      <td>-0.024177</td>\n",
       "      <td>0.686229</td>\n",
       "      <td>0.603986</td>\n",
       "    </tr>\n",
       "    <tr>\n",
       "      <th>2019-06-27</th>\n",
       "      <td>0.544433</td>\n",
       "      <td>0.180265</td>\n",
       "      <td>-1.499154</td>\n",
       "      <td>-0.425769</td>\n",
       "      <td>0.273486</td>\n",
       "    </tr>\n",
       "    <tr>\n",
       "      <th>2019-06-28</th>\n",
       "      <td>-0.016795</td>\n",
       "      <td>1.158821</td>\n",
       "      <td>0.363828</td>\n",
       "      <td>-0.342749</td>\n",
       "      <td>1.219931</td>\n",
       "    </tr>\n",
       "    <tr>\n",
       "      <th>2019-06-29</th>\n",
       "      <td>1.047124</td>\n",
       "      <td>0.394251</td>\n",
       "      <td>0.691259</td>\n",
       "      <td>0.075901</td>\n",
       "      <td>-0.141932</td>\n",
       "    </tr>\n",
       "  </tbody>\n",
       "</table>\n",
       "</div>"
      ],
      "text/plain": [
       "                   A         B         C         D         E\n",
       "2019-06-20 -0.652861 -1.037147 -0.210493  1.202889  1.563457\n",
       "2019-06-21 -0.042220  0.352408 -0.911397  0.363411 -0.092591\n",
       "2019-06-22  1.785864 -0.778382  0.683948 -0.428721  0.216790\n",
       "2019-06-23  0.760946 -1.199143  2.001259 -0.126637  1.177833\n",
       "2019-06-24  0.101409 -0.001838 -1.304630 -1.543924  0.199720\n",
       "2019-06-25 -0.551135  0.280843  0.072867 -0.291706 -0.154336\n",
       "2019-06-26 -0.582221 -0.310365 -0.024177  0.686229  0.603986\n",
       "2019-06-27  0.544433  0.180265 -1.499154 -0.425769  0.273486\n",
       "2019-06-28 -0.016795  1.158821  0.363828 -0.342749  1.219931\n",
       "2019-06-29  1.047124  0.394251  0.691259  0.075901 -0.141932"
      ]
     },
     "execution_count": 17,
     "metadata": {},
     "output_type": "execute_result"
    }
   ],
   "source": [
    "df.head(10)"
   ]
  },
  {
   "cell_type": "code",
   "execution_count": 29,
   "metadata": {},
   "outputs": [
    {
     "data": {
      "text/html": [
       "<div>\n",
       "<style scoped>\n",
       "    .dataframe tbody tr th:only-of-type {\n",
       "        vertical-align: middle;\n",
       "    }\n",
       "\n",
       "    .dataframe tbody tr th {\n",
       "        vertical-align: top;\n",
       "    }\n",
       "\n",
       "    .dataframe thead th {\n",
       "        text-align: right;\n",
       "    }\n",
       "</style>\n",
       "<table border=\"1\" class=\"dataframe\">\n",
       "  <thead>\n",
       "    <tr style=\"text-align: right;\">\n",
       "      <th></th>\n",
       "      <th>A</th>\n",
       "      <th>B</th>\n",
       "      <th>C</th>\n",
       "      <th>D</th>\n",
       "      <th>E</th>\n",
       "    </tr>\n",
       "  </thead>\n",
       "  <tbody>\n",
       "    <tr>\n",
       "      <th>2019-06-19</th>\n",
       "      <td>-1.263738</td>\n",
       "      <td>-0.761422</td>\n",
       "      <td>0.747610</td>\n",
       "      <td>-1.358186</td>\n",
       "      <td>1.517285</td>\n",
       "    </tr>\n",
       "    <tr>\n",
       "      <th>2019-06-20</th>\n",
       "      <td>0.039657</td>\n",
       "      <td>0.338528</td>\n",
       "      <td>0.755499</td>\n",
       "      <td>1.768560</td>\n",
       "      <td>0.352867</td>\n",
       "    </tr>\n",
       "    <tr>\n",
       "      <th>2019-06-21</th>\n",
       "      <td>0.930169</td>\n",
       "      <td>-1.041601</td>\n",
       "      <td>1.965777</td>\n",
       "      <td>0.278340</td>\n",
       "      <td>1.878768</td>\n",
       "    </tr>\n",
       "    <tr>\n",
       "      <th>2019-06-22</th>\n",
       "      <td>0.820921</td>\n",
       "      <td>0.021398</td>\n",
       "      <td>-0.919655</td>\n",
       "      <td>-1.057482</td>\n",
       "      <td>-0.443572</td>\n",
       "    </tr>\n",
       "    <tr>\n",
       "      <th>2019-06-23</th>\n",
       "      <td>-2.209524</td>\n",
       "      <td>-0.505473</td>\n",
       "      <td>0.139511</td>\n",
       "      <td>-0.599462</td>\n",
       "      <td>-0.387417</td>\n",
       "    </tr>\n",
       "  </tbody>\n",
       "</table>\n",
       "</div>"
      ],
      "text/plain": [
       "                   A         B         C         D         E\n",
       "2019-06-19 -1.263738 -0.761422  0.747610 -1.358186  1.517285\n",
       "2019-06-20  0.039657  0.338528  0.755499  1.768560  0.352867\n",
       "2019-06-21  0.930169 -1.041601  1.965777  0.278340  1.878768\n",
       "2019-06-22  0.820921  0.021398 -0.919655 -1.057482 -0.443572\n",
       "2019-06-23 -2.209524 -0.505473  0.139511 -0.599462 -0.387417"
      ]
     },
     "execution_count": 29,
     "metadata": {},
     "output_type": "execute_result"
    }
   ],
   "source": [
    "df.tail()"
   ]
  },
  {
   "cell_type": "markdown",
   "metadata": {},
   "source": [
    "##### > Display index (rows) and columns"
   ]
  },
  {
   "cell_type": "code",
   "execution_count": 18,
   "metadata": {},
   "outputs": [
    {
     "data": {
      "text/plain": [
       "DatetimeIndex(['2019-06-20', '2019-06-21', '2019-06-22', '2019-06-23',\n",
       "               '2019-06-24', '2019-06-25', '2019-06-26', '2019-06-27',\n",
       "               '2019-06-28', '2019-06-29'],\n",
       "              dtype='datetime64[ns]', freq='D')"
      ]
     },
     "execution_count": 18,
     "metadata": {},
     "output_type": "execute_result"
    }
   ],
   "source": [
    "df.index"
   ]
  },
  {
   "cell_type": "code",
   "execution_count": 19,
   "metadata": {},
   "outputs": [
    {
     "data": {
      "text/plain": [
       "Index(['A', 'B', 'C', 'D', 'E'], dtype='object')"
      ]
     },
     "execution_count": 19,
     "metadata": {},
     "output_type": "execute_result"
    }
   ],
   "source": [
    "df.columns"
   ]
  },
  {
   "cell_type": "code",
   "execution_count": null,
   "metadata": {
    "collapsed": true
   },
   "outputs": [],
   "source": []
  },
  {
   "cell_type": "markdown",
   "metadata": {
    "collapsed": true
   },
   "source": [
    "## 2.3 Selecting Data\n",
    "  iloc: Purely integer-location based indexing for selection by position <br>\n",
    "  loc : Purely label-location based indexer for selection by label <br>\n",
    "  iat : Fast integer location scalar accessor <br>\n",
    "   at : Access a single value using a label <br>\n",
    "\n"
   ]
  },
  {
   "cell_type": "markdown",
   "metadata": {},
   "source": [
    "### 2.3.1 Selecting Columns"
   ]
  },
  {
   "cell_type": "markdown",
   "metadata": {},
   "source": [
    "#####  > Single column by label (and getting a Serie)"
   ]
  },
  {
   "cell_type": "code",
   "execution_count": 20,
   "metadata": {},
   "outputs": [
    {
     "data": {
      "text/plain": [
       "2019-06-20   -0.652861\n",
       "2019-06-21   -0.042220\n",
       "2019-06-22    1.785864\n",
       "2019-06-23    0.760946\n",
       "2019-06-24    0.101409\n",
       "2019-06-25   -0.551135\n",
       "2019-06-26   -0.582221\n",
       "2019-06-27    0.544433\n",
       "2019-06-28   -0.016795\n",
       "2019-06-29    1.047124\n",
       "Freq: D, Name: A, dtype: float64"
      ]
     },
     "execution_count": 20,
     "metadata": {},
     "output_type": "execute_result"
    }
   ],
   "source": [
    "df['A']"
   ]
  },
  {
   "cell_type": "markdown",
   "metadata": {},
   "source": [
    "##### > Single column by label (and getting a DataFrame)"
   ]
  },
  {
   "cell_type": "code",
   "execution_count": 31,
   "metadata": {},
   "outputs": [
    {
     "data": {
      "text/html": [
       "<div>\n",
       "<style scoped>\n",
       "    .dataframe tbody tr th:only-of-type {\n",
       "        vertical-align: middle;\n",
       "    }\n",
       "\n",
       "    .dataframe tbody tr th {\n",
       "        vertical-align: top;\n",
       "    }\n",
       "\n",
       "    .dataframe thead th {\n",
       "        text-align: right;\n",
       "    }\n",
       "</style>\n",
       "<table border=\"1\" class=\"dataframe\">\n",
       "  <thead>\n",
       "    <tr style=\"text-align: right;\">\n",
       "      <th></th>\n",
       "      <th>A</th>\n",
       "    </tr>\n",
       "  </thead>\n",
       "  <tbody>\n",
       "    <tr>\n",
       "      <th>2019-06-14</th>\n",
       "      <td>0.032526</td>\n",
       "    </tr>\n",
       "    <tr>\n",
       "      <th>2019-06-15</th>\n",
       "      <td>1.802055</td>\n",
       "    </tr>\n",
       "    <tr>\n",
       "      <th>2019-06-16</th>\n",
       "      <td>-0.957432</td>\n",
       "    </tr>\n",
       "    <tr>\n",
       "      <th>2019-06-17</th>\n",
       "      <td>-1.812419</td>\n",
       "    </tr>\n",
       "    <tr>\n",
       "      <th>2019-06-18</th>\n",
       "      <td>-0.415217</td>\n",
       "    </tr>\n",
       "    <tr>\n",
       "      <th>2019-06-19</th>\n",
       "      <td>-1.263738</td>\n",
       "    </tr>\n",
       "    <tr>\n",
       "      <th>2019-06-20</th>\n",
       "      <td>0.039657</td>\n",
       "    </tr>\n",
       "    <tr>\n",
       "      <th>2019-06-21</th>\n",
       "      <td>0.930169</td>\n",
       "    </tr>\n",
       "    <tr>\n",
       "      <th>2019-06-22</th>\n",
       "      <td>0.820921</td>\n",
       "    </tr>\n",
       "    <tr>\n",
       "      <th>2019-06-23</th>\n",
       "      <td>-2.209524</td>\n",
       "    </tr>\n",
       "  </tbody>\n",
       "</table>\n",
       "</div>"
      ],
      "text/plain": [
       "                   A\n",
       "2019-06-14  0.032526\n",
       "2019-06-15  1.802055\n",
       "2019-06-16 -0.957432\n",
       "2019-06-17 -1.812419\n",
       "2019-06-18 -0.415217\n",
       "2019-06-19 -1.263738\n",
       "2019-06-20  0.039657\n",
       "2019-06-21  0.930169\n",
       "2019-06-22  0.820921\n",
       "2019-06-23 -2.209524"
      ]
     },
     "execution_count": 31,
     "metadata": {},
     "output_type": "execute_result"
    }
   ],
   "source": [
    "df[['A']]"
   ]
  },
  {
   "cell_type": "markdown",
   "metadata": {},
   "source": [
    "##### > Selecting more than one column by label (and getting a DataFrame)"
   ]
  },
  {
   "cell_type": "code",
   "execution_count": 21,
   "metadata": {},
   "outputs": [
    {
     "data": {
      "text/html": [
       "<div>\n",
       "<style scoped>\n",
       "    .dataframe tbody tr th:only-of-type {\n",
       "        vertical-align: middle;\n",
       "    }\n",
       "\n",
       "    .dataframe tbody tr th {\n",
       "        vertical-align: top;\n",
       "    }\n",
       "\n",
       "    .dataframe thead th {\n",
       "        text-align: right;\n",
       "    }\n",
       "</style>\n",
       "<table border=\"1\" class=\"dataframe\">\n",
       "  <thead>\n",
       "    <tr style=\"text-align: right;\">\n",
       "      <th></th>\n",
       "      <th>A</th>\n",
       "      <th>B</th>\n",
       "    </tr>\n",
       "  </thead>\n",
       "  <tbody>\n",
       "    <tr>\n",
       "      <th>2019-06-20</th>\n",
       "      <td>-0.652861</td>\n",
       "      <td>-1.037147</td>\n",
       "    </tr>\n",
       "    <tr>\n",
       "      <th>2019-06-21</th>\n",
       "      <td>-0.042220</td>\n",
       "      <td>0.352408</td>\n",
       "    </tr>\n",
       "    <tr>\n",
       "      <th>2019-06-22</th>\n",
       "      <td>1.785864</td>\n",
       "      <td>-0.778382</td>\n",
       "    </tr>\n",
       "    <tr>\n",
       "      <th>2019-06-23</th>\n",
       "      <td>0.760946</td>\n",
       "      <td>-1.199143</td>\n",
       "    </tr>\n",
       "    <tr>\n",
       "      <th>2019-06-24</th>\n",
       "      <td>0.101409</td>\n",
       "      <td>-0.001838</td>\n",
       "    </tr>\n",
       "    <tr>\n",
       "      <th>2019-06-25</th>\n",
       "      <td>-0.551135</td>\n",
       "      <td>0.280843</td>\n",
       "    </tr>\n",
       "    <tr>\n",
       "      <th>2019-06-26</th>\n",
       "      <td>-0.582221</td>\n",
       "      <td>-0.310365</td>\n",
       "    </tr>\n",
       "    <tr>\n",
       "      <th>2019-06-27</th>\n",
       "      <td>0.544433</td>\n",
       "      <td>0.180265</td>\n",
       "    </tr>\n",
       "    <tr>\n",
       "      <th>2019-06-28</th>\n",
       "      <td>-0.016795</td>\n",
       "      <td>1.158821</td>\n",
       "    </tr>\n",
       "    <tr>\n",
       "      <th>2019-06-29</th>\n",
       "      <td>1.047124</td>\n",
       "      <td>0.394251</td>\n",
       "    </tr>\n",
       "  </tbody>\n",
       "</table>\n",
       "</div>"
      ],
      "text/plain": [
       "                   A         B\n",
       "2019-06-20 -0.652861 -1.037147\n",
       "2019-06-21 -0.042220  0.352408\n",
       "2019-06-22  1.785864 -0.778382\n",
       "2019-06-23  0.760946 -1.199143\n",
       "2019-06-24  0.101409 -0.001838\n",
       "2019-06-25 -0.551135  0.280843\n",
       "2019-06-26 -0.582221 -0.310365\n",
       "2019-06-27  0.544433  0.180265\n",
       "2019-06-28 -0.016795  1.158821\n",
       "2019-06-29  1.047124  0.394251"
      ]
     },
     "execution_count": 21,
     "metadata": {},
     "output_type": "execute_result"
    }
   ],
   "source": [
    "df[['A' ,'B']]"
   ]
  },
  {
   "cell_type": "markdown",
   "metadata": {},
   "source": [
    "##### > Selecting a single column by attribute"
   ]
  },
  {
   "cell_type": "code",
   "execution_count": 22,
   "metadata": {},
   "outputs": [
    {
     "data": {
      "text/plain": [
       "2019-06-20   -0.652861\n",
       "2019-06-21   -0.042220\n",
       "2019-06-22    1.785864\n",
       "2019-06-23    0.760946\n",
       "2019-06-24    0.101409\n",
       "2019-06-25   -0.551135\n",
       "2019-06-26   -0.582221\n",
       "2019-06-27    0.544433\n",
       "2019-06-28   -0.016795\n",
       "2019-06-29    1.047124\n",
       "Freq: D, Name: A, dtype: float64"
      ]
     },
     "execution_count": 22,
     "metadata": {},
     "output_type": "execute_result"
    }
   ],
   "source": [
    "df.A"
   ]
  },
  {
   "cell_type": "markdown",
   "metadata": {},
   "source": [
    "### 2.3.2 Selecting Rows "
   ]
  },
  {
   "cell_type": "markdown",
   "metadata": {},
   "source": [
    "##### > Rows by index"
   ]
  },
  {
   "cell_type": "code",
   "execution_count": 23,
   "metadata": {
    "scrolled": true
   },
   "outputs": [
    {
     "data": {
      "text/html": [
       "<div>\n",
       "<style scoped>\n",
       "    .dataframe tbody tr th:only-of-type {\n",
       "        vertical-align: middle;\n",
       "    }\n",
       "\n",
       "    .dataframe tbody tr th {\n",
       "        vertical-align: top;\n",
       "    }\n",
       "\n",
       "    .dataframe thead th {\n",
       "        text-align: right;\n",
       "    }\n",
       "</style>\n",
       "<table border=\"1\" class=\"dataframe\">\n",
       "  <thead>\n",
       "    <tr style=\"text-align: right;\">\n",
       "      <th></th>\n",
       "      <th>A</th>\n",
       "      <th>B</th>\n",
       "      <th>C</th>\n",
       "      <th>D</th>\n",
       "      <th>E</th>\n",
       "    </tr>\n",
       "  </thead>\n",
       "  <tbody>\n",
       "    <tr>\n",
       "      <th>2019-06-20</th>\n",
       "      <td>-0.652861</td>\n",
       "      <td>-1.037147</td>\n",
       "      <td>-0.210493</td>\n",
       "      <td>1.202889</td>\n",
       "      <td>1.563457</td>\n",
       "    </tr>\n",
       "    <tr>\n",
       "      <th>2019-06-21</th>\n",
       "      <td>-0.042220</td>\n",
       "      <td>0.352408</td>\n",
       "      <td>-0.911397</td>\n",
       "      <td>0.363411</td>\n",
       "      <td>-0.092591</td>\n",
       "    </tr>\n",
       "  </tbody>\n",
       "</table>\n",
       "</div>"
      ],
      "text/plain": [
       "                   A         B         C         D         E\n",
       "2019-06-20 -0.652861 -1.037147 -0.210493  1.202889  1.563457\n",
       "2019-06-21 -0.042220  0.352408 -0.911397  0.363411 -0.092591"
      ]
     },
     "execution_count": 23,
     "metadata": {},
     "output_type": "execute_result"
    }
   ],
   "source": [
    "df[0:2]"
   ]
  },
  {
   "cell_type": "markdown",
   "metadata": {},
   "source": [
    "##### > Rows by label"
   ]
  },
  {
   "cell_type": "code",
   "execution_count": 24,
   "metadata": {},
   "outputs": [
    {
     "data": {
      "text/html": [
       "<div>\n",
       "<style scoped>\n",
       "    .dataframe tbody tr th:only-of-type {\n",
       "        vertical-align: middle;\n",
       "    }\n",
       "\n",
       "    .dataframe tbody tr th {\n",
       "        vertical-align: top;\n",
       "    }\n",
       "\n",
       "    .dataframe thead th {\n",
       "        text-align: right;\n",
       "    }\n",
       "</style>\n",
       "<table border=\"1\" class=\"dataframe\">\n",
       "  <thead>\n",
       "    <tr style=\"text-align: right;\">\n",
       "      <th></th>\n",
       "      <th>A</th>\n",
       "      <th>B</th>\n",
       "      <th>C</th>\n",
       "      <th>D</th>\n",
       "      <th>E</th>\n",
       "    </tr>\n",
       "  </thead>\n",
       "  <tbody>\n",
       "    <tr>\n",
       "      <th>2019-06-20</th>\n",
       "      <td>-0.652861</td>\n",
       "      <td>-1.037147</td>\n",
       "      <td>-0.210493</td>\n",
       "      <td>1.202889</td>\n",
       "      <td>1.563457</td>\n",
       "    </tr>\n",
       "    <tr>\n",
       "      <th>2019-06-21</th>\n",
       "      <td>-0.042220</td>\n",
       "      <td>0.352408</td>\n",
       "      <td>-0.911397</td>\n",
       "      <td>0.363411</td>\n",
       "      <td>-0.092591</td>\n",
       "    </tr>\n",
       "    <tr>\n",
       "      <th>2019-06-22</th>\n",
       "      <td>1.785864</td>\n",
       "      <td>-0.778382</td>\n",
       "      <td>0.683948</td>\n",
       "      <td>-0.428721</td>\n",
       "      <td>0.216790</td>\n",
       "    </tr>\n",
       "    <tr>\n",
       "      <th>2019-06-23</th>\n",
       "      <td>0.760946</td>\n",
       "      <td>-1.199143</td>\n",
       "      <td>2.001259</td>\n",
       "      <td>-0.126637</td>\n",
       "      <td>1.177833</td>\n",
       "    </tr>\n",
       "    <tr>\n",
       "      <th>2019-06-24</th>\n",
       "      <td>0.101409</td>\n",
       "      <td>-0.001838</td>\n",
       "      <td>-1.304630</td>\n",
       "      <td>-1.543924</td>\n",
       "      <td>0.199720</td>\n",
       "    </tr>\n",
       "    <tr>\n",
       "      <th>2019-06-25</th>\n",
       "      <td>-0.551135</td>\n",
       "      <td>0.280843</td>\n",
       "      <td>0.072867</td>\n",
       "      <td>-0.291706</td>\n",
       "      <td>-0.154336</td>\n",
       "    </tr>\n",
       "  </tbody>\n",
       "</table>\n",
       "</div>"
      ],
      "text/plain": [
       "                   A         B         C         D         E\n",
       "2019-06-20 -0.652861 -1.037147 -0.210493  1.202889  1.563457\n",
       "2019-06-21 -0.042220  0.352408 -0.911397  0.363411 -0.092591\n",
       "2019-06-22  1.785864 -0.778382  0.683948 -0.428721  0.216790\n",
       "2019-06-23  0.760946 -1.199143  2.001259 -0.126637  1.177833\n",
       "2019-06-24  0.101409 -0.001838 -1.304630 -1.543924  0.199720\n",
       "2019-06-25 -0.551135  0.280843  0.072867 -0.291706 -0.154336"
      ]
     },
     "execution_count": 24,
     "metadata": {},
     "output_type": "execute_result"
    }
   ],
   "source": [
    "df['20190620':'20190625']"
   ]
  },
  {
   "cell_type": "code",
   "execution_count": null,
   "metadata": {
    "collapsed": true
   },
   "outputs": [],
   "source": []
  },
  {
   "cell_type": "code",
   "execution_count": 25,
   "metadata": {},
   "outputs": [
    {
     "data": {
      "text/html": [
       "<div>\n",
       "<style scoped>\n",
       "    .dataframe tbody tr th:only-of-type {\n",
       "        vertical-align: middle;\n",
       "    }\n",
       "\n",
       "    .dataframe tbody tr th {\n",
       "        vertical-align: top;\n",
       "    }\n",
       "\n",
       "    .dataframe thead th {\n",
       "        text-align: right;\n",
       "    }\n",
       "</style>\n",
       "<table border=\"1\" class=\"dataframe\">\n",
       "  <thead>\n",
       "    <tr style=\"text-align: right;\">\n",
       "      <th></th>\n",
       "      <th>A</th>\n",
       "      <th>B</th>\n",
       "      <th>C</th>\n",
       "      <th>D</th>\n",
       "      <th>E</th>\n",
       "    </tr>\n",
       "  </thead>\n",
       "  <tbody>\n",
       "    <tr>\n",
       "      <th>2019-06-20</th>\n",
       "      <td>-0.652861</td>\n",
       "      <td>-1.037147</td>\n",
       "      <td>-0.210493</td>\n",
       "      <td>1.202889</td>\n",
       "      <td>1.563457</td>\n",
       "    </tr>\n",
       "  </tbody>\n",
       "</table>\n",
       "</div>"
      ],
      "text/plain": [
       "                   A         B         C         D         E\n",
       "2019-06-20 -0.652861 -1.037147 -0.210493  1.202889  1.563457"
      ]
     },
     "execution_count": 25,
     "metadata": {},
     "output_type": "execute_result"
    }
   ],
   "source": [
    "# NO TENGO CLARO LO QUE HACE !!!!!!!!!!!!!!!!!!!!!!!!!!!!!!!!!!!!!!!!!!!!!!\n",
    "df[0:5 :5]"
   ]
  },
  {
   "cell_type": "markdown",
   "metadata": {},
   "source": [
    "### 2.3.3 ILOC. Selecting by  Position (similar to  numpy/python)"
   ]
  },
  {
   "cell_type": "markdown",
   "metadata": {},
   "source": [
    "##### > Selecting a row by index (and getting a Serie)"
   ]
  },
  {
   "cell_type": "code",
   "execution_count": 27,
   "metadata": {},
   "outputs": [
    {
     "data": {
      "text/plain": [
       "A   -0.652861\n",
       "B   -1.037147\n",
       "C   -0.210493\n",
       "D    1.202889\n",
       "E    1.563457\n",
       "Name: 2019-06-20 00:00:00, dtype: float64"
      ]
     },
     "execution_count": 27,
     "metadata": {},
     "output_type": "execute_result"
    }
   ],
   "source": [
    "df.iloc[0]"
   ]
  },
  {
   "cell_type": "markdown",
   "metadata": {},
   "source": [
    "##### > Selecting a row by index (and getting a DataFrame)"
   ]
  },
  {
   "cell_type": "code",
   "execution_count": 28,
   "metadata": {},
   "outputs": [
    {
     "data": {
      "text/html": [
       "<div>\n",
       "<style scoped>\n",
       "    .dataframe tbody tr th:only-of-type {\n",
       "        vertical-align: middle;\n",
       "    }\n",
       "\n",
       "    .dataframe tbody tr th {\n",
       "        vertical-align: top;\n",
       "    }\n",
       "\n",
       "    .dataframe thead th {\n",
       "        text-align: right;\n",
       "    }\n",
       "</style>\n",
       "<table border=\"1\" class=\"dataframe\">\n",
       "  <thead>\n",
       "    <tr style=\"text-align: right;\">\n",
       "      <th></th>\n",
       "      <th>A</th>\n",
       "      <th>B</th>\n",
       "      <th>C</th>\n",
       "      <th>D</th>\n",
       "      <th>E</th>\n",
       "    </tr>\n",
       "  </thead>\n",
       "  <tbody>\n",
       "    <tr>\n",
       "      <th>2019-06-20</th>\n",
       "      <td>-0.652861</td>\n",
       "      <td>-1.037147</td>\n",
       "      <td>-0.210493</td>\n",
       "      <td>1.202889</td>\n",
       "      <td>1.563457</td>\n",
       "    </tr>\n",
       "  </tbody>\n",
       "</table>\n",
       "</div>"
      ],
      "text/plain": [
       "                   A         B         C         D         E\n",
       "2019-06-20 -0.652861 -1.037147 -0.210493  1.202889  1.563457"
      ]
     },
     "execution_count": 28,
     "metadata": {},
     "output_type": "execute_result"
    }
   ],
   "source": [
    "df.iloc[[0]]"
   ]
  },
  {
   "cell_type": "markdown",
   "metadata": {},
   "source": [
    "##### > Selecting a column by index (and getting a Serie)"
   ]
  },
  {
   "cell_type": "code",
   "execution_count": 29,
   "metadata": {},
   "outputs": [
    {
     "data": {
      "text/plain": [
       "2019-06-20   -0.210493\n",
       "2019-06-21   -0.911397\n",
       "2019-06-22    0.683948\n",
       "2019-06-23    2.001259\n",
       "2019-06-24   -1.304630\n",
       "2019-06-25    0.072867\n",
       "2019-06-26   -0.024177\n",
       "2019-06-27   -1.499154\n",
       "2019-06-28    0.363828\n",
       "2019-06-29    0.691259\n",
       "Freq: D, Name: C, dtype: float64"
      ]
     },
     "execution_count": 29,
     "metadata": {},
     "output_type": "execute_result"
    }
   ],
   "source": [
    "df.iloc[:,2]"
   ]
  },
  {
   "cell_type": "markdown",
   "metadata": {},
   "source": [
    "##### > Selecting a column by index (and getting a DataFrame)"
   ]
  },
  {
   "cell_type": "code",
   "execution_count": 30,
   "metadata": {},
   "outputs": [
    {
     "data": {
      "text/html": [
       "<div>\n",
       "<style scoped>\n",
       "    .dataframe tbody tr th:only-of-type {\n",
       "        vertical-align: middle;\n",
       "    }\n",
       "\n",
       "    .dataframe tbody tr th {\n",
       "        vertical-align: top;\n",
       "    }\n",
       "\n",
       "    .dataframe thead th {\n",
       "        text-align: right;\n",
       "    }\n",
       "</style>\n",
       "<table border=\"1\" class=\"dataframe\">\n",
       "  <thead>\n",
       "    <tr style=\"text-align: right;\">\n",
       "      <th></th>\n",
       "      <th>C</th>\n",
       "    </tr>\n",
       "  </thead>\n",
       "  <tbody>\n",
       "    <tr>\n",
       "      <th>2019-06-20</th>\n",
       "      <td>-0.210493</td>\n",
       "    </tr>\n",
       "    <tr>\n",
       "      <th>2019-06-21</th>\n",
       "      <td>-0.911397</td>\n",
       "    </tr>\n",
       "    <tr>\n",
       "      <th>2019-06-22</th>\n",
       "      <td>0.683948</td>\n",
       "    </tr>\n",
       "    <tr>\n",
       "      <th>2019-06-23</th>\n",
       "      <td>2.001259</td>\n",
       "    </tr>\n",
       "    <tr>\n",
       "      <th>2019-06-24</th>\n",
       "      <td>-1.304630</td>\n",
       "    </tr>\n",
       "    <tr>\n",
       "      <th>2019-06-25</th>\n",
       "      <td>0.072867</td>\n",
       "    </tr>\n",
       "    <tr>\n",
       "      <th>2019-06-26</th>\n",
       "      <td>-0.024177</td>\n",
       "    </tr>\n",
       "    <tr>\n",
       "      <th>2019-06-27</th>\n",
       "      <td>-1.499154</td>\n",
       "    </tr>\n",
       "    <tr>\n",
       "      <th>2019-06-28</th>\n",
       "      <td>0.363828</td>\n",
       "    </tr>\n",
       "    <tr>\n",
       "      <th>2019-06-29</th>\n",
       "      <td>0.691259</td>\n",
       "    </tr>\n",
       "  </tbody>\n",
       "</table>\n",
       "</div>"
      ],
      "text/plain": [
       "                   C\n",
       "2019-06-20 -0.210493\n",
       "2019-06-21 -0.911397\n",
       "2019-06-22  0.683948\n",
       "2019-06-23  2.001259\n",
       "2019-06-24 -1.304630\n",
       "2019-06-25  0.072867\n",
       "2019-06-26 -0.024177\n",
       "2019-06-27 -1.499154\n",
       "2019-06-28  0.363828\n",
       "2019-06-29  0.691259"
      ]
     },
     "execution_count": 30,
     "metadata": {},
     "output_type": "execute_result"
    }
   ],
   "source": [
    "df.iloc[:,[2]]"
   ]
  },
  {
   "cell_type": "markdown",
   "metadata": {},
   "source": [
    "##### > Selecting columns by index"
   ]
  },
  {
   "cell_type": "code",
   "execution_count": 31,
   "metadata": {},
   "outputs": [
    {
     "data": {
      "text/html": [
       "<div>\n",
       "<style scoped>\n",
       "    .dataframe tbody tr th:only-of-type {\n",
       "        vertical-align: middle;\n",
       "    }\n",
       "\n",
       "    .dataframe tbody tr th {\n",
       "        vertical-align: top;\n",
       "    }\n",
       "\n",
       "    .dataframe thead th {\n",
       "        text-align: right;\n",
       "    }\n",
       "</style>\n",
       "<table border=\"1\" class=\"dataframe\">\n",
       "  <thead>\n",
       "    <tr style=\"text-align: right;\">\n",
       "      <th></th>\n",
       "      <th>A</th>\n",
       "      <th>C</th>\n",
       "      <th>E</th>\n",
       "    </tr>\n",
       "  </thead>\n",
       "  <tbody>\n",
       "    <tr>\n",
       "      <th>2019-06-20</th>\n",
       "      <td>-0.652861</td>\n",
       "      <td>-0.210493</td>\n",
       "      <td>1.563457</td>\n",
       "    </tr>\n",
       "    <tr>\n",
       "      <th>2019-06-21</th>\n",
       "      <td>-0.042220</td>\n",
       "      <td>-0.911397</td>\n",
       "      <td>-0.092591</td>\n",
       "    </tr>\n",
       "    <tr>\n",
       "      <th>2019-06-22</th>\n",
       "      <td>1.785864</td>\n",
       "      <td>0.683948</td>\n",
       "      <td>0.216790</td>\n",
       "    </tr>\n",
       "    <tr>\n",
       "      <th>2019-06-23</th>\n",
       "      <td>0.760946</td>\n",
       "      <td>2.001259</td>\n",
       "      <td>1.177833</td>\n",
       "    </tr>\n",
       "    <tr>\n",
       "      <th>2019-06-24</th>\n",
       "      <td>0.101409</td>\n",
       "      <td>-1.304630</td>\n",
       "      <td>0.199720</td>\n",
       "    </tr>\n",
       "    <tr>\n",
       "      <th>2019-06-25</th>\n",
       "      <td>-0.551135</td>\n",
       "      <td>0.072867</td>\n",
       "      <td>-0.154336</td>\n",
       "    </tr>\n",
       "    <tr>\n",
       "      <th>2019-06-26</th>\n",
       "      <td>-0.582221</td>\n",
       "      <td>-0.024177</td>\n",
       "      <td>0.603986</td>\n",
       "    </tr>\n",
       "    <tr>\n",
       "      <th>2019-06-27</th>\n",
       "      <td>0.544433</td>\n",
       "      <td>-1.499154</td>\n",
       "      <td>0.273486</td>\n",
       "    </tr>\n",
       "    <tr>\n",
       "      <th>2019-06-28</th>\n",
       "      <td>-0.016795</td>\n",
       "      <td>0.363828</td>\n",
       "      <td>1.219931</td>\n",
       "    </tr>\n",
       "    <tr>\n",
       "      <th>2019-06-29</th>\n",
       "      <td>1.047124</td>\n",
       "      <td>0.691259</td>\n",
       "      <td>-0.141932</td>\n",
       "    </tr>\n",
       "  </tbody>\n",
       "</table>\n",
       "</div>"
      ],
      "text/plain": [
       "                   A         C         E\n",
       "2019-06-20 -0.652861 -0.210493  1.563457\n",
       "2019-06-21 -0.042220 -0.911397 -0.092591\n",
       "2019-06-22  1.785864  0.683948  0.216790\n",
       "2019-06-23  0.760946  2.001259  1.177833\n",
       "2019-06-24  0.101409 -1.304630  0.199720\n",
       "2019-06-25 -0.551135  0.072867 -0.154336\n",
       "2019-06-26 -0.582221 -0.024177  0.603986\n",
       "2019-06-27  0.544433 -1.499154  0.273486\n",
       "2019-06-28 -0.016795  0.363828  1.219931\n",
       "2019-06-29  1.047124  0.691259 -0.141932"
      ]
     },
     "execution_count": 31,
     "metadata": {},
     "output_type": "execute_result"
    }
   ],
   "source": [
    "df.iloc[:, [0, 2, 4]]"
   ]
  },
  {
   "cell_type": "markdown",
   "metadata": {},
   "source": [
    "##### > Selecting rows by index"
   ]
  },
  {
   "cell_type": "code",
   "execution_count": 32,
   "metadata": {},
   "outputs": [
    {
     "data": {
      "text/html": [
       "<div>\n",
       "<style scoped>\n",
       "    .dataframe tbody tr th:only-of-type {\n",
       "        vertical-align: middle;\n",
       "    }\n",
       "\n",
       "    .dataframe tbody tr th {\n",
       "        vertical-align: top;\n",
       "    }\n",
       "\n",
       "    .dataframe thead th {\n",
       "        text-align: right;\n",
       "    }\n",
       "</style>\n",
       "<table border=\"1\" class=\"dataframe\">\n",
       "  <thead>\n",
       "    <tr style=\"text-align: right;\">\n",
       "      <th></th>\n",
       "      <th>A</th>\n",
       "      <th>B</th>\n",
       "      <th>C</th>\n",
       "      <th>D</th>\n",
       "      <th>E</th>\n",
       "    </tr>\n",
       "  </thead>\n",
       "  <tbody>\n",
       "    <tr>\n",
       "      <th>2019-06-20</th>\n",
       "      <td>-0.652861</td>\n",
       "      <td>-1.037147</td>\n",
       "      <td>-0.210493</td>\n",
       "      <td>1.202889</td>\n",
       "      <td>1.563457</td>\n",
       "    </tr>\n",
       "    <tr>\n",
       "      <th>2019-06-21</th>\n",
       "      <td>-0.042220</td>\n",
       "      <td>0.352408</td>\n",
       "      <td>-0.911397</td>\n",
       "      <td>0.363411</td>\n",
       "      <td>-0.092591</td>\n",
       "    </tr>\n",
       "    <tr>\n",
       "      <th>2019-06-22</th>\n",
       "      <td>1.785864</td>\n",
       "      <td>-0.778382</td>\n",
       "      <td>0.683948</td>\n",
       "      <td>-0.428721</td>\n",
       "      <td>0.216790</td>\n",
       "    </tr>\n",
       "  </tbody>\n",
       "</table>\n",
       "</div>"
      ],
      "text/plain": [
       "                   A         B         C         D         E\n",
       "2019-06-20 -0.652861 -1.037147 -0.210493  1.202889  1.563457\n",
       "2019-06-21 -0.042220  0.352408 -0.911397  0.363411 -0.092591\n",
       "2019-06-22  1.785864 -0.778382  0.683948 -0.428721  0.216790"
      ]
     },
     "execution_count": 32,
     "metadata": {},
     "output_type": "execute_result"
    }
   ],
   "source": [
    "df.iloc[0:3, :]"
   ]
  },
  {
   "cell_type": "markdown",
   "metadata": {},
   "source": [
    "##### > Selecting rows and columns by index (slicing)"
   ]
  },
  {
   "cell_type": "code",
   "execution_count": 33,
   "metadata": {},
   "outputs": [
    {
     "data": {
      "text/html": [
       "<div>\n",
       "<style scoped>\n",
       "    .dataframe tbody tr th:only-of-type {\n",
       "        vertical-align: middle;\n",
       "    }\n",
       "\n",
       "    .dataframe tbody tr th {\n",
       "        vertical-align: top;\n",
       "    }\n",
       "\n",
       "    .dataframe thead th {\n",
       "        text-align: right;\n",
       "    }\n",
       "</style>\n",
       "<table border=\"1\" class=\"dataframe\">\n",
       "  <thead>\n",
       "    <tr style=\"text-align: right;\">\n",
       "      <th></th>\n",
       "      <th>C</th>\n",
       "      <th>D</th>\n",
       "    </tr>\n",
       "  </thead>\n",
       "  <tbody>\n",
       "    <tr>\n",
       "      <th>2019-06-20</th>\n",
       "      <td>-0.210493</td>\n",
       "      <td>1.202889</td>\n",
       "    </tr>\n",
       "    <tr>\n",
       "      <th>2019-06-21</th>\n",
       "      <td>-0.911397</td>\n",
       "      <td>0.363411</td>\n",
       "    </tr>\n",
       "    <tr>\n",
       "      <th>2019-06-22</th>\n",
       "      <td>0.683948</td>\n",
       "      <td>-0.428721</td>\n",
       "    </tr>\n",
       "  </tbody>\n",
       "</table>\n",
       "</div>"
      ],
      "text/plain": [
       "                   C         D\n",
       "2019-06-20 -0.210493  1.202889\n",
       "2019-06-21 -0.911397  0.363411\n",
       "2019-06-22  0.683948 -0.428721"
      ]
     },
     "execution_count": 33,
     "metadata": {},
     "output_type": "execute_result"
    }
   ],
   "source": [
    "df.iloc[0:3, 2:4]"
   ]
  },
  {
   "cell_type": "code",
   "execution_count": 34,
   "metadata": {},
   "outputs": [
    {
     "name": "stdout",
     "output_type": "stream",
     "text": [
      "[ 0  1 -2 -1]\n"
     ]
    }
   ],
   "source": [
    "range_A = np.r_[0:2, -2:0] # numpy.r_ Translates slice objects to concatenation along the first axis.\n",
    "print(range_A)"
   ]
  },
  {
   "cell_type": "code",
   "execution_count": 35,
   "metadata": {},
   "outputs": [
    {
     "data": {
      "text/html": [
       "<div>\n",
       "<style scoped>\n",
       "    .dataframe tbody tr th:only-of-type {\n",
       "        vertical-align: middle;\n",
       "    }\n",
       "\n",
       "    .dataframe tbody tr th {\n",
       "        vertical-align: top;\n",
       "    }\n",
       "\n",
       "    .dataframe thead th {\n",
       "        text-align: right;\n",
       "    }\n",
       "</style>\n",
       "<table border=\"1\" class=\"dataframe\">\n",
       "  <thead>\n",
       "    <tr style=\"text-align: right;\">\n",
       "      <th></th>\n",
       "      <th>A</th>\n",
       "      <th>B</th>\n",
       "      <th>C</th>\n",
       "      <th>D</th>\n",
       "      <th>E</th>\n",
       "    </tr>\n",
       "  </thead>\n",
       "  <tbody>\n",
       "    <tr>\n",
       "      <th>2019-06-20</th>\n",
       "      <td>-0.652861</td>\n",
       "      <td>-1.037147</td>\n",
       "      <td>-0.210493</td>\n",
       "      <td>1.202889</td>\n",
       "      <td>1.563457</td>\n",
       "    </tr>\n",
       "    <tr>\n",
       "      <th>2019-06-21</th>\n",
       "      <td>-0.042220</td>\n",
       "      <td>0.352408</td>\n",
       "      <td>-0.911397</td>\n",
       "      <td>0.363411</td>\n",
       "      <td>-0.092591</td>\n",
       "    </tr>\n",
       "    <tr>\n",
       "      <th>2019-06-28</th>\n",
       "      <td>-0.016795</td>\n",
       "      <td>1.158821</td>\n",
       "      <td>0.363828</td>\n",
       "      <td>-0.342749</td>\n",
       "      <td>1.219931</td>\n",
       "    </tr>\n",
       "    <tr>\n",
       "      <th>2019-06-29</th>\n",
       "      <td>1.047124</td>\n",
       "      <td>0.394251</td>\n",
       "      <td>0.691259</td>\n",
       "      <td>0.075901</td>\n",
       "      <td>-0.141932</td>\n",
       "    </tr>\n",
       "  </tbody>\n",
       "</table>\n",
       "</div>"
      ],
      "text/plain": [
       "                   A         B         C         D         E\n",
       "2019-06-20 -0.652861 -1.037147 -0.210493  1.202889  1.563457\n",
       "2019-06-21 -0.042220  0.352408 -0.911397  0.363411 -0.092591\n",
       "2019-06-28 -0.016795  1.158821  0.363828 -0.342749  1.219931\n",
       "2019-06-29  1.047124  0.394251  0.691259  0.075901 -0.141932"
      ]
     },
     "execution_count": 35,
     "metadata": {},
     "output_type": "execute_result"
    }
   ],
   "source": [
    "df.iloc[range_A]"
   ]
  },
  {
   "cell_type": "markdown",
   "metadata": {},
   "source": [
    "##### > Selecting rows and columns by index"
   ]
  },
  {
   "cell_type": "code",
   "execution_count": 36,
   "metadata": {},
   "outputs": [
    {
     "data": {
      "text/html": [
       "<div>\n",
       "<style scoped>\n",
       "    .dataframe tbody tr th:only-of-type {\n",
       "        vertical-align: middle;\n",
       "    }\n",
       "\n",
       "    .dataframe tbody tr th {\n",
       "        vertical-align: top;\n",
       "    }\n",
       "\n",
       "    .dataframe thead th {\n",
       "        text-align: right;\n",
       "    }\n",
       "</style>\n",
       "<table border=\"1\" class=\"dataframe\">\n",
       "  <thead>\n",
       "    <tr style=\"text-align: right;\">\n",
       "      <th></th>\n",
       "      <th>C</th>\n",
       "      <th>E</th>\n",
       "    </tr>\n",
       "  </thead>\n",
       "  <tbody>\n",
       "    <tr>\n",
       "      <th>2019-06-20</th>\n",
       "      <td>-0.210493</td>\n",
       "      <td>1.563457</td>\n",
       "    </tr>\n",
       "    <tr>\n",
       "      <th>2019-06-22</th>\n",
       "      <td>0.683948</td>\n",
       "      <td>0.216790</td>\n",
       "    </tr>\n",
       "    <tr>\n",
       "      <th>2019-06-23</th>\n",
       "      <td>2.001259</td>\n",
       "      <td>1.177833</td>\n",
       "    </tr>\n",
       "    <tr>\n",
       "      <th>2019-06-25</th>\n",
       "      <td>0.072867</td>\n",
       "      <td>-0.154336</td>\n",
       "    </tr>\n",
       "    <tr>\n",
       "      <th>2019-06-27</th>\n",
       "      <td>-1.499154</td>\n",
       "      <td>0.273486</td>\n",
       "    </tr>\n",
       "  </tbody>\n",
       "</table>\n",
       "</div>"
      ],
      "text/plain": [
       "                   C         E\n",
       "2019-06-20 -0.210493  1.563457\n",
       "2019-06-22  0.683948  0.216790\n",
       "2019-06-23  2.001259  1.177833\n",
       "2019-06-25  0.072867 -0.154336\n",
       "2019-06-27 -1.499154  0.273486"
      ]
     },
     "execution_count": 36,
     "metadata": {},
     "output_type": "execute_result"
    }
   ],
   "source": [
    "df.iloc[[0, 2, 3, 5, 7], [2, 4]]"
   ]
  },
  {
   "cell_type": "code",
   "execution_count": null,
   "metadata": {
    "collapsed": true
   },
   "outputs": [],
   "source": []
  },
  {
   "cell_type": "markdown",
   "metadata": {
    "collapsed": true
   },
   "source": [
    "### 2.3.4 LOC : Purely label-location based indexer for selection by label"
   ]
  },
  {
   "cell_type": "markdown",
   "metadata": {},
   "source": [
    "##### > Selecting a column by label (and getting a Serie)"
   ]
  },
  {
   "cell_type": "code",
   "execution_count": 37,
   "metadata": {},
   "outputs": [
    {
     "data": {
      "text/plain": [
       "2019-06-20   -0.652861\n",
       "2019-06-21   -0.042220\n",
       "2019-06-22    1.785864\n",
       "2019-06-23    0.760946\n",
       "2019-06-24    0.101409\n",
       "2019-06-25   -0.551135\n",
       "2019-06-26   -0.582221\n",
       "2019-06-27    0.544433\n",
       "2019-06-28   -0.016795\n",
       "2019-06-29    1.047124\n",
       "Freq: D, Name: A, dtype: float64"
      ]
     },
     "execution_count": 37,
     "metadata": {},
     "output_type": "execute_result"
    }
   ],
   "source": [
    "df.loc[:, 'A']"
   ]
  },
  {
   "cell_type": "markdown",
   "metadata": {},
   "source": [
    "##### > Selecting a column by label (and getting a DataFrame)"
   ]
  },
  {
   "cell_type": "code",
   "execution_count": 38,
   "metadata": {},
   "outputs": [
    {
     "data": {
      "text/html": [
       "<div>\n",
       "<style scoped>\n",
       "    .dataframe tbody tr th:only-of-type {\n",
       "        vertical-align: middle;\n",
       "    }\n",
       "\n",
       "    .dataframe tbody tr th {\n",
       "        vertical-align: top;\n",
       "    }\n",
       "\n",
       "    .dataframe thead th {\n",
       "        text-align: right;\n",
       "    }\n",
       "</style>\n",
       "<table border=\"1\" class=\"dataframe\">\n",
       "  <thead>\n",
       "    <tr style=\"text-align: right;\">\n",
       "      <th></th>\n",
       "      <th>A</th>\n",
       "    </tr>\n",
       "  </thead>\n",
       "  <tbody>\n",
       "    <tr>\n",
       "      <th>2019-06-20</th>\n",
       "      <td>-0.652861</td>\n",
       "    </tr>\n",
       "    <tr>\n",
       "      <th>2019-06-21</th>\n",
       "      <td>-0.042220</td>\n",
       "    </tr>\n",
       "    <tr>\n",
       "      <th>2019-06-22</th>\n",
       "      <td>1.785864</td>\n",
       "    </tr>\n",
       "    <tr>\n",
       "      <th>2019-06-23</th>\n",
       "      <td>0.760946</td>\n",
       "    </tr>\n",
       "    <tr>\n",
       "      <th>2019-06-24</th>\n",
       "      <td>0.101409</td>\n",
       "    </tr>\n",
       "    <tr>\n",
       "      <th>2019-06-25</th>\n",
       "      <td>-0.551135</td>\n",
       "    </tr>\n",
       "    <tr>\n",
       "      <th>2019-06-26</th>\n",
       "      <td>-0.582221</td>\n",
       "    </tr>\n",
       "    <tr>\n",
       "      <th>2019-06-27</th>\n",
       "      <td>0.544433</td>\n",
       "    </tr>\n",
       "    <tr>\n",
       "      <th>2019-06-28</th>\n",
       "      <td>-0.016795</td>\n",
       "    </tr>\n",
       "    <tr>\n",
       "      <th>2019-06-29</th>\n",
       "      <td>1.047124</td>\n",
       "    </tr>\n",
       "  </tbody>\n",
       "</table>\n",
       "</div>"
      ],
      "text/plain": [
       "                   A\n",
       "2019-06-20 -0.652861\n",
       "2019-06-21 -0.042220\n",
       "2019-06-22  1.785864\n",
       "2019-06-23  0.760946\n",
       "2019-06-24  0.101409\n",
       "2019-06-25 -0.551135\n",
       "2019-06-26 -0.582221\n",
       "2019-06-27  0.544433\n",
       "2019-06-28 -0.016795\n",
       "2019-06-29  1.047124"
      ]
     },
     "execution_count": 38,
     "metadata": {},
     "output_type": "execute_result"
    }
   ],
   "source": [
    "df.loc[:, ['A']]"
   ]
  },
  {
   "cell_type": "markdown",
   "metadata": {},
   "source": [
    "##### > Selecting columns by label"
   ]
  },
  {
   "cell_type": "code",
   "execution_count": 39,
   "metadata": {},
   "outputs": [
    {
     "data": {
      "text/html": [
       "<div>\n",
       "<style scoped>\n",
       "    .dataframe tbody tr th:only-of-type {\n",
       "        vertical-align: middle;\n",
       "    }\n",
       "\n",
       "    .dataframe tbody tr th {\n",
       "        vertical-align: top;\n",
       "    }\n",
       "\n",
       "    .dataframe thead th {\n",
       "        text-align: right;\n",
       "    }\n",
       "</style>\n",
       "<table border=\"1\" class=\"dataframe\">\n",
       "  <thead>\n",
       "    <tr style=\"text-align: right;\">\n",
       "      <th></th>\n",
       "      <th>A</th>\n",
       "      <th>B</th>\n",
       "    </tr>\n",
       "  </thead>\n",
       "  <tbody>\n",
       "    <tr>\n",
       "      <th>2019-06-20</th>\n",
       "      <td>-0.652861</td>\n",
       "      <td>-1.037147</td>\n",
       "    </tr>\n",
       "    <tr>\n",
       "      <th>2019-06-21</th>\n",
       "      <td>-0.042220</td>\n",
       "      <td>0.352408</td>\n",
       "    </tr>\n",
       "    <tr>\n",
       "      <th>2019-06-22</th>\n",
       "      <td>1.785864</td>\n",
       "      <td>-0.778382</td>\n",
       "    </tr>\n",
       "    <tr>\n",
       "      <th>2019-06-23</th>\n",
       "      <td>0.760946</td>\n",
       "      <td>-1.199143</td>\n",
       "    </tr>\n",
       "    <tr>\n",
       "      <th>2019-06-24</th>\n",
       "      <td>0.101409</td>\n",
       "      <td>-0.001838</td>\n",
       "    </tr>\n",
       "    <tr>\n",
       "      <th>2019-06-25</th>\n",
       "      <td>-0.551135</td>\n",
       "      <td>0.280843</td>\n",
       "    </tr>\n",
       "    <tr>\n",
       "      <th>2019-06-26</th>\n",
       "      <td>-0.582221</td>\n",
       "      <td>-0.310365</td>\n",
       "    </tr>\n",
       "    <tr>\n",
       "      <th>2019-06-27</th>\n",
       "      <td>0.544433</td>\n",
       "      <td>0.180265</td>\n",
       "    </tr>\n",
       "    <tr>\n",
       "      <th>2019-06-28</th>\n",
       "      <td>-0.016795</td>\n",
       "      <td>1.158821</td>\n",
       "    </tr>\n",
       "    <tr>\n",
       "      <th>2019-06-29</th>\n",
       "      <td>1.047124</td>\n",
       "      <td>0.394251</td>\n",
       "    </tr>\n",
       "  </tbody>\n",
       "</table>\n",
       "</div>"
      ],
      "text/plain": [
       "                   A         B\n",
       "2019-06-20 -0.652861 -1.037147\n",
       "2019-06-21 -0.042220  0.352408\n",
       "2019-06-22  1.785864 -0.778382\n",
       "2019-06-23  0.760946 -1.199143\n",
       "2019-06-24  0.101409 -0.001838\n",
       "2019-06-25 -0.551135  0.280843\n",
       "2019-06-26 -0.582221 -0.310365\n",
       "2019-06-27  0.544433  0.180265\n",
       "2019-06-28 -0.016795  1.158821\n",
       "2019-06-29  1.047124  0.394251"
      ]
     },
     "execution_count": 39,
     "metadata": {},
     "output_type": "execute_result"
    }
   ],
   "source": [
    "df.loc[:, ['A', 'B']]"
   ]
  },
  {
   "cell_type": "markdown",
   "metadata": {
    "collapsed": true
   },
   "source": [
    "##### > Selecting a row by label (and getting a Serie)"
   ]
  },
  {
   "cell_type": "code",
   "execution_count": 42,
   "metadata": {},
   "outputs": [
    {
     "data": {
      "text/plain": [
       "A   -0.042220\n",
       "B    0.352408\n",
       "C   -0.911397\n",
       "D    0.363411\n",
       "E   -0.092591\n",
       "Name: 2019-06-21 00:00:00, dtype: float64"
      ]
     },
     "execution_count": 42,
     "metadata": {},
     "output_type": "execute_result"
    }
   ],
   "source": [
    "df.loc['20190621'] # Remember to modify to current date"
   ]
  },
  {
   "cell_type": "code",
   "execution_count": 43,
   "metadata": {},
   "outputs": [
    {
     "data": {
      "text/plain": [
       "A   -0.042220\n",
       "B    0.352408\n",
       "C   -0.911397\n",
       "D    0.363411\n",
       "E   -0.092591\n",
       "Name: 2019-06-21 00:00:00, dtype: float64"
      ]
     },
     "execution_count": 43,
     "metadata": {},
     "output_type": "execute_result"
    }
   ],
   "source": [
    "df.loc['2019-06-21']"
   ]
  },
  {
   "cell_type": "code",
   "execution_count": 44,
   "metadata": {},
   "outputs": [
    {
     "data": {
      "text/plain": [
       "A   -0.042220\n",
       "B    0.352408\n",
       "C   -0.911397\n",
       "D    0.363411\n",
       "E   -0.092591\n",
       "Name: 2019-06-21 00:00:00, dtype: float64"
      ]
     },
     "execution_count": 44,
     "metadata": {},
     "output_type": "execute_result"
    }
   ],
   "source": [
    "df.loc[pd.to_datetime('2019-06-21')]"
   ]
  },
  {
   "cell_type": "markdown",
   "metadata": {},
   "source": [
    "##### > Selecting a row by label (and getting a DataFrame)"
   ]
  },
  {
   "cell_type": "code",
   "execution_count": 45,
   "metadata": {},
   "outputs": [
    {
     "data": {
      "text/html": [
       "<div>\n",
       "<style scoped>\n",
       "    .dataframe tbody tr th:only-of-type {\n",
       "        vertical-align: middle;\n",
       "    }\n",
       "\n",
       "    .dataframe tbody tr th {\n",
       "        vertical-align: top;\n",
       "    }\n",
       "\n",
       "    .dataframe thead th {\n",
       "        text-align: right;\n",
       "    }\n",
       "</style>\n",
       "<table border=\"1\" class=\"dataframe\">\n",
       "  <thead>\n",
       "    <tr style=\"text-align: right;\">\n",
       "      <th></th>\n",
       "      <th>A</th>\n",
       "      <th>B</th>\n",
       "      <th>C</th>\n",
       "      <th>D</th>\n",
       "      <th>E</th>\n",
       "    </tr>\n",
       "  </thead>\n",
       "  <tbody>\n",
       "    <tr>\n",
       "      <th>2019-06-21</th>\n",
       "      <td>-0.04222</td>\n",
       "      <td>0.352408</td>\n",
       "      <td>-0.911397</td>\n",
       "      <td>0.363411</td>\n",
       "      <td>-0.092591</td>\n",
       "    </tr>\n",
       "  </tbody>\n",
       "</table>\n",
       "</div>"
      ],
      "text/plain": [
       "                  A         B         C         D         E\n",
       "2019-06-21 -0.04222  0.352408 -0.911397  0.363411 -0.092591"
      ]
     },
     "execution_count": 45,
     "metadata": {},
     "output_type": "execute_result"
    }
   ],
   "source": [
    "df.loc[[pd.to_datetime('2019-06-21')]]"
   ]
  },
  {
   "cell_type": "markdown",
   "metadata": {
    "collapsed": true
   },
   "source": [
    "##### > Selecting rows by label"
   ]
  },
  {
   "cell_type": "code",
   "execution_count": 47,
   "metadata": {},
   "outputs": [
    {
     "data": {
      "text/html": [
       "<div>\n",
       "<style scoped>\n",
       "    .dataframe tbody tr th:only-of-type {\n",
       "        vertical-align: middle;\n",
       "    }\n",
       "\n",
       "    .dataframe tbody tr th {\n",
       "        vertical-align: top;\n",
       "    }\n",
       "\n",
       "    .dataframe thead th {\n",
       "        text-align: right;\n",
       "    }\n",
       "</style>\n",
       "<table border=\"1\" class=\"dataframe\">\n",
       "  <thead>\n",
       "    <tr style=\"text-align: right;\">\n",
       "      <th></th>\n",
       "      <th>A</th>\n",
       "      <th>B</th>\n",
       "      <th>C</th>\n",
       "      <th>D</th>\n",
       "      <th>E</th>\n",
       "    </tr>\n",
       "  </thead>\n",
       "  <tbody>\n",
       "    <tr>\n",
       "      <th>2019-06-21</th>\n",
       "      <td>-0.04222</td>\n",
       "      <td>0.352408</td>\n",
       "      <td>-0.911397</td>\n",
       "      <td>0.363411</td>\n",
       "      <td>-0.092591</td>\n",
       "    </tr>\n",
       "    <tr>\n",
       "      <th>2019-06-21</th>\n",
       "      <td>-0.04222</td>\n",
       "      <td>0.352408</td>\n",
       "      <td>-0.911397</td>\n",
       "      <td>0.363411</td>\n",
       "      <td>-0.092591</td>\n",
       "    </tr>\n",
       "  </tbody>\n",
       "</table>\n",
       "</div>"
      ],
      "text/plain": [
       "                  A         B         C         D         E\n",
       "2019-06-21 -0.04222  0.352408 -0.911397  0.363411 -0.092591\n",
       "2019-06-21 -0.04222  0.352408 -0.911397  0.363411 -0.092591"
      ]
     },
     "execution_count": 47,
     "metadata": {},
     "output_type": "execute_result"
    }
   ],
   "source": [
    "df.loc[[pd.to_datetime('2019-06-21'), pd.to_datetime('2019-06-21')]]"
   ]
  },
  {
   "cell_type": "markdown",
   "metadata": {},
   "source": [
    "##### > Selecting rows by label (slicing)"
   ]
  },
  {
   "cell_type": "code",
   "execution_count": 48,
   "metadata": {},
   "outputs": [
    {
     "data": {
      "text/html": [
       "<div>\n",
       "<style scoped>\n",
       "    .dataframe tbody tr th:only-of-type {\n",
       "        vertical-align: middle;\n",
       "    }\n",
       "\n",
       "    .dataframe tbody tr th {\n",
       "        vertical-align: top;\n",
       "    }\n",
       "\n",
       "    .dataframe thead th {\n",
       "        text-align: right;\n",
       "    }\n",
       "</style>\n",
       "<table border=\"1\" class=\"dataframe\">\n",
       "  <thead>\n",
       "    <tr style=\"text-align: right;\">\n",
       "      <th></th>\n",
       "      <th>A</th>\n",
       "      <th>B</th>\n",
       "      <th>C</th>\n",
       "      <th>D</th>\n",
       "      <th>E</th>\n",
       "    </tr>\n",
       "  </thead>\n",
       "  <tbody>\n",
       "    <tr>\n",
       "      <th>2019-06-20</th>\n",
       "      <td>-0.652861</td>\n",
       "      <td>-1.037147</td>\n",
       "      <td>-0.210493</td>\n",
       "      <td>1.202889</td>\n",
       "      <td>1.563457</td>\n",
       "    </tr>\n",
       "    <tr>\n",
       "      <th>2019-06-21</th>\n",
       "      <td>-0.042220</td>\n",
       "      <td>0.352408</td>\n",
       "      <td>-0.911397</td>\n",
       "      <td>0.363411</td>\n",
       "      <td>-0.092591</td>\n",
       "    </tr>\n",
       "    <tr>\n",
       "      <th>2019-06-22</th>\n",
       "      <td>1.785864</td>\n",
       "      <td>-0.778382</td>\n",
       "      <td>0.683948</td>\n",
       "      <td>-0.428721</td>\n",
       "      <td>0.216790</td>\n",
       "    </tr>\n",
       "    <tr>\n",
       "      <th>2019-06-23</th>\n",
       "      <td>0.760946</td>\n",
       "      <td>-1.199143</td>\n",
       "      <td>2.001259</td>\n",
       "      <td>-0.126637</td>\n",
       "      <td>1.177833</td>\n",
       "    </tr>\n",
       "    <tr>\n",
       "      <th>2019-06-24</th>\n",
       "      <td>0.101409</td>\n",
       "      <td>-0.001838</td>\n",
       "      <td>-1.304630</td>\n",
       "      <td>-1.543924</td>\n",
       "      <td>0.199720</td>\n",
       "    </tr>\n",
       "    <tr>\n",
       "      <th>2019-06-25</th>\n",
       "      <td>-0.551135</td>\n",
       "      <td>0.280843</td>\n",
       "      <td>0.072867</td>\n",
       "      <td>-0.291706</td>\n",
       "      <td>-0.154336</td>\n",
       "    </tr>\n",
       "  </tbody>\n",
       "</table>\n",
       "</div>"
      ],
      "text/plain": [
       "                   A         B         C         D         E\n",
       "2019-06-20 -0.652861 -1.037147 -0.210493  1.202889  1.563457\n",
       "2019-06-21 -0.042220  0.352408 -0.911397  0.363411 -0.092591\n",
       "2019-06-22  1.785864 -0.778382  0.683948 -0.428721  0.216790\n",
       "2019-06-23  0.760946 -1.199143  2.001259 -0.126637  1.177833\n",
       "2019-06-24  0.101409 -0.001838 -1.304630 -1.543924  0.199720\n",
       "2019-06-25 -0.551135  0.280843  0.072867 -0.291706 -0.154336"
      ]
     },
     "execution_count": 48,
     "metadata": {},
     "output_type": "execute_result"
    }
   ],
   "source": [
    "df.loc[pd.to_datetime('2019-06-20'): pd.to_datetime('2019-06-25')]"
   ]
  },
  {
   "cell_type": "markdown",
   "metadata": {},
   "source": [
    "#### > Selecting rows and columns by label"
   ]
  },
  {
   "cell_type": "code",
   "execution_count": 49,
   "metadata": {},
   "outputs": [
    {
     "data": {
      "text/html": [
       "<div>\n",
       "<style scoped>\n",
       "    .dataframe tbody tr th:only-of-type {\n",
       "        vertical-align: middle;\n",
       "    }\n",
       "\n",
       "    .dataframe tbody tr th {\n",
       "        vertical-align: top;\n",
       "    }\n",
       "\n",
       "    .dataframe thead th {\n",
       "        text-align: right;\n",
       "    }\n",
       "</style>\n",
       "<table border=\"1\" class=\"dataframe\">\n",
       "  <thead>\n",
       "    <tr style=\"text-align: right;\">\n",
       "      <th></th>\n",
       "      <th>A</th>\n",
       "      <th>C</th>\n",
       "    </tr>\n",
       "  </thead>\n",
       "  <tbody>\n",
       "    <tr>\n",
       "      <th>2019-06-22</th>\n",
       "      <td>1.785864</td>\n",
       "      <td>0.683948</td>\n",
       "    </tr>\n",
       "    <tr>\n",
       "      <th>2019-06-28</th>\n",
       "      <td>-0.016795</td>\n",
       "      <td>0.363828</td>\n",
       "    </tr>\n",
       "  </tbody>\n",
       "</table>\n",
       "</div>"
      ],
      "text/plain": [
       "                   A         C\n",
       "2019-06-22  1.785864  0.683948\n",
       "2019-06-28 -0.016795  0.363828"
      ]
     },
     "execution_count": 49,
     "metadata": {},
     "output_type": "execute_result"
    }
   ],
   "source": [
    "df.loc[[pd.to_datetime('2019-06-22'), pd.to_datetime('2019-06-28')], ['A','C']]"
   ]
  },
  {
   "cell_type": "markdown",
   "metadata": {},
   "source": [
    "##### > Selecting rows and columns by label (slicing)"
   ]
  },
  {
   "cell_type": "code",
   "execution_count": 50,
   "metadata": {
    "scrolled": false
   },
   "outputs": [
    {
     "data": {
      "text/html": [
       "<div>\n",
       "<style scoped>\n",
       "    .dataframe tbody tr th:only-of-type {\n",
       "        vertical-align: middle;\n",
       "    }\n",
       "\n",
       "    .dataframe tbody tr th {\n",
       "        vertical-align: top;\n",
       "    }\n",
       "\n",
       "    .dataframe thead th {\n",
       "        text-align: right;\n",
       "    }\n",
       "</style>\n",
       "<table border=\"1\" class=\"dataframe\">\n",
       "  <thead>\n",
       "    <tr style=\"text-align: right;\">\n",
       "      <th></th>\n",
       "      <th>A</th>\n",
       "      <th>B</th>\n",
       "      <th>C</th>\n",
       "    </tr>\n",
       "  </thead>\n",
       "  <tbody>\n",
       "    <tr>\n",
       "      <th>2019-06-20</th>\n",
       "      <td>-0.652861</td>\n",
       "      <td>-1.037147</td>\n",
       "      <td>-0.210493</td>\n",
       "    </tr>\n",
       "    <tr>\n",
       "      <th>2019-06-21</th>\n",
       "      <td>-0.042220</td>\n",
       "      <td>0.352408</td>\n",
       "      <td>-0.911397</td>\n",
       "    </tr>\n",
       "    <tr>\n",
       "      <th>2019-06-22</th>\n",
       "      <td>1.785864</td>\n",
       "      <td>-0.778382</td>\n",
       "      <td>0.683948</td>\n",
       "    </tr>\n",
       "    <tr>\n",
       "      <th>2019-06-23</th>\n",
       "      <td>0.760946</td>\n",
       "      <td>-1.199143</td>\n",
       "      <td>2.001259</td>\n",
       "    </tr>\n",
       "    <tr>\n",
       "      <th>2019-06-24</th>\n",
       "      <td>0.101409</td>\n",
       "      <td>-0.001838</td>\n",
       "      <td>-1.304630</td>\n",
       "    </tr>\n",
       "    <tr>\n",
       "      <th>2019-06-25</th>\n",
       "      <td>-0.551135</td>\n",
       "      <td>0.280843</td>\n",
       "      <td>0.072867</td>\n",
       "    </tr>\n",
       "    <tr>\n",
       "      <th>2019-06-26</th>\n",
       "      <td>-0.582221</td>\n",
       "      <td>-0.310365</td>\n",
       "      <td>-0.024177</td>\n",
       "    </tr>\n",
       "    <tr>\n",
       "      <th>2019-06-27</th>\n",
       "      <td>0.544433</td>\n",
       "      <td>0.180265</td>\n",
       "      <td>-1.499154</td>\n",
       "    </tr>\n",
       "  </tbody>\n",
       "</table>\n",
       "</div>"
      ],
      "text/plain": [
       "                   A         B         C\n",
       "2019-06-20 -0.652861 -1.037147 -0.210493\n",
       "2019-06-21 -0.042220  0.352408 -0.911397\n",
       "2019-06-22  1.785864 -0.778382  0.683948\n",
       "2019-06-23  0.760946 -1.199143  2.001259\n",
       "2019-06-24  0.101409 -0.001838 -1.304630\n",
       "2019-06-25 -0.551135  0.280843  0.072867\n",
       "2019-06-26 -0.582221 -0.310365 -0.024177\n",
       "2019-06-27  0.544433  0.180265 -1.499154"
      ]
     },
     "execution_count": 50,
     "metadata": {},
     "output_type": "execute_result"
    }
   ],
   "source": [
    "df.loc[pd.to_datetime('2019-06-20'): pd.to_datetime('2019-06-27'), 'A':'C']"
   ]
  },
  {
   "cell_type": "code",
   "execution_count": null,
   "metadata": {
    "collapsed": true
   },
   "outputs": [],
   "source": []
  },
  {
   "cell_type": "markdown",
   "metadata": {
    "collapsed": true
   },
   "source": [
    "### 2.3.5 IAT : Fast integer location scalar accessor\n",
    "AT : Access a single value using a label"
   ]
  },
  {
   "cell_type": "markdown",
   "metadata": {},
   "source": [
    "##### > Get value at specified row/column pair (index)"
   ]
  },
  {
   "cell_type": "code",
   "execution_count": 51,
   "metadata": {},
   "outputs": [
    {
     "data": {
      "text/plain": [
       "0.3524082112448326"
      ]
     },
     "execution_count": 51,
     "metadata": {},
     "output_type": "execute_result"
    }
   ],
   "source": [
    "df.iat[1,1]"
   ]
  },
  {
   "cell_type": "markdown",
   "metadata": {},
   "source": [
    "##### > Get value at specified row/column pair (label)"
   ]
  },
  {
   "cell_type": "code",
   "execution_count": 52,
   "metadata": {},
   "outputs": [
    {
     "data": {
      "text/plain": [
       "-1.037147275983069"
      ]
     },
     "execution_count": 52,
     "metadata": {},
     "output_type": "execute_result"
    }
   ],
   "source": [
    "df.at[pd.to_datetime('2019-06-20'),'B']"
   ]
  },
  {
   "cell_type": "code",
   "execution_count": null,
   "metadata": {
    "collapsed": true
   },
   "outputs": [],
   "source": []
  },
  {
   "cell_type": "markdown",
   "metadata": {
    "collapsed": true
   },
   "source": [
    "## 2.4 Adding new records to the data frame"
   ]
  },
  {
   "cell_type": "markdown",
   "metadata": {
    "collapsed": true
   },
   "source": [
    "### 2.4.1 Additional columns"
   ]
  },
  {
   "cell_type": "code",
   "execution_count": 53,
   "metadata": {},
   "outputs": [
    {
     "data": {
      "text/html": [
       "<div>\n",
       "<style scoped>\n",
       "    .dataframe tbody tr th:only-of-type {\n",
       "        vertical-align: middle;\n",
       "    }\n",
       "\n",
       "    .dataframe tbody tr th {\n",
       "        vertical-align: top;\n",
       "    }\n",
       "\n",
       "    .dataframe thead th {\n",
       "        text-align: right;\n",
       "    }\n",
       "</style>\n",
       "<table border=\"1\" class=\"dataframe\">\n",
       "  <thead>\n",
       "    <tr style=\"text-align: right;\">\n",
       "      <th></th>\n",
       "      <th>A</th>\n",
       "      <th>B</th>\n",
       "      <th>C</th>\n",
       "      <th>D</th>\n",
       "      <th>E</th>\n",
       "      <th>F</th>\n",
       "    </tr>\n",
       "  </thead>\n",
       "  <tbody>\n",
       "    <tr>\n",
       "      <th>2019-06-20</th>\n",
       "      <td>-0.652861</td>\n",
       "      <td>-1.037147</td>\n",
       "      <td>-0.210493</td>\n",
       "      <td>1.202889</td>\n",
       "      <td>1.563457</td>\n",
       "      <td>new</td>\n",
       "    </tr>\n",
       "    <tr>\n",
       "      <th>2019-06-21</th>\n",
       "      <td>-0.042220</td>\n",
       "      <td>0.352408</td>\n",
       "      <td>-0.911397</td>\n",
       "      <td>0.363411</td>\n",
       "      <td>-0.092591</td>\n",
       "      <td>new</td>\n",
       "    </tr>\n",
       "    <tr>\n",
       "      <th>2019-06-22</th>\n",
       "      <td>1.785864</td>\n",
       "      <td>-0.778382</td>\n",
       "      <td>0.683948</td>\n",
       "      <td>-0.428721</td>\n",
       "      <td>0.216790</td>\n",
       "      <td>new</td>\n",
       "    </tr>\n",
       "    <tr>\n",
       "      <th>2019-06-23</th>\n",
       "      <td>0.760946</td>\n",
       "      <td>-1.199143</td>\n",
       "      <td>2.001259</td>\n",
       "      <td>-0.126637</td>\n",
       "      <td>1.177833</td>\n",
       "      <td>new</td>\n",
       "    </tr>\n",
       "    <tr>\n",
       "      <th>2019-06-24</th>\n",
       "      <td>0.101409</td>\n",
       "      <td>-0.001838</td>\n",
       "      <td>-1.304630</td>\n",
       "      <td>-1.543924</td>\n",
       "      <td>0.199720</td>\n",
       "      <td>new</td>\n",
       "    </tr>\n",
       "    <tr>\n",
       "      <th>2019-06-25</th>\n",
       "      <td>-0.551135</td>\n",
       "      <td>0.280843</td>\n",
       "      <td>0.072867</td>\n",
       "      <td>-0.291706</td>\n",
       "      <td>-0.154336</td>\n",
       "      <td>new</td>\n",
       "    </tr>\n",
       "    <tr>\n",
       "      <th>2019-06-26</th>\n",
       "      <td>-0.582221</td>\n",
       "      <td>-0.310365</td>\n",
       "      <td>-0.024177</td>\n",
       "      <td>0.686229</td>\n",
       "      <td>0.603986</td>\n",
       "      <td>new</td>\n",
       "    </tr>\n",
       "    <tr>\n",
       "      <th>2019-06-27</th>\n",
       "      <td>0.544433</td>\n",
       "      <td>0.180265</td>\n",
       "      <td>-1.499154</td>\n",
       "      <td>-0.425769</td>\n",
       "      <td>0.273486</td>\n",
       "      <td>new</td>\n",
       "    </tr>\n",
       "    <tr>\n",
       "      <th>2019-06-28</th>\n",
       "      <td>-0.016795</td>\n",
       "      <td>1.158821</td>\n",
       "      <td>0.363828</td>\n",
       "      <td>-0.342749</td>\n",
       "      <td>1.219931</td>\n",
       "      <td>new</td>\n",
       "    </tr>\n",
       "    <tr>\n",
       "      <th>2019-06-29</th>\n",
       "      <td>1.047124</td>\n",
       "      <td>0.394251</td>\n",
       "      <td>0.691259</td>\n",
       "      <td>0.075901</td>\n",
       "      <td>-0.141932</td>\n",
       "      <td>new</td>\n",
       "    </tr>\n",
       "  </tbody>\n",
       "</table>\n",
       "</div>"
      ],
      "text/plain": [
       "                   A         B         C         D         E    F\n",
       "2019-06-20 -0.652861 -1.037147 -0.210493  1.202889  1.563457  new\n",
       "2019-06-21 -0.042220  0.352408 -0.911397  0.363411 -0.092591  new\n",
       "2019-06-22  1.785864 -0.778382  0.683948 -0.428721  0.216790  new\n",
       "2019-06-23  0.760946 -1.199143  2.001259 -0.126637  1.177833  new\n",
       "2019-06-24  0.101409 -0.001838 -1.304630 -1.543924  0.199720  new\n",
       "2019-06-25 -0.551135  0.280843  0.072867 -0.291706 -0.154336  new\n",
       "2019-06-26 -0.582221 -0.310365 -0.024177  0.686229  0.603986  new\n",
       "2019-06-27  0.544433  0.180265 -1.499154 -0.425769  0.273486  new\n",
       "2019-06-28 -0.016795  1.158821  0.363828 -0.342749  1.219931  new\n",
       "2019-06-29  1.047124  0.394251  0.691259  0.075901 -0.141932  new"
      ]
     },
     "execution_count": 53,
     "metadata": {},
     "output_type": "execute_result"
    }
   ],
   "source": [
    "df['F'] = 'new'\n",
    "df"
   ]
  },
  {
   "cell_type": "code",
   "execution_count": null,
   "metadata": {
    "collapsed": true
   },
   "outputs": [],
   "source": []
  },
  {
   "cell_type": "markdown",
   "metadata": {
    "collapsed": true
   },
   "source": [
    "### 2.4.2 Setting values"
   ]
  },
  {
   "cell_type": "markdown",
   "metadata": {},
   "source": [
    "##### > Entire column"
   ]
  },
  {
   "cell_type": "code",
   "execution_count": 54,
   "metadata": {},
   "outputs": [
    {
     "data": {
      "text/html": [
       "<div>\n",
       "<style scoped>\n",
       "    .dataframe tbody tr th:only-of-type {\n",
       "        vertical-align: middle;\n",
       "    }\n",
       "\n",
       "    .dataframe tbody tr th {\n",
       "        vertical-align: top;\n",
       "    }\n",
       "\n",
       "    .dataframe thead th {\n",
       "        text-align: right;\n",
       "    }\n",
       "</style>\n",
       "<table border=\"1\" class=\"dataframe\">\n",
       "  <thead>\n",
       "    <tr style=\"text-align: right;\">\n",
       "      <th></th>\n",
       "      <th>A</th>\n",
       "      <th>B</th>\n",
       "      <th>C</th>\n",
       "      <th>D</th>\n",
       "      <th>E</th>\n",
       "      <th>F</th>\n",
       "    </tr>\n",
       "  </thead>\n",
       "  <tbody>\n",
       "    <tr>\n",
       "      <th>2019-06-20</th>\n",
       "      <td>-0.652861</td>\n",
       "      <td>-1.037147</td>\n",
       "      <td>-0.210493</td>\n",
       "      <td>1.202889</td>\n",
       "      <td>1.563457</td>\n",
       "      <td>1</td>\n",
       "    </tr>\n",
       "    <tr>\n",
       "      <th>2019-06-21</th>\n",
       "      <td>-0.042220</td>\n",
       "      <td>0.352408</td>\n",
       "      <td>-0.911397</td>\n",
       "      <td>0.363411</td>\n",
       "      <td>-0.092591</td>\n",
       "      <td>1</td>\n",
       "    </tr>\n",
       "    <tr>\n",
       "      <th>2019-06-22</th>\n",
       "      <td>1.785864</td>\n",
       "      <td>-0.778382</td>\n",
       "      <td>0.683948</td>\n",
       "      <td>-0.428721</td>\n",
       "      <td>0.216790</td>\n",
       "      <td>1</td>\n",
       "    </tr>\n",
       "    <tr>\n",
       "      <th>2019-06-23</th>\n",
       "      <td>0.760946</td>\n",
       "      <td>-1.199143</td>\n",
       "      <td>2.001259</td>\n",
       "      <td>-0.126637</td>\n",
       "      <td>1.177833</td>\n",
       "      <td>1</td>\n",
       "    </tr>\n",
       "    <tr>\n",
       "      <th>2019-06-24</th>\n",
       "      <td>0.101409</td>\n",
       "      <td>-0.001838</td>\n",
       "      <td>-1.304630</td>\n",
       "      <td>-1.543924</td>\n",
       "      <td>0.199720</td>\n",
       "      <td>1</td>\n",
       "    </tr>\n",
       "    <tr>\n",
       "      <th>2019-06-25</th>\n",
       "      <td>-0.551135</td>\n",
       "      <td>0.280843</td>\n",
       "      <td>0.072867</td>\n",
       "      <td>-0.291706</td>\n",
       "      <td>-0.154336</td>\n",
       "      <td>1</td>\n",
       "    </tr>\n",
       "    <tr>\n",
       "      <th>2019-06-26</th>\n",
       "      <td>-0.582221</td>\n",
       "      <td>-0.310365</td>\n",
       "      <td>-0.024177</td>\n",
       "      <td>0.686229</td>\n",
       "      <td>0.603986</td>\n",
       "      <td>1</td>\n",
       "    </tr>\n",
       "    <tr>\n",
       "      <th>2019-06-27</th>\n",
       "      <td>0.544433</td>\n",
       "      <td>0.180265</td>\n",
       "      <td>-1.499154</td>\n",
       "      <td>-0.425769</td>\n",
       "      <td>0.273486</td>\n",
       "      <td>1</td>\n",
       "    </tr>\n",
       "    <tr>\n",
       "      <th>2019-06-28</th>\n",
       "      <td>-0.016795</td>\n",
       "      <td>1.158821</td>\n",
       "      <td>0.363828</td>\n",
       "      <td>-0.342749</td>\n",
       "      <td>1.219931</td>\n",
       "      <td>1</td>\n",
       "    </tr>\n",
       "    <tr>\n",
       "      <th>2019-06-29</th>\n",
       "      <td>1.047124</td>\n",
       "      <td>0.394251</td>\n",
       "      <td>0.691259</td>\n",
       "      <td>0.075901</td>\n",
       "      <td>-0.141932</td>\n",
       "      <td>1</td>\n",
       "    </tr>\n",
       "  </tbody>\n",
       "</table>\n",
       "</div>"
      ],
      "text/plain": [
       "                   A         B         C         D         E  F\n",
       "2019-06-20 -0.652861 -1.037147 -0.210493  1.202889  1.563457  1\n",
       "2019-06-21 -0.042220  0.352408 -0.911397  0.363411 -0.092591  1\n",
       "2019-06-22  1.785864 -0.778382  0.683948 -0.428721  0.216790  1\n",
       "2019-06-23  0.760946 -1.199143  2.001259 -0.126637  1.177833  1\n",
       "2019-06-24  0.101409 -0.001838 -1.304630 -1.543924  0.199720  1\n",
       "2019-06-25 -0.551135  0.280843  0.072867 -0.291706 -0.154336  1\n",
       "2019-06-26 -0.582221 -0.310365 -0.024177  0.686229  0.603986  1\n",
       "2019-06-27  0.544433  0.180265 -1.499154 -0.425769  0.273486  1\n",
       "2019-06-28 -0.016795  1.158821  0.363828 -0.342749  1.219931  1\n",
       "2019-06-29  1.047124  0.394251  0.691259  0.075901 -0.141932  1"
      ]
     },
     "execution_count": 54,
     "metadata": {},
     "output_type": "execute_result"
    }
   ],
   "source": [
    "df.iloc[:, 5] = 1\n",
    "df"
   ]
  },
  {
   "cell_type": "markdown",
   "metadata": {},
   "source": [
    "##### > Entrire row"
   ]
  },
  {
   "cell_type": "code",
   "execution_count": 55,
   "metadata": {},
   "outputs": [
    {
     "data": {
      "text/html": [
       "<div>\n",
       "<style scoped>\n",
       "    .dataframe tbody tr th:only-of-type {\n",
       "        vertical-align: middle;\n",
       "    }\n",
       "\n",
       "    .dataframe tbody tr th {\n",
       "        vertical-align: top;\n",
       "    }\n",
       "\n",
       "    .dataframe thead th {\n",
       "        text-align: right;\n",
       "    }\n",
       "</style>\n",
       "<table border=\"1\" class=\"dataframe\">\n",
       "  <thead>\n",
       "    <tr style=\"text-align: right;\">\n",
       "      <th></th>\n",
       "      <th>A</th>\n",
       "      <th>B</th>\n",
       "      <th>C</th>\n",
       "      <th>D</th>\n",
       "      <th>E</th>\n",
       "      <th>F</th>\n",
       "    </tr>\n",
       "  </thead>\n",
       "  <tbody>\n",
       "    <tr>\n",
       "      <th>2019-06-20</th>\n",
       "      <td>0.000000</td>\n",
       "      <td>0.000000</td>\n",
       "      <td>0.000000</td>\n",
       "      <td>0.000000</td>\n",
       "      <td>0.000000</td>\n",
       "      <td>0</td>\n",
       "    </tr>\n",
       "    <tr>\n",
       "      <th>2019-06-21</th>\n",
       "      <td>-0.042220</td>\n",
       "      <td>0.352408</td>\n",
       "      <td>-0.911397</td>\n",
       "      <td>0.363411</td>\n",
       "      <td>-0.092591</td>\n",
       "      <td>1</td>\n",
       "    </tr>\n",
       "    <tr>\n",
       "      <th>2019-06-22</th>\n",
       "      <td>1.785864</td>\n",
       "      <td>-0.778382</td>\n",
       "      <td>0.683948</td>\n",
       "      <td>-0.428721</td>\n",
       "      <td>0.216790</td>\n",
       "      <td>1</td>\n",
       "    </tr>\n",
       "    <tr>\n",
       "      <th>2019-06-23</th>\n",
       "      <td>0.760946</td>\n",
       "      <td>-1.199143</td>\n",
       "      <td>2.001259</td>\n",
       "      <td>-0.126637</td>\n",
       "      <td>1.177833</td>\n",
       "      <td>1</td>\n",
       "    </tr>\n",
       "    <tr>\n",
       "      <th>2019-06-24</th>\n",
       "      <td>0.101409</td>\n",
       "      <td>-0.001838</td>\n",
       "      <td>-1.304630</td>\n",
       "      <td>-1.543924</td>\n",
       "      <td>0.199720</td>\n",
       "      <td>1</td>\n",
       "    </tr>\n",
       "    <tr>\n",
       "      <th>2019-06-25</th>\n",
       "      <td>-0.551135</td>\n",
       "      <td>0.280843</td>\n",
       "      <td>0.072867</td>\n",
       "      <td>-0.291706</td>\n",
       "      <td>-0.154336</td>\n",
       "      <td>1</td>\n",
       "    </tr>\n",
       "    <tr>\n",
       "      <th>2019-06-26</th>\n",
       "      <td>-0.582221</td>\n",
       "      <td>-0.310365</td>\n",
       "      <td>-0.024177</td>\n",
       "      <td>0.686229</td>\n",
       "      <td>0.603986</td>\n",
       "      <td>1</td>\n",
       "    </tr>\n",
       "    <tr>\n",
       "      <th>2019-06-27</th>\n",
       "      <td>0.544433</td>\n",
       "      <td>0.180265</td>\n",
       "      <td>-1.499154</td>\n",
       "      <td>-0.425769</td>\n",
       "      <td>0.273486</td>\n",
       "      <td>1</td>\n",
       "    </tr>\n",
       "    <tr>\n",
       "      <th>2019-06-28</th>\n",
       "      <td>-0.016795</td>\n",
       "      <td>1.158821</td>\n",
       "      <td>0.363828</td>\n",
       "      <td>-0.342749</td>\n",
       "      <td>1.219931</td>\n",
       "      <td>1</td>\n",
       "    </tr>\n",
       "    <tr>\n",
       "      <th>2019-06-29</th>\n",
       "      <td>1.047124</td>\n",
       "      <td>0.394251</td>\n",
       "      <td>0.691259</td>\n",
       "      <td>0.075901</td>\n",
       "      <td>-0.141932</td>\n",
       "      <td>1</td>\n",
       "    </tr>\n",
       "  </tbody>\n",
       "</table>\n",
       "</div>"
      ],
      "text/plain": [
       "                   A         B         C         D         E  F\n",
       "2019-06-20  0.000000  0.000000  0.000000  0.000000  0.000000  0\n",
       "2019-06-21 -0.042220  0.352408 -0.911397  0.363411 -0.092591  1\n",
       "2019-06-22  1.785864 -0.778382  0.683948 -0.428721  0.216790  1\n",
       "2019-06-23  0.760946 -1.199143  2.001259 -0.126637  1.177833  1\n",
       "2019-06-24  0.101409 -0.001838 -1.304630 -1.543924  0.199720  1\n",
       "2019-06-25 -0.551135  0.280843  0.072867 -0.291706 -0.154336  1\n",
       "2019-06-26 -0.582221 -0.310365 -0.024177  0.686229  0.603986  1\n",
       "2019-06-27  0.544433  0.180265 -1.499154 -0.425769  0.273486  1\n",
       "2019-06-28 -0.016795  1.158821  0.363828 -0.342749  1.219931  1\n",
       "2019-06-29  1.047124  0.394251  0.691259  0.075901 -0.141932  1"
      ]
     },
     "execution_count": 55,
     "metadata": {},
     "output_type": "execute_result"
    }
   ],
   "source": [
    "df.iloc[0:1, :] = 0\n",
    "df"
   ]
  },
  {
   "cell_type": "markdown",
   "metadata": {},
   "source": [
    "##### > Single value"
   ]
  },
  {
   "cell_type": "code",
   "execution_count": 56,
   "metadata": {},
   "outputs": [
    {
     "data": {
      "text/html": [
       "<div>\n",
       "<style scoped>\n",
       "    .dataframe tbody tr th:only-of-type {\n",
       "        vertical-align: middle;\n",
       "    }\n",
       "\n",
       "    .dataframe tbody tr th {\n",
       "        vertical-align: top;\n",
       "    }\n",
       "\n",
       "    .dataframe thead th {\n",
       "        text-align: right;\n",
       "    }\n",
       "</style>\n",
       "<table border=\"1\" class=\"dataframe\">\n",
       "  <thead>\n",
       "    <tr style=\"text-align: right;\">\n",
       "      <th></th>\n",
       "      <th>A</th>\n",
       "      <th>B</th>\n",
       "      <th>C</th>\n",
       "      <th>D</th>\n",
       "      <th>E</th>\n",
       "      <th>F</th>\n",
       "    </tr>\n",
       "  </thead>\n",
       "  <tbody>\n",
       "    <tr>\n",
       "      <th>2019-06-20</th>\n",
       "      <td>0.000000</td>\n",
       "      <td>0.000000</td>\n",
       "      <td>0.000000</td>\n",
       "      <td>0.000000</td>\n",
       "      <td>0.000000</td>\n",
       "      <td>0</td>\n",
       "    </tr>\n",
       "    <tr>\n",
       "      <th>2019-06-21</th>\n",
       "      <td>-0.042220</td>\n",
       "      <td>0.352408</td>\n",
       "      <td>-0.911397</td>\n",
       "      <td>0.363411</td>\n",
       "      <td>-0.092591</td>\n",
       "      <td>1</td>\n",
       "    </tr>\n",
       "    <tr>\n",
       "      <th>2019-06-22</th>\n",
       "      <td>1.785864</td>\n",
       "      <td>13.000000</td>\n",
       "      <td>0.683948</td>\n",
       "      <td>-0.428721</td>\n",
       "      <td>0.216790</td>\n",
       "      <td>1</td>\n",
       "    </tr>\n",
       "    <tr>\n",
       "      <th>2019-06-23</th>\n",
       "      <td>0.760946</td>\n",
       "      <td>-1.199143</td>\n",
       "      <td>2.001259</td>\n",
       "      <td>-0.126637</td>\n",
       "      <td>1.177833</td>\n",
       "      <td>1</td>\n",
       "    </tr>\n",
       "    <tr>\n",
       "      <th>2019-06-24</th>\n",
       "      <td>0.101409</td>\n",
       "      <td>-0.001838</td>\n",
       "      <td>-1.304630</td>\n",
       "      <td>-1.543924</td>\n",
       "      <td>0.199720</td>\n",
       "      <td>1</td>\n",
       "    </tr>\n",
       "    <tr>\n",
       "      <th>2019-06-25</th>\n",
       "      <td>-0.551135</td>\n",
       "      <td>0.280843</td>\n",
       "      <td>0.072867</td>\n",
       "      <td>-0.291706</td>\n",
       "      <td>-0.154336</td>\n",
       "      <td>1</td>\n",
       "    </tr>\n",
       "    <tr>\n",
       "      <th>2019-06-26</th>\n",
       "      <td>-0.582221</td>\n",
       "      <td>-0.310365</td>\n",
       "      <td>-0.024177</td>\n",
       "      <td>0.686229</td>\n",
       "      <td>0.603986</td>\n",
       "      <td>1</td>\n",
       "    </tr>\n",
       "    <tr>\n",
       "      <th>2019-06-27</th>\n",
       "      <td>0.544433</td>\n",
       "      <td>0.180265</td>\n",
       "      <td>-1.499154</td>\n",
       "      <td>-0.425769</td>\n",
       "      <td>0.273486</td>\n",
       "      <td>1</td>\n",
       "    </tr>\n",
       "    <tr>\n",
       "      <th>2019-06-28</th>\n",
       "      <td>-0.016795</td>\n",
       "      <td>1.158821</td>\n",
       "      <td>0.363828</td>\n",
       "      <td>-0.342749</td>\n",
       "      <td>1.219931</td>\n",
       "      <td>1</td>\n",
       "    </tr>\n",
       "    <tr>\n",
       "      <th>2019-06-29</th>\n",
       "      <td>1.047124</td>\n",
       "      <td>0.394251</td>\n",
       "      <td>0.691259</td>\n",
       "      <td>0.075901</td>\n",
       "      <td>-0.141932</td>\n",
       "      <td>1</td>\n",
       "    </tr>\n",
       "  </tbody>\n",
       "</table>\n",
       "</div>"
      ],
      "text/plain": [
       "                   A          B         C         D         E  F\n",
       "2019-06-20  0.000000   0.000000  0.000000  0.000000  0.000000  0\n",
       "2019-06-21 -0.042220   0.352408 -0.911397  0.363411 -0.092591  1\n",
       "2019-06-22  1.785864  13.000000  0.683948 -0.428721  0.216790  1\n",
       "2019-06-23  0.760946  -1.199143  2.001259 -0.126637  1.177833  1\n",
       "2019-06-24  0.101409  -0.001838 -1.304630 -1.543924  0.199720  1\n",
       "2019-06-25 -0.551135   0.280843  0.072867 -0.291706 -0.154336  1\n",
       "2019-06-26 -0.582221  -0.310365 -0.024177  0.686229  0.603986  1\n",
       "2019-06-27  0.544433   0.180265 -1.499154 -0.425769  0.273486  1\n",
       "2019-06-28 -0.016795   1.158821  0.363828 -0.342749  1.219931  1\n",
       "2019-06-29  1.047124   0.394251  0.691259  0.075901 -0.141932  1"
      ]
     },
     "execution_count": 56,
     "metadata": {},
     "output_type": "execute_result"
    }
   ],
   "source": [
    "df.iloc[2,1] = 13\n",
    "df"
   ]
  },
  {
   "cell_type": "code",
   "execution_count": null,
   "metadata": {
    "collapsed": true
   },
   "outputs": [],
   "source": []
  }
 ],
 "metadata": {
  "kernelspec": {
   "display_name": "Python 3",
   "language": "python",
   "name": "python3"
  },
  "language_info": {
   "codemirror_mode": {
    "name": "ipython",
    "version": 3
   },
   "file_extension": ".py",
   "mimetype": "text/x-python",
   "name": "python",
   "nbconvert_exporter": "python",
   "pygments_lexer": "ipython3",
   "version": "3.7.0"
  }
 },
 "nbformat": 4,
 "nbformat_minor": 2
}
