{
 "cells": [
  {
   "cell_type": "markdown",
   "metadata": {},
   "source": [
    "# Classes"
   ]
  },
  {
   "cell_type": "code",
   "execution_count": 1,
   "metadata": {
    "scrolled": false
   },
   "outputs": [
    {
     "data": {
      "text/html": [
       "/* This template is inspired in the one used by Lorena Barba\n",
       "in the numerical-mooc repository: https://github.com/numerical-mooc/numerical-mooc\n",
       "We thank her work and hope you also enjoy the look of the notobooks with this style */\n",
       "\n",
       "<link href='https://fonts.googleapis.com/css?family=Sofia' rel='stylesheet'>\n",
       "<style>\n",
       "\n",
       "\n",
       "\n",
       "#notebook_panel { /* main background */\n",
       "    background: #f7f7f7;\n",
       "}\n",
       "\n",
       "div.cell { /* set cell width */\n",
       "    width: 900px;\n",
       "}\n",
       "\n",
       "div #notebook { /* centre the content */\n",
       "    background: #fff; /* white background for content */\n",
       "    width: 950px;\n",
       "    margin: auto;\n",
       "    padding-left: 0em;\n",
       "}\n",
       "\n",
       "#notebook li { /* More space between bullet points */\n",
       "    margin-top:0.7em;\n",
       "}\n",
       "\n",
       "/* draw border around running cells */\n",
       "div.cell.border-box-sizing.code_cell.running { \n",
       "    border: 1px solid #111;\n",
       "}\n",
       "\n",
       "/* Put a solid color box around each cell and its output, visually linking them*/\n",
       "div.cell.code_cell {\n",
       "    font-family: 'Courier';\n",
       "    background-color: rgb(256,256,256);\n",
       "    font-size: 110%;\n",
       "    border-radius: 0px; \n",
       "    padding: 0.5em;\n",
       "    margin-left:1em;\n",
       "    margin-top: 1em;\n",
       "}\n",
       "\n",
       "div.text_cell_render{\n",
       "    font-family: 'Times New Roman';\n",
       "    line-height: 145%;\n",
       "    font-size: 125%;\n",
       "    text-align: justify;\n",
       "    font-weight: 500;\n",
       "    width:750px;\n",
       "    margin-left:auto;\n",
       "    margin-right:auto;\n",
       "}\n",
       "\n",
       "/* Formatting for header cells */\n",
       ".text_cell_render h1, .text_cell_render h2, .text_cell_render h3,\n",
       ".text_cell_render h4, .text_cell_render h5 {\n",
       "    font-family: 'Times New Roman', 'Ubuntu Condensed', sans-serif;\n",
       "}\n",
       "\n",
       ".text_cell_render h1 {\n",
       "    text-align: center;\n",
       "    font-weight: 600;\n",
       "    font-size: 35pt;\n",
       "    line-height: 100%;\n",
       "    color: blue;\n",
       "    margin-bottom: 0.1em;\n",
       "    margin-top: 0.3em;\n",
       "    display: block;\n",
       "}\n",
       "\n",
       ".text_cell_render h2 {\n",
       "    margin-top:16px;\n",
       "    font-size: 27pt;\n",
       "    font-weight: 550;\n",
       "    margin-bottom: 0.1em;\n",
       "    margin-top: 0.3em;\n",
       "    font-style: regular;\n",
       "    color: #477C9A;\n",
       "}\t\n",
       "\n",
       ".text_cell_render h3 {\n",
       "    font-size: 20pt;\n",
       "    font-weight: 550\n",
       "    text-align: left;\n",
       "    margin-bottom: 0.1em;\n",
       "    margin-top: 0.3em;\n",
       "    font-style: regular;\n",
       "    color:  #477C9A;\n",
       "}\n",
       "\n",
       ".text_cell_render h4 {    /*Use this for captions*/\n",
       "    font-size: 18pt;\n",
       "    font-weight: 450\n",
       "    text-align: left;\n",
       "    margin-bottom: 0.1em;\n",
       "    margin-top: 0.3em;\n",
       "    font-style: regular;\n",
       "    color:  #477C9A;\n",
       "}\n",
       "\n",
       ".text_cell_render h5 {  /*Use this for small titles*/\n",
       "    font-size: 18pt;\n",
       "    font-weight: 550;\n",
       "    color: rgb(163,0,0);\n",
       "    font-style: italic;\n",
       "    margin-bottom: .1em;\n",
       "    margin-top: 0.8em;\n",
       "    display: block;\n",
       "    color:  #7E7D7D;\n",
       "}\n",
       "\n",
       ".text_cell_render h6 { /*use this for copyright note*/\n",
       "    font-family: 'Ubuntu Condensed', sans-serif;\n",
       "    font-weight: 300;\n",
       "    font-size: 14pt;\n",
       "    line-height: 100%;\n",
       "    color: #252525;\n",
       "    text-align: right;\n",
       "    margin-bottom: 1px;\n",
       "    margin-top: 1px;\n",
       "}\n",
       "\n",
       ".CodeMirror{\n",
       "        font-family: 'Consolas', sans-serif;\n",
       "        font-size: 100%;\n",
       "}\n",
       "\n",
       "</style>\n",
       "<script>\n",
       "    MathJax.Hub.Config({\n",
       "                        TeX: {\n",
       "                           extensions: [\"AMSmath.js\"],\n",
       "                           equationNumbers: { autoNumber: \"AMS\", useLabelIds: true}\n",
       "                           },\n",
       "                tex2jax: {\n",
       "                    inlineMath: [ ['$','$'], [\"\\\\(\",\"\\\\)\"] ],\n",
       "                    displayMath: [ ['$$','$$'], [\"\\\\[\",\"\\\\]\"] ]\n",
       "                },\n",
       "                displayAlign: 'center', // Change this to 'center' to center equations.\n",
       "                \"HTML-CSS\": {\n",
       "                    styles: {'.MathJax_Display': {\"margin\": 4}}\n",
       "                }\n",
       "        });\n",
       "</script>\n"
      ],
      "text/plain": [
       "<IPython.core.display.HTML object>"
      ]
     },
     "execution_count": 1,
     "metadata": {},
     "output_type": "execute_result"
    }
   ],
   "source": [
    "# Esta celda da el estilo al notebook\n",
    "from IPython.core.display import HTML\n",
    "css_style = 'style_1.css'\n",
    "css_file = css_style\n",
    "HTML(open(css_file, \"r\").read())"
   ]
  },
  {
   "cell_type": "markdown",
   "metadata": {},
   "source": [
    "## 1. Creating Python classes"
   ]
  },
  {
   "cell_type": "markdown",
   "metadata": {},
   "source": [
    "The simplest class in Python goes like this:"
   ]
  },
  {
   "cell_type": "code",
   "execution_count": 2,
   "metadata": {},
   "outputs": [],
   "source": [
    "class SimplestClass:\n",
    "    pass"
   ]
  },
  {
   "cell_type": "markdown",
   "metadata": {},
   "source": [
    "Of course, the same as everything else, we can assign them to variables:"
   ]
  },
  {
   "cell_type": "code",
   "execution_count": 3,
   "metadata": {},
   "outputs": [
    {
     "name": "stdout",
     "output_type": "stream",
     "text": [
      "<__main__.SimplestClass object at 0x0000000004F520B8>\n"
     ]
    }
   ],
   "source": [
    "a = SimplestClass()\n",
    "print(a)"
   ]
  },
  {
   "cell_type": "markdown",
   "metadata": {},
   "source": [
    "This instantiates an object from the new class. We can add attributes to it."
   ]
  },
  {
   "cell_type": "code",
   "execution_count": 4,
   "metadata": {
    "scrolled": true
   },
   "outputs": [
    {
     "name": "stdout",
     "output_type": "stream",
     "text": [
      "5\n",
      "10\n"
     ]
    }
   ],
   "source": [
    "a.x = 5\n",
    "a.y = 10\n",
    "print(a.x)\n",
    "print(a.y)"
   ]
  },
  {
   "cell_type": "markdown",
   "metadata": {},
   "source": [
    "Now, adding attributes is great. It can be understood as the structures in `MATLAB`, for example. However, the main idea behind this is the interaction between objects. So let's add something for the class to do:"
   ]
  },
  {
   "cell_type": "code",
   "execution_count": 5,
   "metadata": {},
   "outputs": [
    {
     "name": "stdout",
     "output_type": "stream",
     "text": [
      "5 10\n",
      "0 0\n"
     ]
    }
   ],
   "source": [
    "class Point():\n",
    "    def origin(self):\n",
    "        self.x = 0\n",
    "        self.y = 0\n",
    "p = Point()\n",
    "p.x, p.y = 5,10\n",
    "print(p.x, p.y)\n",
    "p.origin()\n",
    "print(p.x, p.y)"
   ]
  },
  {
   "cell_type": "markdown",
   "metadata": {},
   "source": [
    "This is called a **method**. It is defined exactly like a function. However, we see that it has one argument named `self`. As in \\*args and \\*\\*kwargs, the name is not the important thing, although I've never seen anything but `self` for this. This arguments references the object that the method is being invoked on. When we create the instance `p`, `self` will refer to that object. "
   ]
  },
  {
   "cell_type": "markdown",
   "metadata": {},
   "source": [
    "We can as well use the function inside the class, passing the object we want to apply it to."
   ]
  },
  {
   "cell_type": "code",
   "execution_count": 6,
   "metadata": {},
   "outputs": [
    {
     "name": "stdout",
     "output_type": "stream",
     "text": [
      "0 0\n"
     ]
    }
   ],
   "source": [
    "p = Point()\n",
    "Point.origin(p)\n",
    "print(p.x, p.y)"
   ]
  },
  {
   "cell_type": "markdown",
   "metadata": {},
   "source": [
    "If we forget to add the `self` argument, Python will tell the tragic story of how the method takes no arguments and one was passed. "
   ]
  },
  {
   "cell_type": "markdown",
   "metadata": {},
   "source": [
    "We can of course (and will) add more arguments to a method. The important thing is that the **first one** will always refer to the object."
   ]
  },
  {
   "cell_type": "code",
   "execution_count": 7,
   "metadata": {},
   "outputs": [
    {
     "name": "stdout",
     "output_type": "stream",
     "text": [
      "14.142135623730951\n"
     ]
    }
   ],
   "source": [
    "class Point():\n",
    "    def origin(self):\n",
    "        self.x = 0\n",
    "        self.y = 0\n",
    "    def move(self, x, y):\n",
    "        self.x = x\n",
    "        self.y = y\n",
    "    def distance(self, x2, y2):\n",
    "        return ((self.x - x2)**2 + (self.y - y2)**2)**(1/2)\n",
    "\n",
    "# We define two points\n",
    "p1 = Point()\n",
    "p2 = Point()\n",
    "\n",
    "# We put both in the origin and move the first to another position\n",
    "p1.origin()\n",
    "p2.origin()\n",
    "p1.move(10,10)\n",
    "\n",
    "# We calculate the distance\n",
    "distancep1p2 = p1.distance(p2.x, p2.y)\n",
    "print(distancep1p2)       "
   ]
  },
  {
   "cell_type": "markdown",
   "metadata": {},
   "source": [
    "However, something here. When we created the object, we had to tell them that they had to go to the origin. Otherwise, we would have two points without any useful attribute. This can be sometimes very boring. Imagine that we have like 100 points and we know that 80 of those will be at the same coordinates. It is much easier to initialize the objects."
   ]
  },
  {
   "cell_type": "markdown",
   "metadata": {},
   "source": [
    "The initialization method is exactly as any other method, except that it cannot have any name you want. It has to be `__init__`. "
   ]
  },
  {
   "cell_type": "code",
   "execution_count": 8,
   "metadata": {},
   "outputs": [
    {
     "name": "stdout",
     "output_type": "stream",
     "text": [
      "1 2\n",
      "15 7\n"
     ]
    }
   ],
   "source": [
    "class Point():\n",
    "    def __init__(self, x = 15, y = 7):\n",
    "        self.move(x,y)\n",
    "    \n",
    "    def origin(self):\n",
    "        self.x = 0\n",
    "        self.y = 0\n",
    "    \n",
    "    def move(self, x, y):\n",
    "        self.x = x\n",
    "        self.y = y\n",
    "\n",
    "p = Point(1,2)\n",
    "print(p.x, p.y)\n",
    "p = Point()\n",
    "print(p.x, p.y)"
   ]
  },
  {
   "cell_type": "markdown",
   "metadata": {},
   "source": [
    "Sometimes, (never happened to me), you may want to use the Python constructor. The function is then called `__new__` and accepts only one argument, this being, the class that is being constructed. No `self` argument here. It also has to return the newly created object."
   ]
  },
  {
   "cell_type": "markdown",
   "metadata": {},
   "source": [
    "A fast example of this would be trying to subclass an inmmutable type. For example, a tuple that only can have values of integers inside."
   ]
  },
  {
   "cell_type": "code",
   "execution_count": 26,
   "metadata": {},
   "outputs": [
    {
     "ename": "TypeError",
     "evalue": "tuple expected at most 1 arguments, got 2",
     "output_type": "error",
     "traceback": [
      "\u001b[1;31m---------------------------------------------------------------------------\u001b[0m",
      "\u001b[1;31mTypeError\u001b[0m                                 Traceback (most recent call last)",
      "\u001b[1;32m<ipython-input-26-1cda5dc2fdac>\u001b[0m in \u001b[0;36m<module>\u001b[1;34m\u001b[0m\n\u001b[0;32m      7\u001b[0m         \u001b[0mself\u001b[0m \u001b[1;33m=\u001b[0m \u001b[1;33m(\u001b[0m\u001b[0mint\u001b[0m\u001b[1;33m(\u001b[0m\u001b[0mx\u001b[0m\u001b[1;33m)\u001b[0m\u001b[1;33m-\u001b[0m\u001b[0ma\u001b[0m \u001b[1;32mfor\u001b[0m \u001b[0mx\u001b[0m \u001b[1;32min\u001b[0m \u001b[0mtup\u001b[0m\u001b[1;33m)\u001b[0m\u001b[1;33m\u001b[0m\u001b[1;33m\u001b[0m\u001b[0m\n\u001b[0;32m      8\u001b[0m \u001b[0ma\u001b[0m \u001b[1;33m=\u001b[0m \u001b[0mSpecialTuple1\u001b[0m\u001b[1;33m(\u001b[0m\u001b[1;33m(\u001b[0m\u001b[1;36m1\u001b[0m\u001b[1;33m,\u001b[0m\u001b[1;36m2.5\u001b[0m\u001b[1;33m)\u001b[0m\u001b[1;33m,\u001b[0m \u001b[1;36m2\u001b[0m\u001b[1;33m)\u001b[0m\u001b[1;33m\u001b[0m\u001b[1;33m\u001b[0m\u001b[0m\n\u001b[1;32m----> 9\u001b[1;33m \u001b[0mb\u001b[0m \u001b[1;33m=\u001b[0m \u001b[0mSpecialTuple2\u001b[0m\u001b[1;33m(\u001b[0m\u001b[1;33m(\u001b[0m\u001b[1;36m1\u001b[0m\u001b[1;33m,\u001b[0m\u001b[1;36m2.5\u001b[0m\u001b[1;33m)\u001b[0m\u001b[1;33m,\u001b[0m\u001b[1;36m2\u001b[0m\u001b[1;33m)\u001b[0m\u001b[1;33m\u001b[0m\u001b[1;33m\u001b[0m\u001b[0m\n\u001b[0m\u001b[0;32m     10\u001b[0m \u001b[0mprint\u001b[0m\u001b[1;33m(\u001b[0m\u001b[0ma\u001b[0m\u001b[1;33m)\u001b[0m\u001b[1;33m\u001b[0m\u001b[1;33m\u001b[0m\u001b[0m\n\u001b[0;32m     11\u001b[0m \u001b[0mprint\u001b[0m\u001b[1;33m(\u001b[0m\u001b[0mb\u001b[0m\u001b[1;33m)\u001b[0m\u001b[1;33m\u001b[0m\u001b[1;33m\u001b[0m\u001b[0m\n",
      "\u001b[1;31mTypeError\u001b[0m: tuple expected at most 1 arguments, got 2"
     ]
    }
   ],
   "source": [
    "class SpecialTuple1(tuple):\n",
    "    def __new__(cls, tup,a):\n",
    "        tup = (int(x)-a for x in tup)\n",
    "        return super(SpecialTuple1, cls).__new__(cls, tup)\n",
    "class SpecialTuple2(tuple):\n",
    "    def __init__(self,tup,a):\n",
    "        self = (int(x)-a for x in tup)\n",
    "a = SpecialTuple1((1,2.5), 2)\n",
    "b = SpecialTuple2((1,2.5),2)\n",
    "print(a)\n",
    "print(b)"
   ]
  },
  {
   "cell_type": "markdown",
   "metadata": {},
   "source": [
    "<h4 style = 'color:blue'> Exercise 1</h4>\n",
    "\n",
    "<p style = 'color:blue'>   \n",
    "Create a class that stores the species, name, and age of an animal, and provides a method to print this information\n",
    "</p>"
   ]
  },
  {
   "cell_type": "markdown",
   "metadata": {},
   "source": [
    "## 2. Basic inheritance"
   ]
  },
  {
   "cell_type": "markdown",
   "metadata": {},
   "source": [
    "In Python, technically, all the classes are subclases of a special class named `object`. All the behaviours it provides are double-underscore methods, such as `__init__` and that stuff. If we don't explicitly inherit from a different class, it wiill inherit from object."
   ]
  },
  {
   "cell_type": "markdown",
   "metadata": {},
   "source": [
    "The basic idea of inheritance is to add functionality to an existing class. Let's consider the following class:"
   ]
  },
  {
   "cell_type": "code",
   "execution_count": 9,
   "metadata": {},
   "outputs": [
    {
     "name": "stdout",
     "output_type": "stream",
     "text": [
      "[]\n",
      "[]\n",
      "[15]\n",
      "[15]\n"
     ]
    }
   ],
   "source": [
    "class Test:\n",
    "    trial = []\n",
    "    trial2 = 15\n",
    "    \n",
    "    def update_trial(self, trial):\n",
    "        Test.trial.append(trial)\n",
    "        Test.trial2 = trial\n",
    "\n",
    "t1 = Test()\n",
    "t2 = Test()\n",
    "# We see the first value\n",
    "print(t1.trial)\n",
    "print(t2.trial)\n",
    "\n",
    "# We update one of the values\n",
    "t1.update_trial(15)\n",
    "print(t1.trial)\n",
    "print(t2.trial)"
   ]
  },
  {
   "cell_type": "markdown",
   "metadata": {},
   "source": [
    "When we update the value, we updated `Test.value`. This is a **class variable** and it will be shared by all the instances of this class."
   ]
  },
  {
   "cell_type": "code",
   "execution_count": 10,
   "metadata": {},
   "outputs": [
    {
     "name": "stdout",
     "output_type": "stream",
     "text": [
      "[15, 18]\n"
     ]
    }
   ],
   "source": [
    "t1.trial.append(18)\n",
    "print(t2.trial)"
   ]
  },
  {
   "cell_type": "code",
   "execution_count": 11,
   "metadata": {},
   "outputs": [
    {
     "data": {
      "text/plain": [
       "True"
      ]
     },
     "execution_count": 11,
     "metadata": {},
     "output_type": "execute_result"
    }
   ],
   "source": [
    "t1.trial is t2.trial"
   ]
  },
  {
   "cell_type": "code",
   "execution_count": 12,
   "metadata": {},
   "outputs": [
    {
     "name": "stdout",
     "output_type": "stream",
     "text": [
      "15\n",
      "15\n",
      "True\n"
     ]
    }
   ],
   "source": [
    "print(t1.trial2)\n",
    "print(t2.trial2)\n",
    "print(t1.trial2 is t2.trial2)"
   ]
  },
  {
   "cell_type": "code",
   "execution_count": 13,
   "metadata": {},
   "outputs": [
    {
     "name": "stdout",
     "output_type": "stream",
     "text": [
      "18\n",
      "15\n",
      "False\n"
     ]
    }
   ],
   "source": [
    "t1.trial2 += 3\n",
    "print(t1.trial2)\n",
    "print(t2.trial2)\n",
    "print(t1.trial2 is t2.trial2)"
   ]
  },
  {
   "cell_type": "markdown",
   "metadata": {},
   "source": [
    "We added it to one, but it appears in the other. There is only one object called `trial`. However, in trial2, since it is not a mutable object, we can see that it creates another. They were the same variable before, but they are not after the change."
   ]
  },
  {
   "cell_type": "markdown",
   "metadata": {},
   "source": [
    "Now let's suppose a simple class that keeps contacts, with a class variable."
   ]
  },
  {
   "cell_type": "code",
   "execution_count": 14,
   "metadata": {},
   "outputs": [],
   "source": [
    "class Contact():\n",
    "    # class variable shared\n",
    "    contact_list = []\n",
    "    \n",
    "    def __init__(self, name, email):\n",
    "        self.name = name\n",
    "        self.email = email\n",
    "        Contact.contact_list.append(self)"
   ]
  },
  {
   "cell_type": "markdown",
   "metadata": {},
   "source": [
    "Now, we have the class, the class variable, and this variable will be updated with the objects we are creating. Now we will create a special sub-class for those contacts that are family. For example, and it has a family relationship. Because we apparently are very bad with names"
   ]
  },
  {
   "cell_type": "code",
   "execution_count": 15,
   "metadata": {},
   "outputs": [],
   "source": [
    "class Family(Contact):\n",
    "    def member(self, relation):\n",
    "        print('This is our', relation, 'who is called', self.name)"
   ]
  },
  {
   "cell_type": "markdown",
   "metadata": {},
   "source": [
    "Now we start to add peoplet:"
   ]
  },
  {
   "cell_type": "code",
   "execution_count": 16,
   "metadata": {},
   "outputs": [],
   "source": [
    "p1 = Contact('Pierre', 'Pierre@hotmail.com')\n",
    "p2 = Family('Marta', 'Notmarta@terra.es')"
   ]
  },
  {
   "cell_type": "code",
   "execution_count": 17,
   "metadata": {},
   "outputs": [
    {
     "name": "stdout",
     "output_type": "stream",
     "text": [
      "Pierre Pierre@hotmail.com Marta Notmarta@terra.es\n"
     ]
    }
   ],
   "source": [
    "print(p1.name, p1.email, p2.name, p2.email)"
   ]
  },
  {
   "cell_type": "code",
   "execution_count": 18,
   "metadata": {},
   "outputs": [
    {
     "name": "stdout",
     "output_type": "stream",
     "text": [
      "[<__main__.Contact object at 0x0000000004F6E2B0>, <__main__.Family object at 0x0000000004F6E2E8>]\n",
      "[<__main__.Contact object at 0x0000000004F6E2B0>, <__main__.Family object at 0x0000000004F6E2E8>]\n"
     ]
    }
   ],
   "source": [
    "print(p1.contact_list)\n",
    "print(p2.contact_list)"
   ]
  },
  {
   "cell_type": "code",
   "execution_count": 19,
   "metadata": {},
   "outputs": [
    {
     "ename": "AttributeError",
     "evalue": "'Contact' object has no attribute 'member'",
     "output_type": "error",
     "traceback": [
      "\u001b[1;31m---------------------------------------------------------------------------\u001b[0m",
      "\u001b[1;31mAttributeError\u001b[0m                            Traceback (most recent call last)",
      "\u001b[1;32m<ipython-input-19-f623cb71c7e9>\u001b[0m in \u001b[0;36m<module>\u001b[1;34m()\u001b[0m\n\u001b[1;32m----> 1\u001b[1;33m \u001b[0mp1\u001b[0m\u001b[1;33m.\u001b[0m\u001b[0mmember\u001b[0m\u001b[1;33m(\u001b[0m\u001b[1;34m'Not of my family tho'\u001b[0m\u001b[1;33m)\u001b[0m\u001b[1;33m\u001b[0m\u001b[0m\n\u001b[0m",
      "\u001b[1;31mAttributeError\u001b[0m: 'Contact' object has no attribute 'member'"
     ]
    }
   ],
   "source": [
    "p1.member('Not of my family tho')"
   ]
  },
  {
   "cell_type": "code",
   "execution_count": 20,
   "metadata": {},
   "outputs": [
    {
     "name": "stdout",
     "output_type": "stream",
     "text": [
      "This is our Aunt who is called Marta\n"
     ]
    }
   ],
   "source": [
    "p2.member('Aunt')"
   ]
  },
  {
   "cell_type": "markdown",
   "metadata": {},
   "source": [
    "However, here the list `all_contacts` gives us useful information in the sense of that we know the pointer, but a bit useless when we want to know who is actually those objects. So we could add a method in the `Contact` class that searchs the name, of course, but we could as well do another considering that the method belongs on the list itself."
   ]
  },
  {
   "cell_type": "code",
   "execution_count": 21,
   "metadata": {},
   "outputs": [],
   "source": [
    "class ContactList(list):\n",
    "    def search(self, name):\n",
    "        '''Return all the contacts with the search value as their name'''\n",
    "        matching_contacts = []\n",
    "        for contact in self:\n",
    "            if name in contact.name:\n",
    "                matching_contacts.append(contact)\n",
    "        return matching_contacts\n",
    "\n",
    "class Contact():\n",
    "    # class variable shared\n",
    "    contact_list = ContactList()\n",
    "    \n",
    "    def __init__(self, name, email):\n",
    "        self.name = name\n",
    "        self.email = email\n",
    "        Contact.contact_list.append(self)\n",
    "\n",
    "        \n",
    "class Family(Contact):\n",
    "    def member(self, relation):\n",
    "        print('This is our', relation, 'who is called', self.name)"
   ]
  },
  {
   "cell_type": "markdown",
   "metadata": {},
   "source": [
    "Now we create a new class that extends the functionality of the normal `list` class. We isntantiate this sub-class in our main class, as `contact_list`. Let's check it up."
   ]
  },
  {
   "cell_type": "code",
   "execution_count": 22,
   "metadata": {},
   "outputs": [],
   "source": [
    "p1 = Contact('Pierre', 'Pierre@hotmail.com')\n",
    "p2 = Family('Marta', 'Notmarta@terra.es')\n",
    "p3 = Family('Pierre Nodoyuna', 'Pierre2@gmail.com')"
   ]
  },
  {
   "cell_type": "code",
   "execution_count": 23,
   "metadata": {
    "scrolled": true
   },
   "outputs": [
    {
     "data": {
      "text/plain": [
       "{'Pierre': 'Pierre@hotmail.com', 'Pierre Nodoyuna': 'Pierre2@gmail.com'}"
      ]
     },
     "execution_count": 23,
     "metadata": {},
     "output_type": "execute_result"
    }
   ],
   "source": [
    "{i.name:i.email for i in Contact.contact_list.search('Pierre')}"
   ]
  },
  {
   "cell_type": "markdown",
   "metadata": {},
   "source": [
    "<h4 style = 'color:blue'> Exercise 2</h4>\n",
    "\n",
    "<p style = 'color:blue'>   \n",
    "Create a class that stores the species, name, and age of an animal, and a subclass that includes the habitat as `Desert`.\n",
    "</p>"
   ]
  },
  {
   "cell_type": "markdown",
   "metadata": {},
   "source": [
    "## 3. Overriding and super"
   ]
  },
  {
   "cell_type": "markdown",
   "metadata": {},
   "source": [
    "Sometimes, we need to override a functionality. If we want to add a new attribute to `Contact`, such as a phone number, we could do it easily adding the attribute once it is constructed. However, if we want to make this third variable available on initialization, we have to override the `__init__` method.\n",
    "\n",
    "Overriding is altering or replaceing a method of the superclass with a new method with the same name in the subclass. There is no need of special syntax here. The subclass new method is called instead of the suprclass."
   ]
  },
  {
   "cell_type": "code",
   "execution_count": 24,
   "metadata": {},
   "outputs": [],
   "source": [
    "class Friend(Contact):\n",
    "    def __init__(self, name, email, phone):\n",
    "        self.name = name\n",
    "        self.email = email\n",
    "        self.phone = phone"
   ]
  },
  {
   "cell_type": "markdown",
   "metadata": {},
   "source": [
    "And done. However, now there is duplicate code. If we want to change `name` and `email`, we would have to change it both in Contact and Friend. So let's do so that it uses it from the class it is inheriting from."
   ]
  },
  {
   "cell_type": "code",
   "execution_count": 25,
   "metadata": {},
   "outputs": [],
   "source": [
    "class Friend(Contact):\n",
    "    def __init__(self, name, email, phone):\n",
    "        super().__init__(name, email)\n",
    "        self.phone = phone"
   ]
  },
  {
   "cell_type": "code",
   "execution_count": 26,
   "metadata": {},
   "outputs": [
    {
     "data": {
      "text/plain": [
       "[<__main__.Contact at 0x4fedf60>,\n",
       " <__main__.Family at 0x4fedbe0>,\n",
       " <__main__.Friend at 0x4feda90>]"
      ]
     },
     "execution_count": 26,
     "metadata": {},
     "output_type": "execute_result"
    }
   ],
   "source": [
    "# We refresh the contact list from before\n",
    "Contact.contact_list = []\n",
    "p1 = Contact('Pierre', 'Pierre@hotmail.com')\n",
    "p2 = Family('Marta', 'Notmarta@terra.es')\n",
    "p3 = Friend('Pierre Nodoyuna', 'Pierre2@gmail.com', '123456789')\n",
    "Contact.contact_list"
   ]
  },
  {
   "cell_type": "markdown",
   "metadata": {},
   "source": [
    "<h4 style = 'color:blue'> Exercise 3</h4>\n",
    "\n",
    "<p style = 'color:blue'>   \n",
    "Create a class that stores the species, name, and age of an animal, and a subclass that modifies the initialization class to add the habitat and return the information.\n",
    "</p>"
   ]
  },
  {
   "cell_type": "markdown",
   "metadata": {},
   "source": [
    " ## 4. Multiple inheritance"
   ]
  },
  {
   "cell_type": "markdown",
   "metadata": {},
   "source": [
    "Now we start with the complex stuff. Personally I never had to use this, but it is good to know it. The simplest and most useful form of multiple inheritance is a **mixin**. This is generally a superclass that is not meant to exist on its own, but unherited by some other class to provide extra functionality."
   ]
  },
  {
   "cell_type": "markdown",
   "metadata": {},
   "source": [
    "As an example, let's suppose we want to add the functionality to `Contact` that allows sending an email to `self.email`."
   ]
  },
  {
   "cell_type": "code",
   "execution_count": 27,
   "metadata": {},
   "outputs": [],
   "source": [
    "class MailSender:\n",
    "    def send_mail(self, message):\n",
    "        print('Sending a mail to', self.email)"
   ]
  },
  {
   "cell_type": "markdown",
   "metadata": {},
   "source": [
    "Now, we can define a new class, that is both a contact and a mail sender:"
   ]
  },
  {
   "cell_type": "code",
   "execution_count": 28,
   "metadata": {},
   "outputs": [],
   "source": [
    "class EmailableContact(Contact, MailSender):\n",
    "    pass"
   ]
  },
  {
   "cell_type": "code",
   "execution_count": 29,
   "metadata": {},
   "outputs": [
    {
     "name": "stdout",
     "output_type": "stream",
     "text": [
      "John Johnson@email.dk\n",
      "Sending a mail to Johnson@email.dk\n"
     ]
    }
   ],
   "source": [
    "p1 = EmailableContact('John', 'Johnson@email.dk')\n",
    "print(p1.name, p1.email)\n",
    "p1.send_mail('Whatever')"
   ]
  },
  {
   "cell_type": "code",
   "execution_count": 32,
   "metadata": {},
   "outputs": [
    {
     "data": {
      "text/plain": [
       "[<__main__.Contact at 0x4fedf60>,\n",
       " <__main__.Family at 0x4fedbe0>,\n",
       " <__main__.Friend at 0x4feda90>,\n",
       " <__main__.EmailableContact at 0x4fedf98>]"
      ]
     },
     "execution_count": 32,
     "metadata": {},
     "output_type": "execute_result"
    }
   ],
   "source": [
    "Contact.contact_list"
   ]
  },
  {
   "cell_type": "markdown",
   "metadata": {},
   "source": [
    "The `Contact` initializer is still adding the new contact to `contact_list`, and it can send an email. Everything is working."
   ]
  },
  {
   "cell_type": "markdown",
   "metadata": {},
   "source": [
    "Now, this worked easily enough. However, it presents problems when calling methods from the superclass or on the superclass. Because there are two superclasses here. And there can be even more. "
   ]
  },
  {
   "cell_type": "markdown",
   "metadata": {},
   "source": [
    "Let's add a an adress functionality to our friend class."
   ]
  },
  {
   "cell_type": "code",
   "execution_count": 33,
   "metadata": {},
   "outputs": [],
   "source": [
    "class AdressHolder:\n",
    "    def __init__(self, street, city, state, code):\n",
    "        self.street = street; self.city = city;\n",
    "        self.state = state; self.code = code"
   ]
  },
  {
   "cell_type": "markdown",
   "metadata": {},
   "source": [
    "Now, the naive approach, would be:"
   ]
  },
  {
   "cell_type": "code",
   "execution_count": 34,
   "metadata": {},
   "outputs": [],
   "source": [
    "class Friend(Contact, AdressHolder):\n",
    "    def __init__(self, name, email, phone, street, city, state, code):\n",
    "        Contact.__init__(self, name, email)\n",
    "        AdressHolder.__init__(self, street, city, state, code)\n",
    "        self.phone = phone"
   ]
  },
  {
   "cell_type": "markdown",
   "metadata": {},
   "source": [
    "In this case, this would work, however, we must take the big picture into consideration here. `Contact` implicitly initializes the `object` class. And so does `Friend`, afterwards. The parent class has been set up twice. Here it is harmless, but it may mean disaster sometimes. For example, trying to connect to a database twice per request. So, the base class should be called only once, but in which order then?"
   ]
  },
  {
   "cell_type": "markdown",
   "metadata": {},
   "source": [
    "Let's give this an explanation with the following classes:"
   ]
  },
  {
   "cell_type": "code",
   "execution_count": 41,
   "metadata": {},
   "outputs": [],
   "source": [
    "class BaseClass:\n",
    "    base_calls = 0\n",
    "    def call_me(self):\n",
    "        print('Calling method on base class')\n",
    "        self.base_calls += 1\n",
    "\n",
    "class LeftSubclass(BaseClass):\n",
    "    left_calls = 0\n",
    "    def call_me(self):\n",
    "        BaseClass.call_me(self)\n",
    "        print('Calling left subclass')\n",
    "        self.left_calls += 1\n",
    "\n",
    "class RightSubclass(BaseClass):\n",
    "    right_calls = 0\n",
    "    def call_me(self):\n",
    "        BaseClass.call_me(self)\n",
    "        print('Calling right subclass')\n",
    "        self.right_calls += 1\n",
    "        \n",
    "class Subclass(LeftSubclass, RightSubclass):\n",
    "    sub_calls = 0\n",
    "    def call_me(self):\n",
    "        LeftSubclass.call_me(self)\n",
    "        RightSubclass.call_me(self)\n",
    "        print('Calling subclass')\n",
    "        self.sub_calls += 1"
   ]
  },
  {
   "cell_type": "code",
   "execution_count": 42,
   "metadata": {},
   "outputs": [
    {
     "name": "stdout",
     "output_type": "stream",
     "text": [
      "Calling method on base class\n",
      "Calling left subclass\n",
      "Calling method on base class\n",
      "Calling right subclass\n",
      "Calling subclass\n",
      "2 1 1 1\n"
     ]
    }
   ],
   "source": [
    "s = Subclass()\n",
    "s.call_me()\n",
    "print(s.base_calls, s.left_calls, s.right_calls, s.sub_calls)"
   ]
  },
  {
   "cell_type": "markdown",
   "metadata": {},
   "source": [
    "If we use `super`"
   ]
  },
  {
   "cell_type": "code",
   "execution_count": 45,
   "metadata": {},
   "outputs": [],
   "source": [
    "class BaseClass:\n",
    "    base_calls = 0\n",
    "    def call_me(self):\n",
    "        print('Calling method on base class')\n",
    "        self.base_calls += 1\n",
    "\n",
    "class LeftSubclass(BaseClass):\n",
    "    left_calls = 0\n",
    "    def call_me(self):\n",
    "        super().call_me()\n",
    "        print('Calling left subclass')\n",
    "        self.left_calls += 1\n",
    "\n",
    "class RightSubclass(BaseClass):\n",
    "    right_calls = 0\n",
    "    def call_me(self):\n",
    "        super().call_me()\n",
    "        print('Calling right subclass')\n",
    "        self.right_calls += 1\n",
    "        \n",
    "class Subclass(LeftSubclass, RightSubclass):\n",
    "    sub_calls = 0\n",
    "    def call_me(self):\n",
    "        super().call_me()\n",
    "        print('Calling subclass')\n",
    "        self.sub_calls += 1"
   ]
  },
  {
   "cell_type": "code",
   "execution_count": 46,
   "metadata": {},
   "outputs": [
    {
     "name": "stdout",
     "output_type": "stream",
     "text": [
      "Calling method on base class\n",
      "Calling right subclass\n",
      "Calling left subclass\n",
      "Calling subclass\n",
      "1 1 1 1\n"
     ]
    }
   ],
   "source": [
    "s = Subclass()\n",
    "s.call_me()\n",
    "print(s.base_calls, s.left_calls, s.right_calls, s.sub_calls)"
   ]
  },
  {
   "cell_type": "markdown",
   "metadata": {},
   "source": [
    "Now it works. What did `super()` call in the `Subclass`? Well, first comes `Subclass`, that goes to `LeftClass`, but this `super()` does not call `BaseCass`, but `RightClass`. `super()` called the class **next** to `LeftClass`, even when it is not a superclass, and ensures that each method in the hierarchy is executed only once."
   ]
  },
  {
   "cell_type": "markdown",
   "metadata": {},
   "source": [
    "However, we still have a problem. If we go back to the `Friend` class, we see that we were calling its parents with **different arguments**."
   ]
  },
  {
   "cell_type": "markdown",
   "metadata": {},
   "source": [
    "```Python\n",
    "Contact.__init__(self, name, email)\n",
    "AdressHolder.__init__(self, street, city, state, code)\n",
    "```"
   ]
  },
  {
   "cell_type": "markdown",
   "metadata": {},
   "source": [
    "We do not really know which class `super` is gonna initialize first. Now the solution starts to get messy:"
   ]
  },
  {
   "cell_type": "code",
   "execution_count": 3,
   "metadata": {},
   "outputs": [],
   "source": [
    "class Contact():\n",
    "    contact_list = []\n",
    "    \n",
    "    def __init__(self, name = '', email = '', **kwargs):\n",
    "        super().__init__(**kwargs)\n",
    "        self.name = name\n",
    "        self.email = email\n",
    "        self.contact_list.append(self)\n",
    "    \n",
    "class AdressHolder():\n",
    "    def __init__(self, street = '', city = '', state = '', code = '', **kwargs):\n",
    "        super().__init__(**kwargs)\n",
    "        self.street = street\n",
    "        self.city = city\n",
    "        self.state = state\n",
    "        self.code = code\n",
    "        \n",
    "class Friend(Contact, AdressHolder):\n",
    "    def __init__(self, phone = '', **kwargs):\n",
    "        super().__init__(**kwargs)\n",
    "        self.phone = phone"
   ]
  },
  {
   "cell_type": "markdown",
   "metadata": {},
   "source": [
    "Now this is messy, and presents some problems. If we want to reuse variables in parent classes, this is inefficient, because the `**kwargs` dictionaries do not include the variables that were included as explicit keyword arguments. It can be worked out, but it is a problem that is easy to miss."
   ]
  },
  {
   "cell_type": "markdown",
   "metadata": {},
   "source": [
    "## 5. Polimorphism"
   ]
  },
  {
   "cell_type": "markdown",
   "metadata": {},
   "source": [
    "It describes different behaviors happening when using different subclases. For example, an `AudioFile` class."
   ]
  },
  {
   "cell_type": "code",
   "execution_count": 1,
   "metadata": {},
   "outputs": [],
   "source": [
    "class AudioFile():\n",
    "    def __init__(self, filename):\n",
    "        if not filename.endswith(self.ext):\n",
    "            raise Exception('Invalid File Format')\n",
    "        self.filename = filename\n",
    "\n",
    "class MP3File(AudioFile):\n",
    "    ext = 'mp3'\n",
    "    def play(self):\n",
    "        print('Playing {0!r} as {1!r}'.format(self.filename, self.ext))\n",
    "        \n",
    "class WavFile(AudioFile):\n",
    "    ext = 'wav'\n",
    "    def play(self):\n",
    "        print('Playing {0!r} as {1!r}'.format(self.filename, self.ext))\n",
    "        \n",
    "class OggFile(AudioFile):\n",
    "    ext = 'ogg'\n",
    "    def play(self):\n",
    "        print('Playing {0!r} as {1!r}'.format(self.filename, self.ext))"
   ]
  },
  {
   "cell_type": "code",
   "execution_count": 23,
   "metadata": {},
   "outputs": [
    {
     "name": "stdout",
     "output_type": "stream",
     "text": [
      "Playing 'Run_to_the_hills.mp3' as 'mp3'\n",
      "Playing 'Run_to_the_hills.mp3' as 'Mp3'\n",
      "Playing 'Let_it_go.mp3' as 'mp3'\n",
      "Playing 'Mirror_mirror.ogg' as 'ogg'\n"
     ]
    }
   ],
   "source": [
    "mp3 = MP3File('Run_to_the_hills.mp3')\n",
    "ogg = OggFile('Mirror_mirror.ogg')\n",
    "mp32 = MP3File('Let_it_go.mp3')\n",
    "\n",
    "mp3.play()\n",
    "mp3.ext = mp3.ext.capitalize()\n",
    "mp3.play()\n",
    "mp32.play()\n",
    "ogg.play()"
   ]
  },
  {
   "cell_type": "markdown",
   "metadata": {},
   "source": [
    "Now `AudioFile.__init__` is able to check the file type without actually knowing what subclass is referring to."
   ]
  },
  {
   "cell_type": "markdown",
   "metadata": {},
   "source": [
    "## 6. Encapsulation"
   ]
  },
  {
   "cell_type": "markdown",
   "metadata": {},
   "source": [
    "Python is not very effective regarding the protection of hidden variables from extern accesses. However, it is good when hidding them from other objects."
   ]
  },
  {
   "cell_type": "code",
   "execution_count": 19,
   "metadata": {},
   "outputs": [],
   "source": [
    "class Hidden(object):\n",
    "    def __init__(self):\n",
    "        self.__hiddenX = 0\n",
    "    def show_x(self):\n",
    "        return self._Hidden__hiddenX\n",
    "    def increase_x(self):\n",
    "        self._Hidden__hiddenX += 1"
   ]
  },
  {
   "cell_type": "code",
   "execution_count": 20,
   "metadata": {},
   "outputs": [
    {
     "data": {
      "text/plain": [
       "['_Hidden__hiddenX',\n",
       " '__class__',\n",
       " '__delattr__',\n",
       " '__dict__',\n",
       " '__dir__',\n",
       " '__doc__',\n",
       " '__eq__',\n",
       " '__format__',\n",
       " '__ge__',\n",
       " '__getattribute__',\n",
       " '__gt__',\n",
       " '__hash__',\n",
       " '__init__',\n",
       " '__init_subclass__',\n",
       " '__le__',\n",
       " '__lt__',\n",
       " '__module__',\n",
       " '__ne__',\n",
       " '__new__',\n",
       " '__reduce__',\n",
       " '__reduce_ex__',\n",
       " '__repr__',\n",
       " '__setattr__',\n",
       " '__sizeof__',\n",
       " '__str__',\n",
       " '__subclasshook__',\n",
       " '__weakref__',\n",
       " 'increase_x',\n",
       " 'show_x']"
      ]
     },
     "execution_count": 20,
     "metadata": {},
     "output_type": "execute_result"
    }
   ],
   "source": [
    "h = Hidden()\n",
    "dir(h)"
   ]
  },
  {
   "cell_type": "code",
   "execution_count": 11,
   "metadata": {},
   "outputs": [
    {
     "name": "stdout",
     "output_type": "stream",
     "text": [
      "0\n",
      "1\n"
     ]
    }
   ],
   "source": [
    "print(h.show_x())\n",
    "h.increase_x()\n",
    "print(h.show_x())"
   ]
  },
  {
   "cell_type": "code",
   "execution_count": 12,
   "metadata": {},
   "outputs": [
    {
     "ename": "AttributeError",
     "evalue": "'Hidden' object has no attribute '__hiddenX'",
     "output_type": "error",
     "traceback": [
      "\u001b[1;31m---------------------------------------------------------------------------\u001b[0m",
      "\u001b[1;31mAttributeError\u001b[0m                            Traceback (most recent call last)",
      "\u001b[1;32m<ipython-input-12-33ec168a1754>\u001b[0m in \u001b[0;36m<module>\u001b[1;34m\u001b[0m\n\u001b[1;32m----> 1\u001b[1;33m \u001b[0mh\u001b[0m\u001b[1;33m.\u001b[0m\u001b[0m__hiddenX\u001b[0m\u001b[1;33m\u001b[0m\u001b[1;33m\u001b[0m\u001b[0m\n\u001b[0m",
      "\u001b[1;31mAttributeError\u001b[0m: 'Hidden' object has no attribute '__hiddenX'"
     ]
    }
   ],
   "source": [
    "h.__hiddenX"
   ]
  },
  {
   "cell_type": "code",
   "execution_count": 16,
   "metadata": {},
   "outputs": [
    {
     "data": {
      "text/plain": [
       "5"
      ]
     },
     "execution_count": 16,
     "metadata": {},
     "output_type": "execute_result"
    }
   ],
   "source": [
    "h._Hidden__hiddenX += 2\n",
    "h._Hidden__hiddenX"
   ]
  },
  {
   "cell_type": "markdown",
   "metadata": {},
   "source": [
    "## 7. Name mangling"
   ]
  },
  {
   "cell_type": "markdown",
   "metadata": {},
   "source": [
    "Before, we have seen that using `__` includes some functionality. This functionality is called **name mangling**. This phenomenon, as we have seen, replaces the double underscore with `_ClassName` before it. For example:\n",
    "\n",
    "`__hiddenX` became `_Hidden__hiddenX`."
   ]
  },
  {
   "cell_type": "markdown",
   "metadata": {},
   "source": [
    "That's why once we knew how to refer to it, we were able to change it and access it. Let's see another example:"
   ]
  },
  {
   "cell_type": "code",
   "execution_count": 21,
   "metadata": {},
   "outputs": [],
   "source": [
    "class Mangling():\n",
    "    def __init__(self, *args):\n",
    "        self.__first = args[0]\n",
    "    def __printing(self):\n",
    "        print(self.__first)\n",
    "    \n",
    "    printing = __printing"
   ]
  },
  {
   "cell_type": "code",
   "execution_count": 24,
   "metadata": {},
   "outputs": [
    {
     "ename": "AttributeError",
     "evalue": "'Mangling' object has no attribute '__first'",
     "output_type": "error",
     "traceback": [
      "\u001b[1;31m---------------------------------------------------------------------------\u001b[0m",
      "\u001b[1;31mAttributeError\u001b[0m                            Traceback (most recent call last)",
      "\u001b[1;32m<ipython-input-24-bde540be52ae>\u001b[0m in \u001b[0;36m<module>\u001b[1;34m\u001b[0m\n\u001b[0;32m      1\u001b[0m \u001b[0mi\u001b[0m \u001b[1;33m=\u001b[0m \u001b[0mMangling\u001b[0m\u001b[1;33m(\u001b[0m\u001b[1;36m2\u001b[0m\u001b[1;33m,\u001b[0m\u001b[1;36m3\u001b[0m\u001b[1;33m,\u001b[0m\u001b[1;36m4\u001b[0m\u001b[1;33m)\u001b[0m\u001b[1;33m\u001b[0m\u001b[1;33m\u001b[0m\u001b[0m\n\u001b[1;32m----> 2\u001b[1;33m \u001b[0mprint\u001b[0m\u001b[1;33m(\u001b[0m\u001b[0mi\u001b[0m\u001b[1;33m.\u001b[0m\u001b[0m__first\u001b[0m\u001b[1;33m)\u001b[0m\u001b[1;33m\u001b[0m\u001b[1;33m\u001b[0m\u001b[0m\n\u001b[0m",
      "\u001b[1;31mAttributeError\u001b[0m: 'Mangling' object has no attribute '__first'"
     ]
    }
   ],
   "source": [
    "i = Mangling(2,3,4)\n",
    "print(i.__first)"
   ]
  },
  {
   "cell_type": "code",
   "execution_count": 28,
   "metadata": {},
   "outputs": [
    {
     "name": "stdout",
     "output_type": "stream",
     "text": [
      "2\n",
      "2\n"
     ]
    }
   ],
   "source": [
    "i = Mangling(2,3,4)\n",
    "print(i._Mangling__first)\n",
    "i._Mangling__printing()"
   ]
  },
  {
   "cell_type": "markdown",
   "metadata": {},
   "source": [
    "Now, the reason that this was introduced. According to official Python documentation, it is helpful for letting subclasses override methods without breaking intraclass method calls. For example:"
   ]
  },
  {
   "cell_type": "code",
   "execution_count": 1,
   "metadata": {},
   "outputs": [],
   "source": [
    "class MainClass:\n",
    "    def __init__(self, i):\n",
    "        self.items_list = []\n",
    "        self.__update(i)\n",
    "    \n",
    "    def update(self, i):\n",
    "        for item in i:\n",
    "            self.items_list.append(item)\n",
    "            \n",
    "    __update = update  # Private copy of original update() method\n",
    "    \n",
    "class SubClass(MainClass):\n",
    "    def update(self, keys, values):\n",
    "        # This does not break __init__()\n",
    "        for item in zip(keys, values):\n",
    "            self.items_list.append(item)"
   ]
  },
  {
   "cell_type": "markdown",
   "metadata": {},
   "source": [
    "Now, if we try to call the update method of the main class:"
   ]
  },
  {
   "cell_type": "code",
   "execution_count": 8,
   "metadata": {},
   "outputs": [
    {
     "ename": "TypeError",
     "evalue": "update() missing 1 required positional argument: 'values'",
     "output_type": "error",
     "traceback": [
      "\u001b[1;31m---------------------------------------------------------------------------\u001b[0m",
      "\u001b[1;31mTypeError\u001b[0m                                 Traceback (most recent call last)",
      "\u001b[1;32m<ipython-input-8-3b343f936afa>\u001b[0m in \u001b[0;36m<module>\u001b[1;34m\u001b[0m\n\u001b[0;32m      1\u001b[0m \u001b[0minstance\u001b[0m \u001b[1;33m=\u001b[0m \u001b[0mSubClass\u001b[0m\u001b[1;33m(\u001b[0m\u001b[1;33m[\u001b[0m\u001b[1;34m'potato'\u001b[0m\u001b[1;33m]\u001b[0m\u001b[1;33m)\u001b[0m\u001b[1;33m\u001b[0m\u001b[1;33m\u001b[0m\u001b[0m\n\u001b[1;32m----> 2\u001b[1;33m \u001b[0minstance\u001b[0m\u001b[1;33m.\u001b[0m\u001b[0mupdate\u001b[0m\u001b[1;33m(\u001b[0m\u001b[1;33m[\u001b[0m\u001b[1;34m'superpotato'\u001b[0m\u001b[1;33m]\u001b[0m\u001b[1;33m)\u001b[0m\u001b[1;33m\u001b[0m\u001b[1;33m\u001b[0m\u001b[0m\n\u001b[0m",
      "\u001b[1;31mTypeError\u001b[0m: update() missing 1 required positional argument: 'values'"
     ]
    }
   ],
   "source": [
    "instance = SubClass(['potato'])\n",
    "instance.update(['superpotato'])"
   ]
  },
  {
   "cell_type": "markdown",
   "metadata": {},
   "source": [
    "However, we can still call it since we know how it is mangled. And we can call its own method as well:"
   ]
  },
  {
   "cell_type": "code",
   "execution_count": 9,
   "metadata": {},
   "outputs": [
    {
     "data": {
      "text/plain": [
       "['potato', 'superpotato', ('fruits', 'apples')]"
      ]
     },
     "execution_count": 9,
     "metadata": {},
     "output_type": "execute_result"
    }
   ],
   "source": [
    "instance = SubClass(['potato'])\n",
    "instance._MainClass__update(['superpotato'])\n",
    "instance.update(['fruits'],['apples'])\n",
    "instance.items_list"
   ]
  },
  {
   "cell_type": "markdown",
   "metadata": {},
   "source": [
    "Had we not done the mangled copy, the method would have been overriden completely by the subclass' method."
   ]
  }
 ],
 "metadata": {
  "kernelspec": {
   "display_name": "Python 3",
   "language": "python",
   "name": "python3"
  },
  "language_info": {
   "codemirror_mode": {
    "name": "ipython",
    "version": 3
   },
   "file_extension": ".py",
   "mimetype": "text/x-python",
   "name": "python",
   "nbconvert_exporter": "python",
   "pygments_lexer": "ipython3",
   "version": "3.7.3"
  }
 },
 "nbformat": 4,
 "nbformat_minor": 2
}
